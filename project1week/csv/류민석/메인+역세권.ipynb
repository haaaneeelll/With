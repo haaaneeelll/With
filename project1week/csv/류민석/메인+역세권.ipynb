{
 "cells": [
  {
   "cell_type": "markdown",
   "id": "dec9b2ac",
   "metadata": {},
   "source": [
    "## 메인 + 역세권"
   ]
  },
  {
   "cell_type": "code",
   "execution_count": 1,
   "id": "bb14efca",
   "metadata": {
    "scrolled": true
   },
   "outputs": [
    {
     "data": {
      "text/html": [
       "<div>\n",
       "<style scoped>\n",
       "    .dataframe tbody tr th:only-of-type {\n",
       "        vertical-align: middle;\n",
       "    }\n",
       "\n",
       "    .dataframe tbody tr th {\n",
       "        vertical-align: top;\n",
       "    }\n",
       "\n",
       "    .dataframe thead th {\n",
       "        text-align: right;\n",
       "    }\n",
       "</style>\n",
       "<table border=\"1\" class=\"dataframe\">\n",
       "  <thead>\n",
       "    <tr style=\"text-align: right;\">\n",
       "      <th></th>\n",
       "      <th>Unnamed: 0</th>\n",
       "      <th>시군구</th>\n",
       "      <th>전월세구분</th>\n",
       "      <th>보증금(만원)</th>\n",
       "      <th>건축년도</th>\n",
       "      <th>구분</th>\n",
       "      <th>전용면적(㎡)</th>\n",
       "      <th>층</th>\n",
       "      <th>도로명주소</th>\n",
       "      <th>계약시작</th>\n",
       "      <th>계약종료</th>\n",
       "      <th>계약년월일</th>\n",
       "      <th>구</th>\n",
       "      <th>건축나이</th>\n",
       "    </tr>\n",
       "  </thead>\n",
       "  <tbody>\n",
       "    <tr>\n",
       "      <th>0</th>\n",
       "      <td>0</td>\n",
       "      <td>서울특별시 강남구 개포동</td>\n",
       "      <td>전세</td>\n",
       "      <td>7500</td>\n",
       "      <td>1989</td>\n",
       "      <td>단독다가구</td>\n",
       "      <td>44.0</td>\n",
       "      <td>3.0</td>\n",
       "      <td>서울특별시 강남구 논현로4길</td>\n",
       "      <td>2022-06-01</td>\n",
       "      <td>2024-06-01</td>\n",
       "      <td>2022-06-01</td>\n",
       "      <td>강남구</td>\n",
       "      <td>34</td>\n",
       "    </tr>\n",
       "    <tr>\n",
       "      <th>1</th>\n",
       "      <td>1</td>\n",
       "      <td>서울특별시 강남구 개포동</td>\n",
       "      <td>전세</td>\n",
       "      <td>11000</td>\n",
       "      <td>1994</td>\n",
       "      <td>단독다가구</td>\n",
       "      <td>44.0</td>\n",
       "      <td>3.0</td>\n",
       "      <td>서울특별시 강남구 논현로10길</td>\n",
       "      <td>2022-05-01</td>\n",
       "      <td>2024-05-01</td>\n",
       "      <td>2022-05-20</td>\n",
       "      <td>강남구</td>\n",
       "      <td>29</td>\n",
       "    </tr>\n",
       "    <tr>\n",
       "      <th>2</th>\n",
       "      <td>2</td>\n",
       "      <td>서울특별시 강남구 개포동</td>\n",
       "      <td>전세</td>\n",
       "      <td>16800</td>\n",
       "      <td>2000</td>\n",
       "      <td>단독다가구</td>\n",
       "      <td>44.0</td>\n",
       "      <td>3.0</td>\n",
       "      <td>서울특별시 강남구 개포로20길</td>\n",
       "      <td>2022-02-01</td>\n",
       "      <td>2024-02-01</td>\n",
       "      <td>2022-01-22</td>\n",
       "      <td>강남구</td>\n",
       "      <td>23</td>\n",
       "    </tr>\n",
       "    <tr>\n",
       "      <th>3</th>\n",
       "      <td>3</td>\n",
       "      <td>서울특별시 강남구 개포동</td>\n",
       "      <td>전세</td>\n",
       "      <td>13000</td>\n",
       "      <td>1989</td>\n",
       "      <td>단독다가구</td>\n",
       "      <td>44.0</td>\n",
       "      <td>3.0</td>\n",
       "      <td>서울특별시 강남구 개포로15길</td>\n",
       "      <td>NaN</td>\n",
       "      <td>NaN</td>\n",
       "      <td>2022-02-18</td>\n",
       "      <td>강남구</td>\n",
       "      <td>34</td>\n",
       "    </tr>\n",
       "    <tr>\n",
       "      <th>4</th>\n",
       "      <td>4</td>\n",
       "      <td>서울특별시 강남구 개포동</td>\n",
       "      <td>전세</td>\n",
       "      <td>8000</td>\n",
       "      <td>1995</td>\n",
       "      <td>단독다가구</td>\n",
       "      <td>44.0</td>\n",
       "      <td>3.0</td>\n",
       "      <td>서울특별시 강남구 논현로6길</td>\n",
       "      <td>2022-07-01</td>\n",
       "      <td>2024-07-01</td>\n",
       "      <td>2022-06-25</td>\n",
       "      <td>강남구</td>\n",
       "      <td>28</td>\n",
       "    </tr>\n",
       "  </tbody>\n",
       "</table>\n",
       "</div>"
      ],
      "text/plain": [
       "   Unnamed: 0            시군구 전월세구분  보증금(만원)  건축년도     구분  전용면적(㎡)    층  \\\n",
       "0           0  서울특별시 강남구 개포동    전세     7500  1989  단독다가구     44.0  3.0   \n",
       "1           1  서울특별시 강남구 개포동    전세    11000  1994  단독다가구     44.0  3.0   \n",
       "2           2  서울특별시 강남구 개포동    전세    16800  2000  단독다가구     44.0  3.0   \n",
       "3           3  서울특별시 강남구 개포동    전세    13000  1989  단독다가구     44.0  3.0   \n",
       "4           4  서울특별시 강남구 개포동    전세     8000  1995  단독다가구     44.0  3.0   \n",
       "\n",
       "              도로명주소        계약시작        계약종료       계약년월일    구  건축나이  \n",
       "0   서울특별시 강남구 논현로4길  2022-06-01  2024-06-01  2022-06-01  강남구    34  \n",
       "1  서울특별시 강남구 논현로10길  2022-05-01  2024-05-01  2022-05-20  강남구    29  \n",
       "2  서울특별시 강남구 개포로20길  2022-02-01  2024-02-01  2022-01-22  강남구    23  \n",
       "3  서울특별시 강남구 개포로15길         NaN         NaN  2022-02-18  강남구    34  \n",
       "4   서울특별시 강남구 논현로6길  2022-07-01  2024-07-01  2022-06-25  강남구    28  "
      ]
     },
     "execution_count": 1,
     "metadata": {},
     "output_type": "execute_result"
    }
   ],
   "source": [
    "import pandas as pd\n",
    "\n",
    "df_main = pd.read_csv('./main/강남구전세(3차전처리).csv', encoding='utf-8')\n",
    "df_main.head()"
   ]
  },
  {
   "cell_type": "code",
   "execution_count": 2,
   "id": "3f168765",
   "metadata": {},
   "outputs": [],
   "source": [
    "df_main.drop('Unnamed: 0', axis=1, inplace=True)"
   ]
  },
  {
   "cell_type": "code",
   "execution_count": 3,
   "id": "54060070",
   "metadata": {
    "scrolled": true
   },
   "outputs": [
    {
     "name": "stdout",
     "output_type": "stream",
     "text": [
      "<class 'pandas.core.frame.DataFrame'>\n",
      "RangeIndex: 87361 entries, 0 to 87360\n",
      "Data columns (total 13 columns):\n",
      " #   Column   Non-Null Count  Dtype  \n",
      "---  ------   --------------  -----  \n",
      " 0   시군구      87361 non-null  object \n",
      " 1   전월세구분    87361 non-null  object \n",
      " 2   보증금(만원)  87361 non-null  int64  \n",
      " 3   건축년도     87361 non-null  int64  \n",
      " 4   구분       87361 non-null  object \n",
      " 5   전용면적(㎡)  87361 non-null  float64\n",
      " 6   층        87361 non-null  float64\n",
      " 7   도로명주소    87361 non-null  object \n",
      " 8   계약시작     25069 non-null  object \n",
      " 9   계약종료     25069 non-null  object \n",
      " 10  계약년월일    87361 non-null  object \n",
      " 11  구        87361 non-null  object \n",
      " 12  건축나이     87361 non-null  int64  \n",
      "dtypes: float64(2), int64(3), object(8)\n",
      "memory usage: 8.7+ MB\n"
     ]
    }
   ],
   "source": [
    "df_main.info()"
   ]
  },
  {
   "cell_type": "code",
   "execution_count": 4,
   "id": "bef0b66b",
   "metadata": {
    "scrolled": true
   },
   "outputs": [
    {
     "name": "stdout",
     "output_type": "stream",
     "text": [
      "<class 'pandas.core.frame.DataFrame'>\n",
      "RangeIndex: 87361 entries, 0 to 87360\n",
      "Data columns (total 13 columns):\n",
      " #   Column   Non-Null Count  Dtype         \n",
      "---  ------   --------------  -----         \n",
      " 0   시군구      87361 non-null  object        \n",
      " 1   전월세구분    87361 non-null  object        \n",
      " 2   보증금(만원)  87361 non-null  int64         \n",
      " 3   건축년도     87361 non-null  int64         \n",
      " 4   구분       87361 non-null  object        \n",
      " 5   전용면적(㎡)  87361 non-null  float64       \n",
      " 6   층        87361 non-null  float64       \n",
      " 7   도로명주소    87361 non-null  object        \n",
      " 8   계약시작     25069 non-null  object        \n",
      " 9   계약종료     25069 non-null  object        \n",
      " 10  계약년월일    87361 non-null  datetime64[ns]\n",
      " 11  구        87361 non-null  object        \n",
      " 12  건축나이     87361 non-null  int64         \n",
      "dtypes: datetime64[ns](1), float64(2), int64(3), object(7)\n",
      "memory usage: 8.7+ MB\n"
     ]
    }
   ],
   "source": [
    "df_main['계약년월일'] = pd.to_datetime(df_main['계약년월일'], format='%Y-%m-%d', errors='coerce')\n",
    "df_main.info()"
   ]
  },
  {
   "cell_type": "code",
   "execution_count": 5,
   "id": "afc71398",
   "metadata": {},
   "outputs": [
    {
     "data": {
      "text/html": [
       "<div>\n",
       "<style scoped>\n",
       "    .dataframe tbody tr th:only-of-type {\n",
       "        vertical-align: middle;\n",
       "    }\n",
       "\n",
       "    .dataframe tbody tr th {\n",
       "        vertical-align: top;\n",
       "    }\n",
       "\n",
       "    .dataframe thead th {\n",
       "        text-align: right;\n",
       "    }\n",
       "</style>\n",
       "<table border=\"1\" class=\"dataframe\">\n",
       "  <thead>\n",
       "    <tr style=\"text-align: right;\">\n",
       "      <th></th>\n",
       "      <th>역사_ID</th>\n",
       "      <th>역명</th>\n",
       "      <th>호선_x</th>\n",
       "      <th>위도</th>\n",
       "      <th>경도</th>\n",
       "      <th>철도운영기관명</th>\n",
       "      <th>호선_y</th>\n",
       "      <th>지번주소</th>\n",
       "      <th>도로명주소</th>\n",
       "    </tr>\n",
       "  </thead>\n",
       "  <tbody>\n",
       "    <tr>\n",
       "      <th>0</th>\n",
       "      <td>4307</td>\n",
       "      <td>강남</td>\n",
       "      <td>신분당선</td>\n",
       "      <td>37.496837</td>\n",
       "      <td>127.028104</td>\n",
       "      <td>서울교통공사</td>\n",
       "      <td>2호선</td>\n",
       "      <td>서울특별시 강남구 역삼동 858 강남역(2호선)</td>\n",
       "      <td>서울특별시 강남구 강남대로 지하396(역삼동)</td>\n",
       "    </tr>\n",
       "    <tr>\n",
       "      <th>1</th>\n",
       "      <td>4306</td>\n",
       "      <td>신논현</td>\n",
       "      <td>신분당선(연장2)</td>\n",
       "      <td>37.504598</td>\n",
       "      <td>127.025060</td>\n",
       "      <td>서울9호선</td>\n",
       "      <td>9호선</td>\n",
       "      <td>서울특별시 강남구 역삼동 800</td>\n",
       "      <td>서울특별시 강남구 봉은사로 102</td>\n",
       "    </tr>\n",
       "    <tr>\n",
       "      <th>2</th>\n",
       "      <td>4305</td>\n",
       "      <td>논현</td>\n",
       "      <td>신분당선(연장2)</td>\n",
       "      <td>37.511093</td>\n",
       "      <td>127.021415</td>\n",
       "      <td>서울교통공사</td>\n",
       "      <td>7호선</td>\n",
       "      <td>서울특별시 강남구 논현동 279-67 논현역(7호선)</td>\n",
       "      <td>서울특별시 강남구 학동로 지하102(논현동)</td>\n",
       "    </tr>\n",
       "    <tr>\n",
       "      <th>3</th>\n",
       "      <td>4304</td>\n",
       "      <td>신사</td>\n",
       "      <td>신분당선(연장2)</td>\n",
       "      <td>37.516334</td>\n",
       "      <td>127.020114</td>\n",
       "      <td>서울교통공사</td>\n",
       "      <td>3호선</td>\n",
       "      <td>서울특별시 강남구 신사동 667 신사역(3호선)</td>\n",
       "      <td>서울특별시 강남구 도산대로 지하102(신사동)</td>\n",
       "    </tr>\n",
       "    <tr>\n",
       "      <th>4</th>\n",
       "      <td>4129</td>\n",
       "      <td>봉은사</td>\n",
       "      <td>9호선(연장)</td>\n",
       "      <td>37.514219</td>\n",
       "      <td>127.060245</td>\n",
       "      <td>서울9호선</td>\n",
       "      <td>9호선</td>\n",
       "      <td>서울특별시 강남구 삼성동 172</td>\n",
       "      <td>서울특별시 강남구 봉은사로 601</td>\n",
       "    </tr>\n",
       "  </tbody>\n",
       "</table>\n",
       "</div>"
      ],
      "text/plain": [
       "   역사_ID   역명       호선_x         위도          경도 철도운영기관명 호선_y  \\\n",
       "0   4307   강남       신분당선  37.496837  127.028104  서울교통공사  2호선   \n",
       "1   4306  신논현  신분당선(연장2)  37.504598  127.025060   서울9호선  9호선   \n",
       "2   4305   논현  신분당선(연장2)  37.511093  127.021415  서울교통공사  7호선   \n",
       "3   4304   신사  신분당선(연장2)  37.516334  127.020114  서울교통공사  3호선   \n",
       "4   4129  봉은사    9호선(연장)  37.514219  127.060245   서울9호선  9호선   \n",
       "\n",
       "                            지번주소                      도로명주소  \n",
       "0     서울특별시 강남구 역삼동 858 강남역(2호선)  서울특별시 강남구 강남대로 지하396(역삼동)  \n",
       "1              서울특별시 강남구 역삼동 800         서울특별시 강남구 봉은사로 102  \n",
       "2  서울특별시 강남구 논현동 279-67 논현역(7호선)   서울특별시 강남구 학동로 지하102(논현동)  \n",
       "3     서울특별시 강남구 신사동 667 신사역(3호선)  서울특별시 강남구 도산대로 지하102(신사동)  \n",
       "4              서울특별시 강남구 삼성동 172         서울특별시 강남구 봉은사로 601  "
      ]
     },
     "execution_count": 5,
     "metadata": {},
     "output_type": "execute_result"
    }
   ],
   "source": [
    "df_subway = pd.read_csv('./subway/강남구지하철역_전_u.csv', encoding='utf-8')\n",
    "df_subway.head()"
   ]
  },
  {
   "cell_type": "code",
   "execution_count": 6,
   "id": "27e600c1",
   "metadata": {},
   "outputs": [
    {
     "name": "stdout",
     "output_type": "stream",
     "text": [
      "<class 'pandas.core.frame.DataFrame'>\n",
      "RangeIndex: 27 entries, 0 to 26\n",
      "Data columns (total 9 columns):\n",
      " #   Column   Non-Null Count  Dtype  \n",
      "---  ------   --------------  -----  \n",
      " 0   역사_ID    27 non-null     int64  \n",
      " 1   역명       27 non-null     object \n",
      " 2   호선_x     27 non-null     object \n",
      " 3   위도       27 non-null     float64\n",
      " 4   경도       27 non-null     float64\n",
      " 5   철도운영기관명  27 non-null     object \n",
      " 6   호선_y     27 non-null     object \n",
      " 7   지번주소     27 non-null     object \n",
      " 8   도로명주소    27 non-null     object \n",
      "dtypes: float64(2), int64(1), object(6)\n",
      "memory usage: 2.0+ KB\n"
     ]
    }
   ],
   "source": [
    "df_subway.info()"
   ]
  },
  {
   "cell_type": "code",
   "execution_count": 7,
   "id": "31b550c0",
   "metadata": {},
   "outputs": [
    {
     "name": "stdout",
     "output_type": "stream",
     "text": [
      "<class 'pandas.core.frame.DataFrame'>\n",
      "RangeIndex: 27 entries, 0 to 26\n",
      "Data columns (total 9 columns):\n",
      " #   Column   Non-Null Count  Dtype  \n",
      "---  ------   --------------  -----  \n",
      " 0   역사_ID    27 non-null     int64  \n",
      " 1   역명       27 non-null     object \n",
      " 2   호선_x     27 non-null     object \n",
      " 3   역세권위도    27 non-null     float64\n",
      " 4   역세권경도    27 non-null     float64\n",
      " 5   철도운영기관명  27 non-null     object \n",
      " 6   호선_y     27 non-null     object \n",
      " 7   지번주소     27 non-null     object \n",
      " 8   도로명주소    27 non-null     object \n",
      "dtypes: float64(2), int64(1), object(6)\n",
      "memory usage: 2.0+ KB\n"
     ]
    }
   ],
   "source": [
    "df_subway = df_subway.rename(columns={'위도':'역세권위도', '경도':'역세권경도'})\n",
    "df_subway.info()"
   ]
  },
  {
   "cell_type": "code",
   "execution_count": 8,
   "id": "8e7bb36a",
   "metadata": {},
   "outputs": [
    {
     "name": "stdout",
     "output_type": "stream",
     "text": [
      "<class 'pandas.core.frame.DataFrame'>\n",
      "RangeIndex: 27 entries, 0 to 26\n",
      "Data columns (total 2 columns):\n",
      " #   Column  Non-Null Count  Dtype  \n",
      "---  ------  --------------  -----  \n",
      " 0   역세권위도   27 non-null     float64\n",
      " 1   역세권경도   27 non-null     float64\n",
      "dtypes: float64(2)\n",
      "memory usage: 560.0 bytes\n"
     ]
    }
   ],
   "source": [
    "df_subway = df_subway[['역세권위도','역세권경도']]\n",
    "df_subway.info()"
   ]
  },
  {
   "cell_type": "code",
   "execution_count": 9,
   "id": "0554690f",
   "metadata": {
    "scrolled": true
   },
   "outputs": [
    {
     "name": "stdout",
     "output_type": "stream",
     "text": [
      "<class 'pandas.core.frame.DataFrame'>\n",
      "Int64Index: 2358747 entries, 0 to 2358746\n",
      "Data columns (total 15 columns):\n",
      " #   Column   Dtype         \n",
      "---  ------   -----         \n",
      " 0   시군구      object        \n",
      " 1   전월세구분    object        \n",
      " 2   보증금(만원)  int64         \n",
      " 3   건축년도     int64         \n",
      " 4   구분       object        \n",
      " 5   전용면적(㎡)  float64       \n",
      " 6   층        float64       \n",
      " 7   도로명주소    object        \n",
      " 8   계약시작     object        \n",
      " 9   계약종료     object        \n",
      " 10  계약년월일    datetime64[ns]\n",
      " 11  구        object        \n",
      " 12  건축나이     int64         \n",
      " 13  역세권위도    float64       \n",
      " 14  역세권경도    float64       \n",
      "dtypes: datetime64[ns](1), float64(4), int64(3), object(7)\n",
      "memory usage: 287.9+ MB\n"
     ]
    }
   ],
   "source": [
    "df = pd.merge(df_main, df_subway, how='cross')\n",
    "df.info()"
   ]
  },
  {
   "cell_type": "code",
   "execution_count": 10,
   "id": "89124301",
   "metadata": {},
   "outputs": [
    {
     "data": {
      "text/plain": [
       "2358747"
      ]
     },
     "execution_count": 10,
     "metadata": {},
     "output_type": "execute_result"
    }
   ],
   "source": [
    "len(df_main)*len(df_subway)"
   ]
  },
  {
   "cell_type": "code",
   "execution_count": null,
   "id": "78923e66",
   "metadata": {},
   "outputs": [],
   "source": []
  },
  {
   "cell_type": "code",
   "execution_count": null,
   "id": "9a70725f",
   "metadata": {},
   "outputs": [],
   "source": []
  },
  {
   "cell_type": "code",
   "execution_count": null,
   "id": "6e45e87b",
   "metadata": {},
   "outputs": [],
   "source": []
  }
 ],
 "metadata": {
  "kernelspec": {
   "display_name": "Python 3 (ipykernel)",
   "language": "python",
   "name": "python3"
  },
  "language_info": {
   "codemirror_mode": {
    "name": "ipython",
    "version": 3
   },
   "file_extension": ".py",
   "mimetype": "text/x-python",
   "name": "python",
   "nbconvert_exporter": "python",
   "pygments_lexer": "ipython3",
   "version": "3.9.13"
  }
 },
 "nbformat": 4,
 "nbformat_minor": 5
}
