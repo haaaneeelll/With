{
 "cells": [
  {
   "cell_type": "markdown",
   "id": "ae32331d",
   "metadata": {},
   "source": [
    "## 메인 + 대규모"
   ]
  },
  {
   "cell_type": "code",
   "execution_count": 29,
   "id": "98227ff2",
   "metadata": {
    "scrolled": true
   },
   "outputs": [
    {
     "data": {
      "text/html": [
       "<div>\n",
       "<style scoped>\n",
       "    .dataframe tbody tr th:only-of-type {\n",
       "        vertical-align: middle;\n",
       "    }\n",
       "\n",
       "    .dataframe tbody tr th {\n",
       "        vertical-align: top;\n",
       "    }\n",
       "\n",
       "    .dataframe thead th {\n",
       "        text-align: right;\n",
       "    }\n",
       "</style>\n",
       "<table border=\"1\" class=\"dataframe\">\n",
       "  <thead>\n",
       "    <tr style=\"text-align: right;\">\n",
       "      <th></th>\n",
       "      <th>Unnamed: 0</th>\n",
       "      <th>시군구</th>\n",
       "      <th>전월세구분</th>\n",
       "      <th>보증금(만원)</th>\n",
       "      <th>건축년도</th>\n",
       "      <th>구분</th>\n",
       "      <th>전용면적(㎡)</th>\n",
       "      <th>층</th>\n",
       "      <th>도로명주소</th>\n",
       "      <th>계약시작</th>\n",
       "      <th>계약종료</th>\n",
       "      <th>계약년월일</th>\n",
       "      <th>구</th>\n",
       "      <th>건축나이</th>\n",
       "    </tr>\n",
       "  </thead>\n",
       "  <tbody>\n",
       "    <tr>\n",
       "      <th>0</th>\n",
       "      <td>0</td>\n",
       "      <td>서울특별시 강남구 개포동</td>\n",
       "      <td>전세</td>\n",
       "      <td>7500</td>\n",
       "      <td>1989</td>\n",
       "      <td>단독다가구</td>\n",
       "      <td>44.0</td>\n",
       "      <td>3.0</td>\n",
       "      <td>서울특별시 강남구 논현로4길</td>\n",
       "      <td>2022-06-01</td>\n",
       "      <td>2024-06-01</td>\n",
       "      <td>2022-06-01</td>\n",
       "      <td>강남구</td>\n",
       "      <td>34</td>\n",
       "    </tr>\n",
       "    <tr>\n",
       "      <th>1</th>\n",
       "      <td>1</td>\n",
       "      <td>서울특별시 강남구 개포동</td>\n",
       "      <td>전세</td>\n",
       "      <td>11000</td>\n",
       "      <td>1994</td>\n",
       "      <td>단독다가구</td>\n",
       "      <td>44.0</td>\n",
       "      <td>3.0</td>\n",
       "      <td>서울특별시 강남구 논현로10길</td>\n",
       "      <td>2022-05-01</td>\n",
       "      <td>2024-05-01</td>\n",
       "      <td>2022-05-20</td>\n",
       "      <td>강남구</td>\n",
       "      <td>29</td>\n",
       "    </tr>\n",
       "    <tr>\n",
       "      <th>2</th>\n",
       "      <td>2</td>\n",
       "      <td>서울특별시 강남구 개포동</td>\n",
       "      <td>전세</td>\n",
       "      <td>16800</td>\n",
       "      <td>2000</td>\n",
       "      <td>단독다가구</td>\n",
       "      <td>44.0</td>\n",
       "      <td>3.0</td>\n",
       "      <td>서울특별시 강남구 개포로20길</td>\n",
       "      <td>2022-02-01</td>\n",
       "      <td>2024-02-01</td>\n",
       "      <td>2022-01-22</td>\n",
       "      <td>강남구</td>\n",
       "      <td>23</td>\n",
       "    </tr>\n",
       "    <tr>\n",
       "      <th>3</th>\n",
       "      <td>3</td>\n",
       "      <td>서울특별시 강남구 개포동</td>\n",
       "      <td>전세</td>\n",
       "      <td>13000</td>\n",
       "      <td>1989</td>\n",
       "      <td>단독다가구</td>\n",
       "      <td>44.0</td>\n",
       "      <td>3.0</td>\n",
       "      <td>서울특별시 강남구 개포로15길</td>\n",
       "      <td>NaN</td>\n",
       "      <td>NaN</td>\n",
       "      <td>2022-02-18</td>\n",
       "      <td>강남구</td>\n",
       "      <td>34</td>\n",
       "    </tr>\n",
       "    <tr>\n",
       "      <th>4</th>\n",
       "      <td>4</td>\n",
       "      <td>서울특별시 강남구 개포동</td>\n",
       "      <td>전세</td>\n",
       "      <td>8000</td>\n",
       "      <td>1995</td>\n",
       "      <td>단독다가구</td>\n",
       "      <td>44.0</td>\n",
       "      <td>3.0</td>\n",
       "      <td>서울특별시 강남구 논현로6길</td>\n",
       "      <td>2022-07-01</td>\n",
       "      <td>2024-07-01</td>\n",
       "      <td>2022-06-25</td>\n",
       "      <td>강남구</td>\n",
       "      <td>28</td>\n",
       "    </tr>\n",
       "  </tbody>\n",
       "</table>\n",
       "</div>"
      ],
      "text/plain": [
       "   Unnamed: 0            시군구 전월세구분  보증금(만원)  건축년도     구분  전용면적(㎡)    층  \\\n",
       "0           0  서울특별시 강남구 개포동    전세     7500  1989  단독다가구     44.0  3.0   \n",
       "1           1  서울특별시 강남구 개포동    전세    11000  1994  단독다가구     44.0  3.0   \n",
       "2           2  서울특별시 강남구 개포동    전세    16800  2000  단독다가구     44.0  3.0   \n",
       "3           3  서울특별시 강남구 개포동    전세    13000  1989  단독다가구     44.0  3.0   \n",
       "4           4  서울특별시 강남구 개포동    전세     8000  1995  단독다가구     44.0  3.0   \n",
       "\n",
       "              도로명주소        계약시작        계약종료       계약년월일    구  건축나이  \n",
       "0   서울특별시 강남구 논현로4길  2022-06-01  2024-06-01  2022-06-01  강남구    34  \n",
       "1  서울특별시 강남구 논현로10길  2022-05-01  2024-05-01  2022-05-20  강남구    29  \n",
       "2  서울특별시 강남구 개포로20길  2022-02-01  2024-02-01  2022-01-22  강남구    23  \n",
       "3  서울특별시 강남구 개포로15길         NaN         NaN  2022-02-18  강남구    34  \n",
       "4   서울특별시 강남구 논현로6길  2022-07-01  2024-07-01  2022-06-25  강남구    28  "
      ]
     },
     "execution_count": 29,
     "metadata": {},
     "output_type": "execute_result"
    }
   ],
   "source": [
    "import pandas as pd\n",
    "\n",
    "df_main = pd.read_csv('./main/강남구전세(3차전처리).csv', encoding='utf-8')\n",
    "df_main.head()"
   ]
  },
  {
   "cell_type": "code",
   "execution_count": 30,
   "id": "f2208674",
   "metadata": {},
   "outputs": [],
   "source": [
    "df_main.drop('Unnamed: 0', axis=1, inplace=True)"
   ]
  },
  {
   "cell_type": "code",
   "execution_count": 31,
   "id": "54060070",
   "metadata": {
    "scrolled": false
   },
   "outputs": [
    {
     "name": "stdout",
     "output_type": "stream",
     "text": [
      "<class 'pandas.core.frame.DataFrame'>\n",
      "RangeIndex: 87361 entries, 0 to 87360\n",
      "Data columns (total 13 columns):\n",
      " #   Column   Non-Null Count  Dtype  \n",
      "---  ------   --------------  -----  \n",
      " 0   시군구      87361 non-null  object \n",
      " 1   전월세구분    87361 non-null  object \n",
      " 2   보증금(만원)  87361 non-null  int64  \n",
      " 3   건축년도     87361 non-null  int64  \n",
      " 4   구분       87361 non-null  object \n",
      " 5   전용면적(㎡)  87361 non-null  float64\n",
      " 6   층        87361 non-null  float64\n",
      " 7   도로명주소    87361 non-null  object \n",
      " 8   계약시작     25069 non-null  object \n",
      " 9   계약종료     25069 non-null  object \n",
      " 10  계약년월일    87361 non-null  object \n",
      " 11  구        87361 non-null  object \n",
      " 12  건축나이     87361 non-null  int64  \n",
      "dtypes: float64(2), int64(3), object(8)\n",
      "memory usage: 8.7+ MB\n"
     ]
    }
   ],
   "source": [
    "df_main.info()"
   ]
  },
  {
   "cell_type": "code",
   "execution_count": 32,
   "id": "262d6179",
   "metadata": {
    "scrolled": true
   },
   "outputs": [
    {
     "name": "stdout",
     "output_type": "stream",
     "text": [
      "<class 'pandas.core.frame.DataFrame'>\n",
      "RangeIndex: 87361 entries, 0 to 87360\n",
      "Data columns (total 13 columns):\n",
      " #   Column   Non-Null Count  Dtype         \n",
      "---  ------   --------------  -----         \n",
      " 0   시군구      87361 non-null  object        \n",
      " 1   전월세구분    87361 non-null  object        \n",
      " 2   보증금(만원)  87361 non-null  int64         \n",
      " 3   건축년도     87361 non-null  int64         \n",
      " 4   구분       87361 non-null  object        \n",
      " 5   전용면적(㎡)  87361 non-null  float64       \n",
      " 6   층        87361 non-null  float64       \n",
      " 7   도로명주소    87361 non-null  object        \n",
      " 8   계약시작     25069 non-null  object        \n",
      " 9   계약종료     25069 non-null  object        \n",
      " 10  계약년월일    87361 non-null  datetime64[ns]\n",
      " 11  구        87361 non-null  object        \n",
      " 12  건축나이     87361 non-null  int64         \n",
      "dtypes: datetime64[ns](1), float64(2), int64(3), object(7)\n",
      "memory usage: 8.7+ MB\n"
     ]
    }
   ],
   "source": [
    "df_main['계약년월일'] = pd.to_datetime(df_main['계약년월일'], format='%Y-%m-%d', errors='coerce')\n",
    "df_main.info()"
   ]
  },
  {
   "cell_type": "markdown",
   "id": "40d64ef4",
   "metadata": {},
   "source": [
    "## + 대규모"
   ]
  },
  {
   "cell_type": "code",
   "execution_count": 33,
   "id": "501bb129",
   "metadata": {
    "scrolled": true
   },
   "outputs": [
    {
     "name": "stdout",
     "output_type": "stream",
     "text": [
      "<class 'pandas.core.frame.DataFrame'>\n",
      "RangeIndex: 71 entries, 0 to 70\n",
      "Data columns (total 19 columns):\n",
      " #   Column     Non-Null Count  Dtype  \n",
      "---  ------     --------------  -----  \n",
      " 0   개방자치단체코드   71 non-null     int64  \n",
      " 1   인허가일자      71 non-null     object \n",
      " 2   인허가취소일자    1 non-null      float64\n",
      " 3   영업상태코드     71 non-null     int64  \n",
      " 4   영업상태명      71 non-null     object \n",
      " 5   상세영업상태코드   71 non-null     int64  \n",
      " 6   상세영업상태명    71 non-null     object \n",
      " 7   폐업일자       15 non-null     float64\n",
      " 8   휴업시작일자     1 non-null      float64\n",
      " 9   휴업종료일자     1 non-null      float64\n",
      " 10  재개업일자      1 non-null      float64\n",
      " 11  소재지면적      67 non-null     float64\n",
      " 12  지번주소       55 non-null     object \n",
      " 13  도로명주소      60 non-null     object \n",
      " 14  Latitude   60 non-null     float64\n",
      " 15  Longitude  60 non-null     float64\n",
      " 16  사업장명       71 non-null     object \n",
      " 17  업태구분명      70 non-null     object \n",
      " 18  점포구분명      55 non-null     object \n",
      "dtypes: float64(8), int64(3), object(8)\n",
      "memory usage: 10.7+ KB\n"
     ]
    }
   ],
   "source": [
    "import pandas as pd\n",
    "\n",
    "df_store = pd.read_csv('./대규모점포/강남구_대규모점포.csv', encoding='utf-8')\n",
    "df_store.info()"
   ]
  },
  {
   "cell_type": "code",
   "execution_count": 34,
   "id": "a5cc7694",
   "metadata": {
    "scrolled": true
   },
   "outputs": [
    {
     "name": "stdout",
     "output_type": "stream",
     "text": [
      "<class 'pandas.core.frame.DataFrame'>\n",
      "Int64Index: 60 entries, 1 to 70\n",
      "Data columns (total 19 columns):\n",
      " #   Column     Non-Null Count  Dtype  \n",
      "---  ------     --------------  -----  \n",
      " 0   개방자치단체코드   60 non-null     int64  \n",
      " 1   인허가일자      60 non-null     object \n",
      " 2   인허가취소일자    0 non-null      float64\n",
      " 3   영업상태코드     60 non-null     int64  \n",
      " 4   영업상태명      60 non-null     object \n",
      " 5   상세영업상태코드   60 non-null     int64  \n",
      " 6   상세영업상태명    60 non-null     object \n",
      " 7   폐업일자       12 non-null     float64\n",
      " 8   휴업시작일자     1 non-null      float64\n",
      " 9   휴업종료일자     1 non-null      float64\n",
      " 10  재개업일자      1 non-null      float64\n",
      " 11  소재지면적      60 non-null     float64\n",
      " 12  지번주소       44 non-null     object \n",
      " 13  도로명주소      60 non-null     object \n",
      " 14  Latitude   60 non-null     float64\n",
      " 15  Longitude  60 non-null     float64\n",
      " 16  사업장명       60 non-null     object \n",
      " 17  업태구분명      59 non-null     object \n",
      " 18  점포구분명      53 non-null     object \n",
      "dtypes: float64(8), int64(3), object(8)\n",
      "memory usage: 9.4+ KB\n"
     ]
    }
   ],
   "source": [
    "df_store = df_store[df_store['도로명주소'].isnull()==False]\n",
    "df_store.info()"
   ]
  },
  {
   "cell_type": "code",
   "execution_count": 35,
   "id": "b7ab1eb3",
   "metadata": {
    "scrolled": true
   },
   "outputs": [
    {
     "name": "stdout",
     "output_type": "stream",
     "text": [
      "<class 'pandas.core.frame.DataFrame'>\n",
      "Int64Index: 60 entries, 1 to 70\n",
      "Data columns (total 2 columns):\n",
      " #   Column  Non-Null Count  Dtype         \n",
      "---  ------  --------------  -----         \n",
      " 0   인허가일자   57 non-null     datetime64[ns]\n",
      " 1   폐업일자    12 non-null     datetime64[ns]\n",
      "dtypes: datetime64[ns](2)\n",
      "memory usage: 1.4 KB\n"
     ]
    }
   ],
   "source": [
    "# df_store['인허가일자'] = pd.to_datetime(df_store['인허가일자'], format='%Y%m%d', errors='coerce')\n",
    "# df_store['폐업일자'] = pd.to_datetime(df_store['폐업일자'], format='%Y%m%d', errors='coerce')\n",
    "df_store_2 = pd.DataFrame()\n",
    "df_store_2['인허가일자'] = pd.to_datetime(df_store['인허가일자'], format='%Y%m%d', errors='coerce')\n",
    "df_store_2['폐업일자'] = pd.to_datetime(df_store['폐업일자'], format='%Y%m%d', errors='coerce')\n",
    "df_store_2.info()"
   ]
  },
  {
   "cell_type": "code",
   "execution_count": 36,
   "id": "497ce270",
   "metadata": {
    "scrolled": true
   },
   "outputs": [
    {
     "data": {
      "text/plain": [
       "1    1984-02-08\n",
       "2    1996-11-15\n",
       "3    1974-11-10\n",
       "4    1973-08-01\n",
       "5    1979-01-17\n",
       "6    1987-02-02\n",
       "8    1976-08-07\n",
       "9           NaT\n",
       "10   1978-05-26\n",
       "11   1980-05-19\n",
       "12   1983-10-11\n",
       "13   1985-02-06\n",
       "14   1979-04-16\n",
       "15   1984-05-25\n",
       "16   1981-04-14\n",
       "17   1974-12-27\n",
       "18   1992-12-26\n",
       "19   1994-06-15\n",
       "20   1994-06-15\n",
       "21   1994-06-15\n",
       "26   1985-11-30\n",
       "27   1988-10-10\n",
       "28          NaT\n",
       "29   2000-06-16\n",
       "30   1988-10-19\n",
       "31   2000-05-01\n",
       "32   2000-05-03\n",
       "35   2003-01-28\n",
       "38   1988-05-13\n",
       "39   2006-10-24\n",
       "40   2006-10-18\n",
       "41   2009-09-30\n",
       "42   2009-11-09\n",
       "43   2005-08-29\n",
       "44   2010-12-30\n",
       "45   2011-04-12\n",
       "46   2011-04-12\n",
       "47   2011-06-23\n",
       "48   2012-07-26\n",
       "49   2012-04-05\n",
       "50   2012-05-18\n",
       "51   2013-02-15\n",
       "52   2013-06-04\n",
       "53   2013-12-04\n",
       "54   2014-03-25\n",
       "55   2012-07-02\n",
       "56   2011-11-24\n",
       "57   2011-12-02\n",
       "58   2012-01-19\n",
       "59   2012-07-02\n",
       "60   2012-07-02\n",
       "61          NaT\n",
       "62   2012-07-02\n",
       "63   2014-09-16\n",
       "64   2014-11-25\n",
       "65   2015-12-11\n",
       "66   2016-12-29\n",
       "68   2021-03-19\n",
       "69   2022-04-12\n",
       "70   2022-09-15\n",
       "Name: 인허가일자, dtype: datetime64[ns]"
      ]
     },
     "execution_count": 36,
     "metadata": {},
     "output_type": "execute_result"
    }
   ],
   "source": [
    "df_store_2['인허가일자']"
   ]
  },
  {
   "cell_type": "code",
   "execution_count": 37,
   "id": "843f3348",
   "metadata": {
    "scrolled": true
   },
   "outputs": [
    {
     "data": {
      "text/plain": [
       "1       19840208\n",
       "2       19961115\n",
       "3       19741110\n",
       "4       19730801\n",
       "5       19790117\n",
       "6       19870202\n",
       "8       19760807\n",
       "9     1985-07-08\n",
       "10      19780526\n",
       "11      19800519\n",
       "12      19831011\n",
       "13      19850206\n",
       "14      19790416\n",
       "15      19840525\n",
       "16      19810414\n",
       "17      19741227\n",
       "18      19921226\n",
       "19      19940615\n",
       "20      19940615\n",
       "21      19940615\n",
       "26      19851130\n",
       "27      19881010\n",
       "28    1985-03-18\n",
       "29      20000616\n",
       "30      19881019\n",
       "31      20000501\n",
       "32      20000503\n",
       "35      20030128\n",
       "38      19880513\n",
       "39      20061024\n",
       "40      20061018\n",
       "41      20090930\n",
       "42      20091109\n",
       "43      20050829\n",
       "44      20101230\n",
       "45      20110412\n",
       "46      20110412\n",
       "47      20110623\n",
       "48      20120726\n",
       "49      20120405\n",
       "50      20120518\n",
       "51      20130215\n",
       "52      20130604\n",
       "53      20131204\n",
       "54      20140325\n",
       "55      20120702\n",
       "56      20111124\n",
       "57      20111202\n",
       "58      20120119\n",
       "59      20120702\n",
       "60      20120702\n",
       "61    2012-07-02\n",
       "62      20120702\n",
       "63      20140916\n",
       "64      20141125\n",
       "65      20151211\n",
       "66      20161229\n",
       "68      20210319\n",
       "69      20220412\n",
       "70      20220915\n",
       "Name: 인허가일자, dtype: object"
      ]
     },
     "execution_count": 37,
     "metadata": {},
     "output_type": "execute_result"
    }
   ],
   "source": [
    "df_store['인허가일자']"
   ]
  },
  {
   "cell_type": "code",
   "execution_count": 38,
   "id": "bc00d251",
   "metadata": {
    "scrolled": true
   },
   "outputs": [
    {
     "data": {
      "text/plain": [
       "1     19840208\n",
       "2     19961115\n",
       "3     19741110\n",
       "4     19730801\n",
       "5     19790117\n",
       "6     19870202\n",
       "8     19760807\n",
       "9     19850708\n",
       "10    19780526\n",
       "11    19800519\n",
       "12    19831011\n",
       "13    19850206\n",
       "14    19790416\n",
       "15    19840525\n",
       "16    19810414\n",
       "17    19741227\n",
       "18    19921226\n",
       "19    19940615\n",
       "20    19940615\n",
       "21    19940615\n",
       "26    19851130\n",
       "27    19881010\n",
       "28    19850318\n",
       "29    20000616\n",
       "30    19881019\n",
       "31    20000501\n",
       "32    20000503\n",
       "35    20030128\n",
       "38    19880513\n",
       "39    20061024\n",
       "40    20061018\n",
       "41    20090930\n",
       "42    20091109\n",
       "43    20050829\n",
       "44    20101230\n",
       "45    20110412\n",
       "46    20110412\n",
       "47    20110623\n",
       "48    20120726\n",
       "49    20120405\n",
       "50    20120518\n",
       "51    20130215\n",
       "52    20130604\n",
       "53    20131204\n",
       "54    20140325\n",
       "55    20120702\n",
       "56    20111124\n",
       "57    20111202\n",
       "58    20120119\n",
       "59    20120702\n",
       "60    20120702\n",
       "61    20120702\n",
       "62    20120702\n",
       "63    20140916\n",
       "64    20141125\n",
       "65    20151211\n",
       "66    20161229\n",
       "68    20210319\n",
       "69    20220412\n",
       "70    20220915\n",
       "Name: 인허가일자, dtype: object"
      ]
     },
     "execution_count": 38,
     "metadata": {},
     "output_type": "execute_result"
    }
   ],
   "source": [
    "def date_preprocessing(date):\n",
    "    if date.find('-') != -1:\n",
    "        return date.replace('-','')\n",
    "    return date\n",
    "\n",
    "df_store['인허가일자'] = df_store['인허가일자'].apply(date_preprocessing)\n",
    "df_store['인허가일자']"
   ]
  },
  {
   "cell_type": "code",
   "execution_count": 39,
   "id": "394b72e0",
   "metadata": {
    "scrolled": true
   },
   "outputs": [
    {
     "name": "stdout",
     "output_type": "stream",
     "text": [
      "<class 'pandas.core.frame.DataFrame'>\n",
      "Int64Index: 60 entries, 1 to 70\n",
      "Data columns (total 19 columns):\n",
      " #   Column     Non-Null Count  Dtype         \n",
      "---  ------     --------------  -----         \n",
      " 0   개방자치단체코드   60 non-null     int64         \n",
      " 1   인허가일자      60 non-null     datetime64[ns]\n",
      " 2   인허가취소일자    0 non-null      float64       \n",
      " 3   영업상태코드     60 non-null     int64         \n",
      " 4   영업상태명      60 non-null     object        \n",
      " 5   상세영업상태코드   60 non-null     int64         \n",
      " 6   상세영업상태명    60 non-null     object        \n",
      " 7   폐업일자       12 non-null     datetime64[ns]\n",
      " 8   휴업시작일자     1 non-null      float64       \n",
      " 9   휴업종료일자     1 non-null      float64       \n",
      " 10  재개업일자      1 non-null      float64       \n",
      " 11  소재지면적      60 non-null     float64       \n",
      " 12  지번주소       44 non-null     object        \n",
      " 13  도로명주소      60 non-null     object        \n",
      " 14  Latitude   60 non-null     float64       \n",
      " 15  Longitude  60 non-null     float64       \n",
      " 16  사업장명       60 non-null     object        \n",
      " 17  업태구분명      59 non-null     object        \n",
      " 18  점포구분명      53 non-null     object        \n",
      "dtypes: datetime64[ns](2), float64(7), int64(3), object(7)\n",
      "memory usage: 9.4+ KB\n"
     ]
    }
   ],
   "source": [
    "df_store['인허가일자'] = pd.to_datetime(df_store['인허가일자'], format='%Y%m%d', errors='coerce')\n",
    "df_store['폐업일자'] = pd.to_datetime(df_store['폐업일자'], format='%Y%m%d', errors='coerce')\n",
    "df_store.info()"
   ]
  },
  {
   "cell_type": "code",
   "execution_count": 40,
   "id": "d8734e65",
   "metadata": {},
   "outputs": [
    {
     "data": {
      "text/plain": [
       "array([      nan, 20110415.])"
      ]
     },
     "execution_count": 40,
     "metadata": {},
     "output_type": "execute_result"
    }
   ],
   "source": [
    "df_store['휴업시작일자'].unique()"
   ]
  },
  {
   "cell_type": "code",
   "execution_count": 41,
   "id": "3867f0c1",
   "metadata": {},
   "outputs": [
    {
     "data": {
      "text/plain": [
       "array([      nan, 20140430.])"
      ]
     },
     "execution_count": 41,
     "metadata": {},
     "output_type": "execute_result"
    }
   ],
   "source": [
    "df_store['휴업종료일자'].unique()"
   ]
  },
  {
   "cell_type": "code",
   "execution_count": 42,
   "id": "630d9762",
   "metadata": {},
   "outputs": [
    {
     "data": {
      "text/plain": [
       "array([      nan, 20140326.])"
      ]
     },
     "execution_count": 42,
     "metadata": {},
     "output_type": "execute_result"
    }
   ],
   "source": [
    "df_store['재개업일자'].unique()"
   ]
  },
  {
   "cell_type": "code",
   "execution_count": 43,
   "id": "47c2dfcd",
   "metadata": {
    "scrolled": true
   },
   "outputs": [
    {
     "name": "stdout",
     "output_type": "stream",
     "text": [
      "<class 'pandas.core.frame.DataFrame'>\n",
      "Int64Index: 60 entries, 1 to 70\n",
      "Data columns (total 19 columns):\n",
      " #   Column    Non-Null Count  Dtype         \n",
      "---  ------    --------------  -----         \n",
      " 0   개방자치단체코드  60 non-null     int64         \n",
      " 1   인허가일자     60 non-null     datetime64[ns]\n",
      " 2   인허가취소일자   0 non-null      float64       \n",
      " 3   영업상태코드    60 non-null     int64         \n",
      " 4   영업상태명     60 non-null     object        \n",
      " 5   상세영업상태코드  60 non-null     int64         \n",
      " 6   상세영업상태명   60 non-null     object        \n",
      " 7   폐업일자      12 non-null     datetime64[ns]\n",
      " 8   휴업시작일자    1 non-null      float64       \n",
      " 9   휴업종료일자    1 non-null      float64       \n",
      " 10  재개업일자     1 non-null      float64       \n",
      " 11  소재지면적     60 non-null     float64       \n",
      " 12  지번주소      44 non-null     object        \n",
      " 13  도로명주소     60 non-null     object        \n",
      " 14  대규모점포위도   60 non-null     float64       \n",
      " 15  대규모점포경도   60 non-null     float64       \n",
      " 16  사업장명      60 non-null     object        \n",
      " 17  업태구분명     59 non-null     object        \n",
      " 18  점포구분명     53 non-null     object        \n",
      "dtypes: datetime64[ns](2), float64(7), int64(3), object(7)\n",
      "memory usage: 9.4+ KB\n"
     ]
    }
   ],
   "source": [
    "df_store = df_store.rename(columns = {'Latitude':'대규모점포위도', 'Longitude':'대규모점포경도'})\n",
    "df_store.info()"
   ]
  },
  {
   "cell_type": "code",
   "execution_count": 44,
   "id": "412bdda5",
   "metadata": {},
   "outputs": [
    {
     "data": {
      "text/plain": [
       "대규모점포     39\n",
       "준대규모점포    14\n",
       "Name: 점포구분명, dtype: int64"
      ]
     },
     "execution_count": 44,
     "metadata": {},
     "output_type": "execute_result"
    }
   ],
   "source": [
    "df_store['점포구분명'].value_counts()"
   ]
  },
  {
   "cell_type": "code",
   "execution_count": 45,
   "id": "f411c35a",
   "metadata": {
    "scrolled": true
   },
   "outputs": [
    {
     "data": {
      "text/html": [
       "<div>\n",
       "<style scoped>\n",
       "    .dataframe tbody tr th:only-of-type {\n",
       "        vertical-align: middle;\n",
       "    }\n",
       "\n",
       "    .dataframe tbody tr th {\n",
       "        vertical-align: top;\n",
       "    }\n",
       "\n",
       "    .dataframe thead th {\n",
       "        text-align: right;\n",
       "    }\n",
       "</style>\n",
       "<table border=\"1\" class=\"dataframe\">\n",
       "  <thead>\n",
       "    <tr style=\"text-align: right;\">\n",
       "      <th></th>\n",
       "      <th>개방자치단체코드</th>\n",
       "      <th>인허가일자</th>\n",
       "      <th>인허가취소일자</th>\n",
       "      <th>영업상태코드</th>\n",
       "      <th>영업상태명</th>\n",
       "      <th>상세영업상태코드</th>\n",
       "      <th>상세영업상태명</th>\n",
       "      <th>폐업일자</th>\n",
       "      <th>휴업시작일자</th>\n",
       "      <th>휴업종료일자</th>\n",
       "      <th>재개업일자</th>\n",
       "      <th>소재지면적</th>\n",
       "      <th>지번주소</th>\n",
       "      <th>도로명주소</th>\n",
       "      <th>대규모점포위도</th>\n",
       "      <th>대규모점포경도</th>\n",
       "      <th>사업장명</th>\n",
       "      <th>업태구분명</th>\n",
       "      <th>점포구분명</th>\n",
       "    </tr>\n",
       "  </thead>\n",
       "  <tbody>\n",
       "    <tr>\n",
       "      <th>9</th>\n",
       "      <td>3220000</td>\n",
       "      <td>1985-07-08</td>\n",
       "      <td>NaN</td>\n",
       "      <td>1</td>\n",
       "      <td>영업/정상</td>\n",
       "      <td>1</td>\n",
       "      <td>정상영업</td>\n",
       "      <td>NaT</td>\n",
       "      <td>NaN</td>\n",
       "      <td>NaN</td>\n",
       "      <td>NaN</td>\n",
       "      <td>10250.00</td>\n",
       "      <td>서울특별시 강남구 압구정동 515호</td>\n",
       "      <td>서울특별시 강남구 압구정로 407 (압구정동, 갤러리아백화점)</td>\n",
       "      <td>37.528080</td>\n",
       "      <td>127.041569</td>\n",
       "      <td>갤러리아백화점(동관)</td>\n",
       "      <td>백화점</td>\n",
       "      <td>NaN</td>\n",
       "    </tr>\n",
       "    <tr>\n",
       "      <th>28</th>\n",
       "      <td>3220000</td>\n",
       "      <td>1985-03-18</td>\n",
       "      <td>NaN</td>\n",
       "      <td>1</td>\n",
       "      <td>영업/정상</td>\n",
       "      <td>1</td>\n",
       "      <td>정상영업</td>\n",
       "      <td>NaT</td>\n",
       "      <td>NaN</td>\n",
       "      <td>NaN</td>\n",
       "      <td>NaN</td>\n",
       "      <td>15358.00</td>\n",
       "      <td>서울특별시 강남구 압구정동 494호</td>\n",
       "      <td>서울특별시 강남구 압구정로 343 (압구정동, 갤러리아백화점)</td>\n",
       "      <td>37.528561</td>\n",
       "      <td>127.040055</td>\n",
       "      <td>갤러리아백화점(서관)</td>\n",
       "      <td>백화점</td>\n",
       "      <td>NaN</td>\n",
       "    </tr>\n",
       "    <tr>\n",
       "      <th>29</th>\n",
       "      <td>3220000</td>\n",
       "      <td>2000-06-16</td>\n",
       "      <td>NaN</td>\n",
       "      <td>1</td>\n",
       "      <td>영업/정상</td>\n",
       "      <td>1</td>\n",
       "      <td>정상영업</td>\n",
       "      <td>NaT</td>\n",
       "      <td>NaN</td>\n",
       "      <td>NaN</td>\n",
       "      <td>NaN</td>\n",
       "      <td>26532.00</td>\n",
       "      <td>서울특별시 강남구 대치동 937호</td>\n",
       "      <td>서울특별시 강남구 도곡로 401 (대치동)</td>\n",
       "      <td>37.497058</td>\n",
       "      <td>127.053594</td>\n",
       "      <td>롯데백화점(강남점)</td>\n",
       "      <td>백화점</td>\n",
       "      <td>NaN</td>\n",
       "    </tr>\n",
       "    <tr>\n",
       "      <th>53</th>\n",
       "      <td>3220000</td>\n",
       "      <td>2013-12-04</td>\n",
       "      <td>NaN</td>\n",
       "      <td>3</td>\n",
       "      <td>폐업</td>\n",
       "      <td>3</td>\n",
       "      <td>폐업처리</td>\n",
       "      <td>2022-08-19</td>\n",
       "      <td>NaN</td>\n",
       "      <td>NaN</td>\n",
       "      <td>NaN</td>\n",
       "      <td>3041.01</td>\n",
       "      <td>서울특별시 강남구 역삼1동 796번지 29호</td>\n",
       "      <td>서울특별시 강남구 논현로63길 16 (역삼동)</td>\n",
       "      <td>37.493001</td>\n",
       "      <td>127.039117</td>\n",
       "      <td>역삼서해더블루</td>\n",
       "      <td>그 밖의 대규모점포</td>\n",
       "      <td>NaN</td>\n",
       "    </tr>\n",
       "    <tr>\n",
       "      <th>61</th>\n",
       "      <td>3220000</td>\n",
       "      <td>2012-07-02</td>\n",
       "      <td>NaN</td>\n",
       "      <td>1</td>\n",
       "      <td>영업/정상</td>\n",
       "      <td>1</td>\n",
       "      <td>정상영업</td>\n",
       "      <td>NaT</td>\n",
       "      <td>NaN</td>\n",
       "      <td>NaN</td>\n",
       "      <td>NaN</td>\n",
       "      <td>294.90</td>\n",
       "      <td>NaN</td>\n",
       "      <td>서울특별시 강남구 봉은사로103길 5 (삼성동)</td>\n",
       "      <td>37.514995</td>\n",
       "      <td>127.061415</td>\n",
       "      <td>롯데슈퍼 코엑스점</td>\n",
       "      <td>구분없음</td>\n",
       "      <td>NaN</td>\n",
       "    </tr>\n",
       "    <tr>\n",
       "      <th>69</th>\n",
       "      <td>3220000</td>\n",
       "      <td>2022-04-12</td>\n",
       "      <td>NaN</td>\n",
       "      <td>1</td>\n",
       "      <td>영업/정상</td>\n",
       "      <td>1</td>\n",
       "      <td>정상영업</td>\n",
       "      <td>NaT</td>\n",
       "      <td>NaN</td>\n",
       "      <td>NaN</td>\n",
       "      <td>NaN</td>\n",
       "      <td>794.70</td>\n",
       "      <td>서울특별시 강남구 신사동 510-11 강남상가아파트</td>\n",
       "      <td>서울특별시 강남구 압구정로2길 46, 1층 (신사동, ---------)</td>\n",
       "      <td>37.518771</td>\n",
       "      <td>127.020669</td>\n",
       "      <td>이마트에브리데이 강남시장점</td>\n",
       "      <td>구분없음</td>\n",
       "      <td>NaN</td>\n",
       "    </tr>\n",
       "    <tr>\n",
       "      <th>70</th>\n",
       "      <td>3220000</td>\n",
       "      <td>2022-09-15</td>\n",
       "      <td>NaN</td>\n",
       "      <td>1</td>\n",
       "      <td>영업/정상</td>\n",
       "      <td>1</td>\n",
       "      <td>정상영업</td>\n",
       "      <td>NaT</td>\n",
       "      <td>NaN</td>\n",
       "      <td>NaN</td>\n",
       "      <td>NaN</td>\n",
       "      <td>198.00</td>\n",
       "      <td>서울특별시 강남구 신사동 638-6</td>\n",
       "      <td>서울특별시 강남구 압구정로 312, 신사동동 1층 (신사동)</td>\n",
       "      <td>37.528757</td>\n",
       "      <td>127.035514</td>\n",
       "      <td>GS THE FRESH 압구정점</td>\n",
       "      <td>구분없음</td>\n",
       "      <td>NaN</td>\n",
       "    </tr>\n",
       "  </tbody>\n",
       "</table>\n",
       "</div>"
      ],
      "text/plain": [
       "    개방자치단체코드      인허가일자  인허가취소일자  영업상태코드  영업상태명  상세영업상태코드 상세영업상태명       폐업일자  \\\n",
       "9    3220000 1985-07-08      NaN       1  영업/정상         1    정상영업        NaT   \n",
       "28   3220000 1985-03-18      NaN       1  영업/정상         1    정상영업        NaT   \n",
       "29   3220000 2000-06-16      NaN       1  영업/정상         1    정상영업        NaT   \n",
       "53   3220000 2013-12-04      NaN       3     폐업         3    폐업처리 2022-08-19   \n",
       "61   3220000 2012-07-02      NaN       1  영업/정상         1    정상영업        NaT   \n",
       "69   3220000 2022-04-12      NaN       1  영업/정상         1    정상영업        NaT   \n",
       "70   3220000 2022-09-15      NaN       1  영업/정상         1    정상영업        NaT   \n",
       "\n",
       "    휴업시작일자  휴업종료일자  재개업일자     소재지면적                          지번주소  \\\n",
       "9      NaN     NaN    NaN  10250.00           서울특별시 강남구 압구정동 515호   \n",
       "28     NaN     NaN    NaN  15358.00           서울특별시 강남구 압구정동 494호   \n",
       "29     NaN     NaN    NaN  26532.00            서울특별시 강남구 대치동 937호   \n",
       "53     NaN     NaN    NaN   3041.01      서울특별시 강남구 역삼1동 796번지 29호   \n",
       "61     NaN     NaN    NaN    294.90                           NaN   \n",
       "69     NaN     NaN    NaN    794.70  서울특별시 강남구 신사동 510-11 강남상가아파트   \n",
       "70     NaN     NaN    NaN    198.00           서울특별시 강남구 신사동 638-6   \n",
       "\n",
       "                                       도로명주소    대규모점포위도     대규모점포경도  \\\n",
       "9         서울특별시 강남구 압구정로 407 (압구정동, 갤러리아백화점)  37.528080  127.041569   \n",
       "28        서울특별시 강남구 압구정로 343 (압구정동, 갤러리아백화점)  37.528561  127.040055   \n",
       "29                   서울특별시 강남구 도곡로 401 (대치동)  37.497058  127.053594   \n",
       "53                 서울특별시 강남구 논현로63길 16 (역삼동)  37.493001  127.039117   \n",
       "61                서울특별시 강남구 봉은사로103길 5 (삼성동)  37.514995  127.061415   \n",
       "69  서울특별시 강남구 압구정로2길 46, 1층 (신사동, ---------)  37.518771  127.020669   \n",
       "70         서울특별시 강남구 압구정로 312, 신사동동 1층 (신사동)  37.528757  127.035514   \n",
       "\n",
       "                 사업장명       업태구분명 점포구분명  \n",
       "9         갤러리아백화점(동관)         백화점   NaN  \n",
       "28        갤러리아백화점(서관)         백화점   NaN  \n",
       "29         롯데백화점(강남점)         백화점   NaN  \n",
       "53            역삼서해더블루  그 밖의 대규모점포   NaN  \n",
       "61          롯데슈퍼 코엑스점        구분없음   NaN  \n",
       "69     이마트에브리데이 강남시장점        구분없음   NaN  \n",
       "70  GS THE FRESH 압구정점        구분없음   NaN  "
      ]
     },
     "execution_count": 45,
     "metadata": {},
     "output_type": "execute_result"
    }
   ],
   "source": [
    "df_store[df_store['점포구분명'].isnull()==True]"
   ]
  },
  {
   "cell_type": "code",
   "execution_count": 46,
   "id": "69c325dd",
   "metadata": {},
   "outputs": [
    {
     "name": "stdout",
     "output_type": "stream",
     "text": [
      "<class 'pandas.core.frame.DataFrame'>\n",
      "Int64Index: 60 entries, 1 to 70\n",
      "Data columns (total 19 columns):\n",
      " #   Column    Non-Null Count  Dtype         \n",
      "---  ------    --------------  -----         \n",
      " 0   개방자치단체코드  60 non-null     int64         \n",
      " 1   인허가일자     60 non-null     datetime64[ns]\n",
      " 2   인허가취소일자   0 non-null      float64       \n",
      " 3   영업상태코드    60 non-null     int64         \n",
      " 4   영업상태명     60 non-null     object        \n",
      " 5   상세영업상태코드  60 non-null     int64         \n",
      " 6   상세영업상태명   60 non-null     object        \n",
      " 7   폐업일자      12 non-null     datetime64[ns]\n",
      " 8   휴업시작일자    1 non-null      float64       \n",
      " 9   휴업종료일자    1 non-null      float64       \n",
      " 10  재개업일자     1 non-null      float64       \n",
      " 11  소재지면적     60 non-null     float64       \n",
      " 12  지번주소      44 non-null     object        \n",
      " 13  도로명주소     60 non-null     object        \n",
      " 14  대규모점포위도   60 non-null     float64       \n",
      " 15  대규모점포경도   60 non-null     float64       \n",
      " 16  사업장명      60 non-null     object        \n",
      " 17  업태구분명     59 non-null     object        \n",
      " 18  점포구분명     53 non-null     object        \n",
      "dtypes: datetime64[ns](2), float64(7), int64(3), object(7)\n",
      "memory usage: 9.4+ KB\n"
     ]
    }
   ],
   "source": [
    "df_store.info()"
   ]
  },
  {
   "cell_type": "code",
   "execution_count": 47,
   "id": "bee824ad",
   "metadata": {},
   "outputs": [],
   "source": [
    "df_store.to_csv('./대규모점포/강남구대규모점포_전_u.csv', index=False, encoding='utf-8')\n",
    "df_store.to_csv('./대규모점포/강남구대규모점포_전_c.csv', index=False, encoding='cp949')"
   ]
  },
  {
   "cell_type": "code",
   "execution_count": 48,
   "id": "f76150db",
   "metadata": {},
   "outputs": [
    {
     "name": "stdout",
     "output_type": "stream",
     "text": [
      "<class 'pandas.core.frame.DataFrame'>\n",
      "Int64Index: 60 entries, 1 to 70\n",
      "Data columns (total 4 columns):\n",
      " #   Column   Non-Null Count  Dtype         \n",
      "---  ------   --------------  -----         \n",
      " 0   인허가일자    60 non-null     datetime64[ns]\n",
      " 1   폐업일자     12 non-null     datetime64[ns]\n",
      " 2   대규모점포위도  60 non-null     float64       \n",
      " 3   대규모점포경도  60 non-null     float64       \n",
      "dtypes: datetime64[ns](2), float64(2)\n",
      "memory usage: 2.3 KB\n"
     ]
    }
   ],
   "source": [
    "df_store = df_store[['인허가일자','폐업일자','대규모점포위도','대규모점포경도']]\n",
    "df_store.info()"
   ]
  },
  {
   "cell_type": "code",
   "execution_count": 49,
   "id": "2f33c2e8",
   "metadata": {},
   "outputs": [],
   "source": [
    "df_store['폐업일자'] = pd.to_datetime(df_store['폐업일자'].fillna('20230101'), format='%Y%m%d', errors='coerce')"
   ]
  },
  {
   "cell_type": "code",
   "execution_count": 50,
   "id": "c046ab01",
   "metadata": {},
   "outputs": [
    {
     "name": "stdout",
     "output_type": "stream",
     "text": [
      "<class 'pandas.core.frame.DataFrame'>\n",
      "Int64Index: 60 entries, 1 to 70\n",
      "Data columns (total 4 columns):\n",
      " #   Column   Non-Null Count  Dtype         \n",
      "---  ------   --------------  -----         \n",
      " 0   인허가일자    60 non-null     datetime64[ns]\n",
      " 1   폐업일자     60 non-null     datetime64[ns]\n",
      " 2   대규모점포위도  60 non-null     float64       \n",
      " 3   대규모점포경도  60 non-null     float64       \n",
      "dtypes: datetime64[ns](2), float64(2)\n",
      "memory usage: 2.3 KB\n"
     ]
    }
   ],
   "source": [
    "df_store.info()"
   ]
  },
  {
   "cell_type": "code",
   "execution_count": 51,
   "id": "652405a4",
   "metadata": {},
   "outputs": [],
   "source": [
    "from typing import List, Union, Callable, Any, Optional\n",
    "\n",
    "import numpy as np\n",
    "import pandas as pd\n",
    "\n",
    "\n",
    "ColumnarType = Union[str, List[str]]\n",
    "\n",
    "\n",
    "def maybe_convert_to_list(something: Union[Any, List[Any]]) -> List[Any]:\n",
    "    \"\"\"\n",
    "    Make a list of one element if argument is not a list.\n",
    "    :param something:\n",
    "        single value or list\n",
    "    :return:\n",
    "        non-empty list\n",
    "    \"\"\"\n",
    "    return something if isinstance(something, list) else [something]\n",
    "\n",
    "\n",
    "def non_equi_inner_join(\n",
    "        left: pd.DataFrame,\n",
    "        right: pd.DataFrame,\n",
    "        non_equi_conditions: Union[Callable, List[Callable]],\n",
    "        equi_on: Optional[Union[ColumnarType]] = None,\n",
    "        equi_left_on: Optional[ColumnarType] = None,\n",
    "        equi_right_on: Optional[ColumnarType] = None,\n",
    "        n_partitioning_equi_keys: Optional[int] = None\n",
    "        ) -> pd.DataFrame:\n",
    "    \"\"\"\n",
    "    Join two `DataFrame`s by arbitrary conditions and,\n",
    "    optionally, by exact match of some columns (this\n",
    "    equi join part is regular merge from `pandas`).\n",
    "    :param left:\n",
    "        left `DataFrame`\n",
    "    :param right:\n",
    "        right `DataFrame`\n",
    "    :param non_equi_conditions:\n",
    "        functions such that their only argument is a `DataFrame`\n",
    "        produced by join that ignores non-equi join part\n",
    "        and result of each of them is a boolean mask that\n",
    "        tells which rows satisfy corresponding non-equi join\n",
    "        condition \n",
    "    :param equi_on:\n",
    "        columns to be used for equi join part, this argument\n",
    "        overrides `equi_left_on` and `equi_right_on`\n",
    "    :param equi_left_on:\n",
    "        columns of `left` to be used for equi join part\n",
    "    :param equi_right_on:\n",
    "        columns of `right` to be used for equi join part\n",
    "    :param n_partitioning_equi_keys:\n",
    "        number of equi join keys to be used for partitioning;\n",
    "        the corresponding number of first keys is selected, so\n",
    "        take this into consideration when ordering equi join keys;\n",
    "        partitioning means that, instead of running equi join\n",
    "        followed with filtering by non-equi conditions,\n",
    "        both `DataFrame`s are split by some of equi join keys,\n",
    "        then (equi_join+filtering) is run for each of the\n",
    "        partitions and, finally, results are concatenated;\n",
    "        the higher this argument, the slower execution can be,\n",
    "        but also the less memory is taken in case of large\n",
    "        enough `DataFrames`; default leads to usage of all\n",
    "        equi join keys for partitioning\n",
    "    :return:\n",
    "        joined `DataFrame`\n",
    "    Examples:\n",
    "    >>> left = pd.DataFrame([[1, 2, 3],\n",
    "    >>>                      [4, 5, 6],\n",
    "    >>>                      [7, 8, 9]],\n",
    "    >>>                     columns=['a', 'b', 'c'])\n",
    "    >>> right = pd.DataFrame([[1, 2.5, -3],\n",
    "    >>>                       [4, 7, -6],\n",
    "    >>>                       [6, 8.5, -9]],\n",
    "    >>>                      columns=['a', 'd', 'e'])\n",
    "    >>> non_equi_inner_join(\n",
    "    >>>     left,\n",
    "    >>>     right,\n",
    "    >>>     non_equi_conditions=[lambda x: x['d'] > x['b'],\n",
    "    >>>                          lambda x: x['d'] < x['c']],\n",
    "    >>>     equi_on='a'\n",
    "    >>> )\n",
    "        pd.DataFrame([[1, 2, 3, 2.5, -3]],\n",
    "                     columns=['a', 'b', 'c', 'd', 'e'])\n",
    "    \n",
    "    >>> non_equi_inner_join(\n",
    "    >>>     left,\n",
    "    >>>     right,\n",
    "    >>>     non_equi_conditions=[lambda x: x['d'] > x['b'],\n",
    "    >>>                          lambda x: x['d'] < x['c']]\n",
    "    >>> )\n",
    "        pd.DataFrame([[1, 2, 3, 1, 2.5, -3],\n",
    "                      [7, 8, 9, 6, 8.5, -9]],\n",
    "                     columns=['a_x', 'b', 'c', 'a_y', 'd', 'e'])\n",
    "    \"\"\"\n",
    "    # Validate and preprocess inputs.\n",
    "    non_equi_conditions = maybe_convert_to_list(non_equi_conditions)\n",
    "    if equi_on is not None:\n",
    "        equi_left_on = maybe_convert_to_list(equi_on)\n",
    "        equi_right_on = maybe_convert_to_list(equi_on)\n",
    "    else:\n",
    "        equi_left_on = maybe_convert_to_list(equi_left_on)\n",
    "        equi_right_on = maybe_convert_to_list(equi_right_on)\n",
    "    if equi_left_on[0] is None:\n",
    "        if equi_right_on[0] is not None:\n",
    "            raise ValueError('Left keys are set, right keys are not set.')\n",
    "        equi_left_on = ['__dummy_key']\n",
    "        equi_right_on = ['__dummy_key']\n",
    "        left['__dummy_key'] = 0\n",
    "        right['__dummy_key'] = 0\n",
    "    if n_partitioning_equi_keys is None:\n",
    "        n_partitioning_equi_keys = len(equi_left_on)\n",
    "    elif n_partitioning_equi_keys > len(equi_left_on):\n",
    "        raise ValueError(\n",
    "            'Number of keys for partitioning exceeds number of equi join keys.'\n",
    "        )\n",
    "\n",
    "    # Use equi keys (if they are set) for optimizing memory consumption.\n",
    "    if n_partitioning_equi_keys > 0:\n",
    "        left_partition_keys = equi_left_on[:n_partitioning_equi_keys]\n",
    "        right_partition_keys = equi_right_on[:n_partitioning_equi_keys]\n",
    "        left_partitions = {\n",
    "            idx: group\n",
    "            for idx, group\n",
    "            in left.groupby(left_partition_keys, as_index=False)\n",
    "        }\n",
    "        right_partitions = {\n",
    "            idx: group\n",
    "            for idx, group\n",
    "            in right.groupby(right_partition_keys, as_index=False)\n",
    "        }\n",
    "    else:\n",
    "        left_partitions = {None: left}\n",
    "        right_partitions = {None: right}\n",
    "    \n",
    "    # Join DataFrames.\n",
    "    join_results = []\n",
    "    for idx, curr_left in left_partitions.items():\n",
    "        curr_right = right_partitions.get(idx)\n",
    "        if curr_right is None:\n",
    "            continue\n",
    "        curr_joined = pd.merge(\n",
    "            curr_left,\n",
    "            curr_right,\n",
    "            left_on=equi_left_on,\n",
    "            right_on=equi_right_on\n",
    "        )\n",
    "        conditions = [\n",
    "            checking_fn(curr_joined) for checking_fn in non_equi_conditions\n",
    "        ]\n",
    "        curr_joined = curr_joined[np.logical_and.reduce(conditions)]\n",
    "        join_results.append(curr_joined)\n",
    "    if len(join_results) > 0:\n",
    "        joined = pd.concat(join_results)\n",
    "    else:\n",
    "        joined = pd.DataFrame(columns=left.columns)\n",
    "    tmp_columns = [x for x in joined.columns.tolist() if '__dummy_key' in x]\n",
    "    joined.drop(tmp_columns, axis=1, inplace=True)\n",
    "    return joined"
   ]
  },
  {
   "cell_type": "code",
   "execution_count": 52,
   "id": "54a8bd08",
   "metadata": {},
   "outputs": [],
   "source": [
    "df = non_equi_inner_join(\n",
    "    df_main,\n",
    "    df_store,\n",
    "    non_equi_conditions=[lambda x: x['계약년월일'] >= x['인허가일자'],\n",
    "                         lambda x: x['계약년월일'] <= x['폐업일자']]\n",
    ")"
   ]
  },
  {
   "cell_type": "code",
   "execution_count": 53,
   "id": "3661a524",
   "metadata": {},
   "outputs": [
    {
     "name": "stdout",
     "output_type": "stream",
     "text": [
      "<class 'pandas.core.frame.DataFrame'>\n",
      "Int64Index: 4242858 entries, 0 to 5241656\n",
      "Data columns (total 17 columns):\n",
      " #   Column   Dtype         \n",
      "---  ------   -----         \n",
      " 0   시군구      object        \n",
      " 1   전월세구분    object        \n",
      " 2   보증금(만원)  int64         \n",
      " 3   건축년도     int64         \n",
      " 4   구분       object        \n",
      " 5   전용면적(㎡)  float64       \n",
      " 6   층        float64       \n",
      " 7   도로명주소    object        \n",
      " 8   계약시작     object        \n",
      " 9   계약종료     object        \n",
      " 10  계약년월일    datetime64[ns]\n",
      " 11  구        object        \n",
      " 12  건축나이     int64         \n",
      " 13  인허가일자    datetime64[ns]\n",
      " 14  폐업일자     datetime64[ns]\n",
      " 15  대규모점포위도  float64       \n",
      " 16  대규모점포경도  float64       \n",
      "dtypes: datetime64[ns](3), float64(4), int64(3), object(7)\n",
      "memory usage: 582.7+ MB\n"
     ]
    }
   ],
   "source": [
    "df.info()"
   ]
  },
  {
   "cell_type": "code",
   "execution_count": 56,
   "id": "d58ee213",
   "metadata": {},
   "outputs": [
    {
     "data": {
      "text/plain": [
       "True"
      ]
     },
     "execution_count": 56,
     "metadata": {},
     "output_type": "execute_result"
    }
   ],
   "source": [
    "(df['인허가일자']<=df['계약년월일']).all()"
   ]
  },
  {
   "cell_type": "code",
   "execution_count": 57,
   "id": "d44db341",
   "metadata": {},
   "outputs": [
    {
     "data": {
      "text/plain": [
       "True"
      ]
     },
     "execution_count": 57,
     "metadata": {},
     "output_type": "execute_result"
    }
   ],
   "source": [
    "(df['계약년월일']<=df['폐업일자']).all()"
   ]
  },
  {
   "cell_type": "code",
   "execution_count": null,
   "id": "feeae604",
   "metadata": {},
   "outputs": [],
   "source": []
  },
  {
   "cell_type": "code",
   "execution_count": null,
   "id": "6d9e8076",
   "metadata": {},
   "outputs": [],
   "source": []
  },
  {
   "cell_type": "code",
   "execution_count": null,
   "id": "a8ad6867",
   "metadata": {},
   "outputs": [],
   "source": []
  },
  {
   "cell_type": "code",
   "execution_count": null,
   "id": "35578e36",
   "metadata": {},
   "outputs": [],
   "source": []
  },
  {
   "cell_type": "code",
   "execution_count": null,
   "id": "a99c8951",
   "metadata": {},
   "outputs": [],
   "source": []
  },
  {
   "cell_type": "code",
   "execution_count": null,
   "id": "70363492",
   "metadata": {},
   "outputs": [],
   "source": []
  }
 ],
 "metadata": {
  "kernelspec": {
   "display_name": "Python 3 (ipykernel)",
   "language": "python",
   "name": "python3"
  },
  "language_info": {
   "codemirror_mode": {
    "name": "ipython",
    "version": 3
   },
   "file_extension": ".py",
   "mimetype": "text/x-python",
   "name": "python",
   "nbconvert_exporter": "python",
   "pygments_lexer": "ipython3",
   "version": "3.9.13"
  }
 },
 "nbformat": 4,
 "nbformat_minor": 5
}
