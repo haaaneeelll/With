{
 "cells": [
  {
   "cell_type": "code",
   "execution_count": 1,
   "id": "c6dd9646",
   "metadata": {
    "scrolled": true
   },
   "outputs": [
    {
     "name": "stdout",
     "output_type": "stream",
     "text": [
      "<class 'pandas.core.frame.DataFrame'>\n",
      "RangeIndex: 87361 entries, 0 to 87360\n",
      "Data columns (total 14 columns):\n",
      " #   Column      Non-Null Count  Dtype  \n",
      "---  ------      --------------  -----  \n",
      " 0   Unnamed: 0  87361 non-null  int64  \n",
      " 1   시군구         87361 non-null  object \n",
      " 2   전월세구분       87361 non-null  object \n",
      " 3   보증금(만원)     87361 non-null  int64  \n",
      " 4   건축년도        87361 non-null  int64  \n",
      " 5   구분          87361 non-null  object \n",
      " 6   전용면적(㎡)     87361 non-null  float64\n",
      " 7   층           87361 non-null  float64\n",
      " 8   도로명주소       87361 non-null  object \n",
      " 9   계약시작        25069 non-null  object \n",
      " 10  계약종료        25069 non-null  object \n",
      " 11  계약년월일       87361 non-null  object \n",
      " 12  구           87361 non-null  object \n",
      " 13  건축나이        87361 non-null  int64  \n",
      "dtypes: float64(2), int64(4), object(8)\n",
      "memory usage: 9.3+ MB\n"
     ]
    }
   ],
   "source": [
    "import pandas as pd\n",
    "\n",
    "df_main = pd.read_csv('./main/강남구전세(3차전처리).csv', encoding='utf-8')\n",
    "df_main.info()"
   ]
  },
  {
   "cell_type": "code",
   "execution_count": 2,
   "id": "d36feb2d",
   "metadata": {
    "scrolled": true
   },
   "outputs": [
    {
     "data": {
      "text/html": [
       "<div>\n",
       "<style scoped>\n",
       "    .dataframe tbody tr th:only-of-type {\n",
       "        vertical-align: middle;\n",
       "    }\n",
       "\n",
       "    .dataframe tbody tr th {\n",
       "        vertical-align: top;\n",
       "    }\n",
       "\n",
       "    .dataframe thead th {\n",
       "        text-align: right;\n",
       "    }\n",
       "</style>\n",
       "<table border=\"1\" class=\"dataframe\">\n",
       "  <thead>\n",
       "    <tr style=\"text-align: right;\">\n",
       "      <th></th>\n",
       "      <th>Unnamed: 0</th>\n",
       "      <th>도로명주소</th>\n",
       "      <th>Latitude</th>\n",
       "      <th>Longitude</th>\n",
       "    </tr>\n",
       "  </thead>\n",
       "  <tbody>\n",
       "    <tr>\n",
       "      <th>0</th>\n",
       "      <td>0</td>\n",
       "      <td>서울특별시 강남구 논현로4길</td>\n",
       "      <td>37.473722</td>\n",
       "      <td>127.052725</td>\n",
       "    </tr>\n",
       "    <tr>\n",
       "      <th>1</th>\n",
       "      <td>1</td>\n",
       "      <td>서울특별시 강남구 논현로10길</td>\n",
       "      <td>37.474587</td>\n",
       "      <td>127.049960</td>\n",
       "    </tr>\n",
       "    <tr>\n",
       "      <th>2</th>\n",
       "      <td>2</td>\n",
       "      <td>서울특별시 강남구 개포로20길</td>\n",
       "      <td>37.476862</td>\n",
       "      <td>127.048105</td>\n",
       "    </tr>\n",
       "    <tr>\n",
       "      <th>3</th>\n",
       "      <td>3</td>\n",
       "      <td>서울특별시 강남구 개포로15길</td>\n",
       "      <td>37.479661</td>\n",
       "      <td>127.045622</td>\n",
       "    </tr>\n",
       "    <tr>\n",
       "      <th>4</th>\n",
       "      <td>4</td>\n",
       "      <td>서울특별시 강남구 논현로6길</td>\n",
       "      <td>37.473422</td>\n",
       "      <td>127.051314</td>\n",
       "    </tr>\n",
       "    <tr>\n",
       "      <th>...</th>\n",
       "      <td>...</td>\n",
       "      <td>...</td>\n",
       "      <td>...</td>\n",
       "      <td>...</td>\n",
       "    </tr>\n",
       "    <tr>\n",
       "      <th>3724</th>\n",
       "      <td>3724</td>\n",
       "      <td>서울특별시 강남구 역삼로 432</td>\n",
       "      <td>37.501439</td>\n",
       "      <td>127.054330</td>\n",
       "    </tr>\n",
       "    <tr>\n",
       "      <th>3725</th>\n",
       "      <td>3725</td>\n",
       "      <td>서울특별시 강남구 압구정로 461</td>\n",
       "      <td>37.525283</td>\n",
       "      <td>127.047239</td>\n",
       "    </tr>\n",
       "    <tr>\n",
       "      <th>3726</th>\n",
       "      <td>3726</td>\n",
       "      <td>서울특별시 강남구 도산대로 406</td>\n",
       "      <td>37.522821</td>\n",
       "      <td>127.039963</td>\n",
       "    </tr>\n",
       "    <tr>\n",
       "      <th>3727</th>\n",
       "      <td>3727</td>\n",
       "      <td>서울특별시 강남구 논현로20길 12</td>\n",
       "      <td>37.478097</td>\n",
       "      <td>127.045854</td>\n",
       "    </tr>\n",
       "    <tr>\n",
       "      <th>3728</th>\n",
       "      <td>3728</td>\n",
       "      <td>서울특별시 강남구 언주로 432-10</td>\n",
       "      <td>37.502156</td>\n",
       "      <td>127.044070</td>\n",
       "    </tr>\n",
       "  </tbody>\n",
       "</table>\n",
       "<p>3729 rows × 4 columns</p>\n",
       "</div>"
      ],
      "text/plain": [
       "      Unnamed: 0                 도로명주소   Latitude   Longitude\n",
       "0              0       서울특별시 강남구 논현로4길  37.473722  127.052725\n",
       "1              1      서울특별시 강남구 논현로10길  37.474587  127.049960\n",
       "2              2      서울특별시 강남구 개포로20길  37.476862  127.048105\n",
       "3              3      서울특별시 강남구 개포로15길  37.479661  127.045622\n",
       "4              4       서울특별시 강남구 논현로6길  37.473422  127.051314\n",
       "...          ...                   ...        ...         ...\n",
       "3724        3724     서울특별시 강남구 역삼로 432  37.501439  127.054330\n",
       "3725        3725    서울특별시 강남구 압구정로 461  37.525283  127.047239\n",
       "3726        3726    서울특별시 강남구 도산대로 406  37.522821  127.039963\n",
       "3727        3727   서울특별시 강남구 논현로20길 12  37.478097  127.045854\n",
       "3728        3728  서울특별시 강남구 언주로 432-10  37.502156  127.044070\n",
       "\n",
       "[3729 rows x 4 columns]"
      ]
     },
     "execution_count": 2,
     "metadata": {},
     "output_type": "execute_result"
    }
   ],
   "source": [
    "df_coor = pd.read_csv('./main/경도위도값.csv', encoding='utf-8')\n",
    "df_coor"
   ]
  },
  {
   "cell_type": "code",
   "execution_count": 3,
   "id": "705c1371",
   "metadata": {
    "scrolled": true
   },
   "outputs": [
    {
     "name": "stdout",
     "output_type": "stream",
     "text": [
      "<class 'pandas.core.frame.DataFrame'>\n",
      "Int64Index: 86206 entries, 0 to 86205\n",
      "Data columns (total 17 columns):\n",
      " #   Column        Non-Null Count  Dtype  \n",
      "---  ------        --------------  -----  \n",
      " 0   Unnamed: 0_x  86206 non-null  int64  \n",
      " 1   시군구           86206 non-null  object \n",
      " 2   전월세구분         86206 non-null  object \n",
      " 3   보증금(만원)       86206 non-null  int64  \n",
      " 4   건축년도          86206 non-null  int64  \n",
      " 5   구분            86206 non-null  object \n",
      " 6   전용면적(㎡)       86206 non-null  float64\n",
      " 7   층             86206 non-null  float64\n",
      " 8   도로명주소         86206 non-null  object \n",
      " 9   계약시작          24746 non-null  object \n",
      " 10  계약종료          24746 non-null  object \n",
      " 11  계약년월일         86206 non-null  object \n",
      " 12  구             86206 non-null  object \n",
      " 13  건축나이          86206 non-null  int64  \n",
      " 14  Unnamed: 0_y  86206 non-null  int64  \n",
      " 15  Latitude      86206 non-null  float64\n",
      " 16  Longitude     86206 non-null  float64\n",
      "dtypes: float64(4), int64(5), object(8)\n",
      "memory usage: 11.8+ MB\n"
     ]
    }
   ],
   "source": [
    "df_merge = pd.merge(df_main, df_coor, on='도로명주소', how='inner')\n",
    "df_merge.info()"
   ]
  },
  {
   "cell_type": "code",
   "execution_count": 4,
   "id": "3a669f82",
   "metadata": {},
   "outputs": [
    {
     "data": {
      "text/plain": [
       "False"
      ]
     },
     "execution_count": 4,
     "metadata": {},
     "output_type": "execute_result"
    }
   ],
   "source": [
    "(df_main['도로명주소'].unique()==df_coor['도로명주소']).all()"
   ]
  },
  {
   "cell_type": "code",
   "execution_count": 5,
   "id": "a17dfff5",
   "metadata": {},
   "outputs": [
    {
     "data": {
      "text/html": [
       "<div>\n",
       "<style scoped>\n",
       "    .dataframe tbody tr th:only-of-type {\n",
       "        vertical-align: middle;\n",
       "    }\n",
       "\n",
       "    .dataframe tbody tr th {\n",
       "        vertical-align: top;\n",
       "    }\n",
       "\n",
       "    .dataframe thead th {\n",
       "        text-align: right;\n",
       "    }\n",
       "</style>\n",
       "<table border=\"1\" class=\"dataframe\">\n",
       "  <thead>\n",
       "    <tr style=\"text-align: right;\">\n",
       "      <th></th>\n",
       "      <th>Unnamed: 0</th>\n",
       "      <th>도로명주소</th>\n",
       "      <th>Latitude</th>\n",
       "      <th>Longitude</th>\n",
       "    </tr>\n",
       "  </thead>\n",
       "  <tbody>\n",
       "    <tr>\n",
       "      <th>364</th>\n",
       "      <td>364</td>\n",
       "      <td>서울특별시 강남구</td>\n",
       "      <td>37.496665</td>\n",
       "      <td>127.06298</td>\n",
       "    </tr>\n",
       "  </tbody>\n",
       "</table>\n",
       "</div>"
      ],
      "text/plain": [
       "     Unnamed: 0      도로명주소   Latitude  Longitude\n",
       "364         364  서울특별시 강남구  37.496665  127.06298"
      ]
     },
     "execution_count": 5,
     "metadata": {},
     "output_type": "execute_result"
    }
   ],
   "source": [
    "df_coor[df_main['도로명주소'].unique()!=df_coor['도로명주소']]"
   ]
  },
  {
   "cell_type": "code",
   "execution_count": 6,
   "id": "784e4433",
   "metadata": {},
   "outputs": [],
   "source": [
    "df_main_unique = pd.DataFrame(df_main['도로명주소'].unique())"
   ]
  },
  {
   "cell_type": "code",
   "execution_count": 7,
   "id": "64b51c8e",
   "metadata": {
    "scrolled": true
   },
   "outputs": [
    {
     "data": {
      "text/html": [
       "<div>\n",
       "<style scoped>\n",
       "    .dataframe tbody tr th:only-of-type {\n",
       "        vertical-align: middle;\n",
       "    }\n",
       "\n",
       "    .dataframe tbody tr th {\n",
       "        vertical-align: top;\n",
       "    }\n",
       "\n",
       "    .dataframe thead th {\n",
       "        text-align: right;\n",
       "    }\n",
       "</style>\n",
       "<table border=\"1\" class=\"dataframe\">\n",
       "  <thead>\n",
       "    <tr style=\"text-align: right;\">\n",
       "      <th></th>\n",
       "      <th>0</th>\n",
       "    </tr>\n",
       "  </thead>\n",
       "  <tbody>\n",
       "    <tr>\n",
       "      <th>0</th>\n",
       "      <td>서울특별시 강남구 논현로4길</td>\n",
       "    </tr>\n",
       "    <tr>\n",
       "      <th>1</th>\n",
       "      <td>서울특별시 강남구 논현로10길</td>\n",
       "    </tr>\n",
       "    <tr>\n",
       "      <th>2</th>\n",
       "      <td>서울특별시 강남구 개포로20길</td>\n",
       "    </tr>\n",
       "    <tr>\n",
       "      <th>3</th>\n",
       "      <td>서울특별시 강남구 개포로15길</td>\n",
       "    </tr>\n",
       "    <tr>\n",
       "      <th>4</th>\n",
       "      <td>서울특별시 강남구 논현로6길</td>\n",
       "    </tr>\n",
       "    <tr>\n",
       "      <th>...</th>\n",
       "      <td>...</td>\n",
       "    </tr>\n",
       "    <tr>\n",
       "      <th>3724</th>\n",
       "      <td>서울특별시 강남구 역삼로 432</td>\n",
       "    </tr>\n",
       "    <tr>\n",
       "      <th>3725</th>\n",
       "      <td>서울특별시 강남구 압구정로 461</td>\n",
       "    </tr>\n",
       "    <tr>\n",
       "      <th>3726</th>\n",
       "      <td>서울특별시 강남구 도산대로 406</td>\n",
       "    </tr>\n",
       "    <tr>\n",
       "      <th>3727</th>\n",
       "      <td>서울특별시 강남구 논현로20길 12</td>\n",
       "    </tr>\n",
       "    <tr>\n",
       "      <th>3728</th>\n",
       "      <td>서울특별시 강남구 언주로 432-10</td>\n",
       "    </tr>\n",
       "  </tbody>\n",
       "</table>\n",
       "<p>3729 rows × 1 columns</p>\n",
       "</div>"
      ],
      "text/plain": [
       "                         0\n",
       "0          서울특별시 강남구 논현로4길\n",
       "1         서울특별시 강남구 논현로10길\n",
       "2         서울특별시 강남구 개포로20길\n",
       "3         서울특별시 강남구 개포로15길\n",
       "4          서울특별시 강남구 논현로6길\n",
       "...                    ...\n",
       "3724     서울특별시 강남구 역삼로 432\n",
       "3725    서울특별시 강남구 압구정로 461\n",
       "3726    서울특별시 강남구 도산대로 406\n",
       "3727   서울특별시 강남구 논현로20길 12\n",
       "3728  서울특별시 강남구 언주로 432-10\n",
       "\n",
       "[3729 rows x 1 columns]"
      ]
     },
     "execution_count": 7,
     "metadata": {},
     "output_type": "execute_result"
    }
   ],
   "source": [
    "df_main_unique"
   ]
  },
  {
   "cell_type": "code",
   "execution_count": 8,
   "id": "9fcb7d3a",
   "metadata": {},
   "outputs": [
    {
     "data": {
      "text/html": [
       "<div>\n",
       "<style scoped>\n",
       "    .dataframe tbody tr th:only-of-type {\n",
       "        vertical-align: middle;\n",
       "    }\n",
       "\n",
       "    .dataframe tbody tr th {\n",
       "        vertical-align: top;\n",
       "    }\n",
       "\n",
       "    .dataframe thead th {\n",
       "        text-align: right;\n",
       "    }\n",
       "</style>\n",
       "<table border=\"1\" class=\"dataframe\">\n",
       "  <thead>\n",
       "    <tr style=\"text-align: right;\">\n",
       "      <th></th>\n",
       "      <th>0</th>\n",
       "    </tr>\n",
       "  </thead>\n",
       "  <tbody>\n",
       "    <tr>\n",
       "      <th>364</th>\n",
       "      <td>서울특별시 강남구</td>\n",
       "    </tr>\n",
       "  </tbody>\n",
       "</table>\n",
       "</div>"
      ],
      "text/plain": [
       "               0\n",
       "364  서울특별시 강남구  "
      ]
     },
     "execution_count": 8,
     "metadata": {},
     "output_type": "execute_result"
    }
   ],
   "source": [
    "df_main_unique[df_main['도로명주소'].unique()!=df_coor['도로명주소']]"
   ]
  },
  {
   "cell_type": "code",
   "execution_count": 9,
   "id": "e7962467",
   "metadata": {},
   "outputs": [
    {
     "data": {
      "text/plain": [
       "'서울특별시 강남구'"
      ]
     },
     "execution_count": 9,
     "metadata": {},
     "output_type": "execute_result"
    }
   ],
   "source": [
    "df_coor.loc[364,'도로명주소']"
   ]
  },
  {
   "cell_type": "code",
   "execution_count": 10,
   "id": "d53b80fc",
   "metadata": {},
   "outputs": [
    {
     "data": {
      "text/plain": [
       "'서울특별시 강남구  '"
      ]
     },
     "execution_count": 10,
     "metadata": {},
     "output_type": "execute_result"
    }
   ],
   "source": [
    "df_main_unique.loc[364,0]"
   ]
  },
  {
   "cell_type": "code",
   "execution_count": 11,
   "id": "41ee5307",
   "metadata": {},
   "outputs": [],
   "source": [
    "df_coor.loc[364,'도로명주소'] = df_main_unique.loc[364,0]"
   ]
  },
  {
   "cell_type": "code",
   "execution_count": 12,
   "id": "e35a1775",
   "metadata": {
    "scrolled": true
   },
   "outputs": [
    {
     "name": "stdout",
     "output_type": "stream",
     "text": [
      "<class 'pandas.core.frame.DataFrame'>\n",
      "Int64Index: 87361 entries, 0 to 87360\n",
      "Data columns (total 17 columns):\n",
      " #   Column        Non-Null Count  Dtype  \n",
      "---  ------        --------------  -----  \n",
      " 0   Unnamed: 0_x  87361 non-null  int64  \n",
      " 1   시군구           87361 non-null  object \n",
      " 2   전월세구분         87361 non-null  object \n",
      " 3   보증금(만원)       87361 non-null  int64  \n",
      " 4   건축년도          87361 non-null  int64  \n",
      " 5   구분            87361 non-null  object \n",
      " 6   전용면적(㎡)       87361 non-null  float64\n",
      " 7   층             87361 non-null  float64\n",
      " 8   도로명주소         87361 non-null  object \n",
      " 9   계약시작          25069 non-null  object \n",
      " 10  계약종료          25069 non-null  object \n",
      " 11  계약년월일         87361 non-null  object \n",
      " 12  구             87361 non-null  object \n",
      " 13  건축나이          87361 non-null  int64  \n",
      " 14  Unnamed: 0_y  87361 non-null  int64  \n",
      " 15  Latitude      87361 non-null  float64\n",
      " 16  Longitude     87361 non-null  float64\n",
      "dtypes: float64(4), int64(5), object(8)\n",
      "memory usage: 12.0+ MB\n"
     ]
    }
   ],
   "source": [
    "df_merge = pd.merge(df_main, df_coor, on='도로명주소', how='inner')\n",
    "df_merge.info()"
   ]
  },
  {
   "cell_type": "code",
   "execution_count": 13,
   "id": "ba5555c9",
   "metadata": {},
   "outputs": [],
   "source": [
    "df_coor.to_csv('./main/경도위도값_수정.csv', index=False, encoding='utf-8')"
   ]
  },
  {
   "cell_type": "code",
   "execution_count": 14,
   "id": "3cf6aa68",
   "metadata": {
    "scrolled": true
   },
   "outputs": [
    {
     "data": {
      "text/html": [
       "<div>\n",
       "<style scoped>\n",
       "    .dataframe tbody tr th:only-of-type {\n",
       "        vertical-align: middle;\n",
       "    }\n",
       "\n",
       "    .dataframe tbody tr th {\n",
       "        vertical-align: top;\n",
       "    }\n",
       "\n",
       "    .dataframe thead th {\n",
       "        text-align: right;\n",
       "    }\n",
       "</style>\n",
       "<table border=\"1\" class=\"dataframe\">\n",
       "  <thead>\n",
       "    <tr style=\"text-align: right;\">\n",
       "      <th></th>\n",
       "      <th>Unnamed: 0_x</th>\n",
       "      <th>시군구</th>\n",
       "      <th>전월세구분</th>\n",
       "      <th>보증금(만원)</th>\n",
       "      <th>건축년도</th>\n",
       "      <th>구분</th>\n",
       "      <th>전용면적(㎡)</th>\n",
       "      <th>층</th>\n",
       "      <th>도로명주소</th>\n",
       "      <th>계약시작</th>\n",
       "      <th>계약종료</th>\n",
       "      <th>계약년월일</th>\n",
       "      <th>구</th>\n",
       "      <th>건축나이</th>\n",
       "      <th>Unnamed: 0_y</th>\n",
       "      <th>Latitude</th>\n",
       "      <th>Longitude</th>\n",
       "    </tr>\n",
       "  </thead>\n",
       "  <tbody>\n",
       "    <tr>\n",
       "      <th>0</th>\n",
       "      <td>0</td>\n",
       "      <td>서울특별시 강남구 개포동</td>\n",
       "      <td>전세</td>\n",
       "      <td>7500</td>\n",
       "      <td>1989</td>\n",
       "      <td>단독다가구</td>\n",
       "      <td>44.00</td>\n",
       "      <td>3.0</td>\n",
       "      <td>서울특별시 강남구 논현로4길</td>\n",
       "      <td>2022-06-01</td>\n",
       "      <td>2024-06-01</td>\n",
       "      <td>2022-06-01</td>\n",
       "      <td>강남구</td>\n",
       "      <td>34</td>\n",
       "      <td>0</td>\n",
       "      <td>37.473722</td>\n",
       "      <td>127.052725</td>\n",
       "    </tr>\n",
       "    <tr>\n",
       "      <th>1</th>\n",
       "      <td>43</td>\n",
       "      <td>서울특별시 강남구 개포동</td>\n",
       "      <td>전세</td>\n",
       "      <td>14333</td>\n",
       "      <td>1991</td>\n",
       "      <td>단독다가구</td>\n",
       "      <td>44.00</td>\n",
       "      <td>3.0</td>\n",
       "      <td>서울특별시 강남구 논현로4길</td>\n",
       "      <td>2022-10-01</td>\n",
       "      <td>2024-10-01</td>\n",
       "      <td>2022-10-05</td>\n",
       "      <td>강남구</td>\n",
       "      <td>32</td>\n",
       "      <td>0</td>\n",
       "      <td>37.473722</td>\n",
       "      <td>127.052725</td>\n",
       "    </tr>\n",
       "    <tr>\n",
       "      <th>2</th>\n",
       "      <td>44</td>\n",
       "      <td>서울특별시 강남구 개포동</td>\n",
       "      <td>전세</td>\n",
       "      <td>17115</td>\n",
       "      <td>1991</td>\n",
       "      <td>단독다가구</td>\n",
       "      <td>44.00</td>\n",
       "      <td>3.0</td>\n",
       "      <td>서울특별시 강남구 논현로4길</td>\n",
       "      <td>2022-07-01</td>\n",
       "      <td>2024-07-01</td>\n",
       "      <td>2022-07-07</td>\n",
       "      <td>강남구</td>\n",
       "      <td>32</td>\n",
       "      <td>0</td>\n",
       "      <td>37.473722</td>\n",
       "      <td>127.052725</td>\n",
       "    </tr>\n",
       "    <tr>\n",
       "      <th>3</th>\n",
       "      <td>45</td>\n",
       "      <td>서울특별시 강남구 개포동</td>\n",
       "      <td>전세</td>\n",
       "      <td>17640</td>\n",
       "      <td>1991</td>\n",
       "      <td>단독다가구</td>\n",
       "      <td>44.00</td>\n",
       "      <td>3.0</td>\n",
       "      <td>서울특별시 강남구 논현로4길</td>\n",
       "      <td>2022-07-01</td>\n",
       "      <td>2024-07-01</td>\n",
       "      <td>2022-07-07</td>\n",
       "      <td>강남구</td>\n",
       "      <td>32</td>\n",
       "      <td>0</td>\n",
       "      <td>37.473722</td>\n",
       "      <td>127.052725</td>\n",
       "    </tr>\n",
       "    <tr>\n",
       "      <th>4</th>\n",
       "      <td>1705</td>\n",
       "      <td>서울특별시 강남구 개포동</td>\n",
       "      <td>전세</td>\n",
       "      <td>7500</td>\n",
       "      <td>1989</td>\n",
       "      <td>단독다가구</td>\n",
       "      <td>44.00</td>\n",
       "      <td>3.0</td>\n",
       "      <td>서울특별시 강남구 논현로4길</td>\n",
       "      <td>2022-06-01</td>\n",
       "      <td>2024-06-01</td>\n",
       "      <td>2022-06-01</td>\n",
       "      <td>강남구</td>\n",
       "      <td>34</td>\n",
       "      <td>0</td>\n",
       "      <td>37.473722</td>\n",
       "      <td>127.052725</td>\n",
       "    </tr>\n",
       "    <tr>\n",
       "      <th>...</th>\n",
       "      <td>...</td>\n",
       "      <td>...</td>\n",
       "      <td>...</td>\n",
       "      <td>...</td>\n",
       "      <td>...</td>\n",
       "      <td>...</td>\n",
       "      <td>...</td>\n",
       "      <td>...</td>\n",
       "      <td>...</td>\n",
       "      <td>...</td>\n",
       "      <td>...</td>\n",
       "      <td>...</td>\n",
       "      <td>...</td>\n",
       "      <td>...</td>\n",
       "      <td>...</td>\n",
       "      <td>...</td>\n",
       "      <td>...</td>\n",
       "    </tr>\n",
       "    <tr>\n",
       "      <th>87356</th>\n",
       "      <td>84329</td>\n",
       "      <td>서울특별시 강남구 대치동</td>\n",
       "      <td>전세</td>\n",
       "      <td>45000</td>\n",
       "      <td>2004</td>\n",
       "      <td>오피스텔</td>\n",
       "      <td>66.64</td>\n",
       "      <td>8.0</td>\n",
       "      <td>서울특별시 강남구 역삼로 432</td>\n",
       "      <td>NaN</td>\n",
       "      <td>NaN</td>\n",
       "      <td>2019-07-22</td>\n",
       "      <td>강남구</td>\n",
       "      <td>19</td>\n",
       "      <td>3724</td>\n",
       "      <td>37.501439</td>\n",
       "      <td>127.054330</td>\n",
       "    </tr>\n",
       "    <tr>\n",
       "      <th>87357</th>\n",
       "      <td>85733</td>\n",
       "      <td>서울특별시 강남구 청담동</td>\n",
       "      <td>전세</td>\n",
       "      <td>38000</td>\n",
       "      <td>2005</td>\n",
       "      <td>오피스텔</td>\n",
       "      <td>43.68</td>\n",
       "      <td>5.0</td>\n",
       "      <td>서울특별시 강남구 압구정로 461</td>\n",
       "      <td>NaN</td>\n",
       "      <td>NaN</td>\n",
       "      <td>2019-06-21</td>\n",
       "      <td>강남구</td>\n",
       "      <td>18</td>\n",
       "      <td>3725</td>\n",
       "      <td>37.525283</td>\n",
       "      <td>127.047239</td>\n",
       "    </tr>\n",
       "    <tr>\n",
       "      <th>87358</th>\n",
       "      <td>85744</td>\n",
       "      <td>서울특별시 강남구 청담동</td>\n",
       "      <td>전세</td>\n",
       "      <td>23500</td>\n",
       "      <td>2014</td>\n",
       "      <td>오피스텔</td>\n",
       "      <td>31.57</td>\n",
       "      <td>5.0</td>\n",
       "      <td>서울특별시 강남구 도산대로 406</td>\n",
       "      <td>NaN</td>\n",
       "      <td>NaN</td>\n",
       "      <td>2019-07-20</td>\n",
       "      <td>강남구</td>\n",
       "      <td>9</td>\n",
       "      <td>3726</td>\n",
       "      <td>37.522821</td>\n",
       "      <td>127.039963</td>\n",
       "    </tr>\n",
       "    <tr>\n",
       "      <th>87359</th>\n",
       "      <td>85747</td>\n",
       "      <td>서울특별시 강남구 개포동</td>\n",
       "      <td>전세</td>\n",
       "      <td>3000</td>\n",
       "      <td>2020</td>\n",
       "      <td>오피스텔</td>\n",
       "      <td>29.51</td>\n",
       "      <td>6.0</td>\n",
       "      <td>서울특별시 강남구 논현로20길 12</td>\n",
       "      <td>NaN</td>\n",
       "      <td>NaN</td>\n",
       "      <td>2020-09-08</td>\n",
       "      <td>강남구</td>\n",
       "      <td>3</td>\n",
       "      <td>3727</td>\n",
       "      <td>37.478097</td>\n",
       "      <td>127.045854</td>\n",
       "    </tr>\n",
       "    <tr>\n",
       "      <th>87360</th>\n",
       "      <td>86905</td>\n",
       "      <td>서울특별시 강남구 역삼동</td>\n",
       "      <td>전세</td>\n",
       "      <td>17000</td>\n",
       "      <td>2003</td>\n",
       "      <td>오피스텔</td>\n",
       "      <td>29.40</td>\n",
       "      <td>7.0</td>\n",
       "      <td>서울특별시 강남구 언주로 432-10</td>\n",
       "      <td>NaN</td>\n",
       "      <td>NaN</td>\n",
       "      <td>2020-11-25</td>\n",
       "      <td>강남구</td>\n",
       "      <td>20</td>\n",
       "      <td>3728</td>\n",
       "      <td>37.502156</td>\n",
       "      <td>127.044070</td>\n",
       "    </tr>\n",
       "  </tbody>\n",
       "</table>\n",
       "<p>87361 rows × 17 columns</p>\n",
       "</div>"
      ],
      "text/plain": [
       "       Unnamed: 0_x            시군구 전월세구분  보증금(만원)  건축년도     구분  전용면적(㎡)    층  \\\n",
       "0                 0  서울특별시 강남구 개포동    전세     7500  1989  단독다가구    44.00  3.0   \n",
       "1                43  서울특별시 강남구 개포동    전세    14333  1991  단독다가구    44.00  3.0   \n",
       "2                44  서울특별시 강남구 개포동    전세    17115  1991  단독다가구    44.00  3.0   \n",
       "3                45  서울특별시 강남구 개포동    전세    17640  1991  단독다가구    44.00  3.0   \n",
       "4              1705  서울특별시 강남구 개포동    전세     7500  1989  단독다가구    44.00  3.0   \n",
       "...             ...            ...   ...      ...   ...    ...      ...  ...   \n",
       "87356         84329  서울특별시 강남구 대치동    전세    45000  2004   오피스텔    66.64  8.0   \n",
       "87357         85733  서울특별시 강남구 청담동    전세    38000  2005   오피스텔    43.68  5.0   \n",
       "87358         85744  서울특별시 강남구 청담동    전세    23500  2014   오피스텔    31.57  5.0   \n",
       "87359         85747  서울특별시 강남구 개포동    전세     3000  2020   오피스텔    29.51  6.0   \n",
       "87360         86905  서울특별시 강남구 역삼동    전세    17000  2003   오피스텔    29.40  7.0   \n",
       "\n",
       "                      도로명주소        계약시작        계약종료       계약년월일    구  건축나이  \\\n",
       "0           서울특별시 강남구 논현로4길  2022-06-01  2024-06-01  2022-06-01  강남구    34   \n",
       "1           서울특별시 강남구 논현로4길  2022-10-01  2024-10-01  2022-10-05  강남구    32   \n",
       "2           서울특별시 강남구 논현로4길  2022-07-01  2024-07-01  2022-07-07  강남구    32   \n",
       "3           서울특별시 강남구 논현로4길  2022-07-01  2024-07-01  2022-07-07  강남구    32   \n",
       "4           서울특별시 강남구 논현로4길  2022-06-01  2024-06-01  2022-06-01  강남구    34   \n",
       "...                     ...         ...         ...         ...  ...   ...   \n",
       "87356     서울특별시 강남구 역삼로 432         NaN         NaN  2019-07-22  강남구    19   \n",
       "87357    서울특별시 강남구 압구정로 461         NaN         NaN  2019-06-21  강남구    18   \n",
       "87358    서울특별시 강남구 도산대로 406         NaN         NaN  2019-07-20  강남구     9   \n",
       "87359   서울특별시 강남구 논현로20길 12         NaN         NaN  2020-09-08  강남구     3   \n",
       "87360  서울특별시 강남구 언주로 432-10         NaN         NaN  2020-11-25  강남구    20   \n",
       "\n",
       "       Unnamed: 0_y   Latitude   Longitude  \n",
       "0                 0  37.473722  127.052725  \n",
       "1                 0  37.473722  127.052725  \n",
       "2                 0  37.473722  127.052725  \n",
       "3                 0  37.473722  127.052725  \n",
       "4                 0  37.473722  127.052725  \n",
       "...             ...        ...         ...  \n",
       "87356          3724  37.501439  127.054330  \n",
       "87357          3725  37.525283  127.047239  \n",
       "87358          3726  37.522821  127.039963  \n",
       "87359          3727  37.478097  127.045854  \n",
       "87360          3728  37.502156  127.044070  \n",
       "\n",
       "[87361 rows x 17 columns]"
      ]
     },
     "execution_count": 14,
     "metadata": {},
     "output_type": "execute_result"
    }
   ],
   "source": [
    "df_merge"
   ]
  },
  {
   "cell_type": "code",
   "execution_count": 15,
   "id": "5145c355",
   "metadata": {},
   "outputs": [
    {
     "data": {
      "text/plain": [
       "0"
      ]
     },
     "execution_count": 15,
     "metadata": {},
     "output_type": "execute_result"
    }
   ],
   "source": [
    "df_merge[['Unnamed: 0_x','도로명주소']].duplicated().sum()"
   ]
  },
  {
   "cell_type": "code",
   "execution_count": 16,
   "id": "52e75ac6",
   "metadata": {},
   "outputs": [
    {
     "data": {
      "text/plain": [
       "3729"
      ]
     },
     "execution_count": 16,
     "metadata": {},
     "output_type": "execute_result"
    }
   ],
   "source": [
    "(df_merge[['Unnamed: 0_y','도로명주소']].duplicated()==False).sum()"
   ]
  },
  {
   "cell_type": "code",
   "execution_count": 17,
   "id": "0746f117",
   "metadata": {},
   "outputs": [],
   "source": [
    "df_merge.drop(['Unnamed: 0_x','Unnamed: 0_y'], axis=1, inplace=True)"
   ]
  },
  {
   "cell_type": "code",
   "execution_count": 18,
   "id": "8329cb27",
   "metadata": {
    "scrolled": true
   },
   "outputs": [
    {
     "name": "stdout",
     "output_type": "stream",
     "text": [
      "<class 'pandas.core.frame.DataFrame'>\n",
      "Int64Index: 87361 entries, 0 to 87360\n",
      "Data columns (total 15 columns):\n",
      " #   Column     Non-Null Count  Dtype  \n",
      "---  ------     --------------  -----  \n",
      " 0   시군구        87361 non-null  object \n",
      " 1   전월세구분      87361 non-null  object \n",
      " 2   보증금(만원)    87361 non-null  int64  \n",
      " 3   건축년도       87361 non-null  int64  \n",
      " 4   구분         87361 non-null  object \n",
      " 5   전용면적(㎡)    87361 non-null  float64\n",
      " 6   층          87361 non-null  float64\n",
      " 7   도로명주소      87361 non-null  object \n",
      " 8   계약시작       25069 non-null  object \n",
      " 9   계약종료       25069 non-null  object \n",
      " 10  계약년월일      87361 non-null  object \n",
      " 11  구          87361 non-null  object \n",
      " 12  건축나이       87361 non-null  int64  \n",
      " 13  Latitude   87361 non-null  float64\n",
      " 14  Longitude  87361 non-null  float64\n",
      "dtypes: float64(4), int64(3), object(8)\n",
      "memory usage: 10.7+ MB\n"
     ]
    }
   ],
   "source": [
    "df_merge.info()"
   ]
  },
  {
   "cell_type": "code",
   "execution_count": 19,
   "id": "76da84f8",
   "metadata": {},
   "outputs": [],
   "source": [
    "df_merge.to_csv('./main/강남구전세루트데이터_수정.csv', index=False, encoding='utf-8')\n",
    "df_merge.to_csv('./main/강남구전세루트데이터_수정_c.csv', index=False, encoding='cp949')"
   ]
  }
 ],
 "metadata": {
  "kernelspec": {
   "display_name": "Python 3 (ipykernel)",
   "language": "python",
   "name": "python3"
  },
  "language_info": {
   "codemirror_mode": {
    "name": "ipython",
    "version": 3
   },
   "file_extension": ".py",
   "mimetype": "text/x-python",
   "name": "python",
   "nbconvert_exporter": "python",
   "pygments_lexer": "ipython3",
   "version": "3.9.13"
  }
 },
 "nbformat": 4,
 "nbformat_minor": 5
}
