{
 "cells": [
  {
   "cell_type": "markdown",
   "id": "bcdc91e6",
   "metadata": {},
   "source": [
    "# Pandas"
   ]
  },
  {
   "cell_type": "markdown",
   "id": "c3076a85",
   "metadata": {},
   "source": [
    "# csv파일 불러오기/저장하기"
   ]
  },
  {
   "cell_type": "code",
   "execution_count": null,
   "id": "17938000",
   "metadata": {},
   "outputs": [],
   "source": [
    "import pandas as pd\n",
    "\n",
    "# 불러오기\n",
    "df = pd.read_csv('파일이름.csv', encoding='utf-8')\n",
    "df = pd.read_csv('파일이름.csv', encoding='cp949')\n",
    "\n",
    "# 저장하기\n",
    "df.to_csv('파일이름.csv', encoding='utf-8')"
   ]
  },
  {
   "cell_type": "markdown",
   "id": "9f9f31ea",
   "metadata": {},
   "source": [
    "# 데이터 정보"
   ]
  },
  {
   "cell_type": "code",
   "execution_count": null,
   "id": "f84a9c6b",
   "metadata": {},
   "outputs": [],
   "source": [
    "df.info()\n",
    "df.describe()"
   ]
  },
  {
   "cell_type": "markdown",
   "id": "2fa1369e",
   "metadata": {},
   "source": [
    "# 기술통계"
   ]
  },
  {
   "cell_type": "code",
   "execution_count": null,
   "id": "123bb8a9",
   "metadata": {},
   "outputs": [],
   "source": [
    "# 평균\n",
    "Series.mean()\n",
    "\n",
    "# 중앙값\n",
    "Series.median()\n",
    "\n",
    "# 분위수\n",
    "Series.quantile(p)\n",
    "# p=0.25인 경우 오름차순으로 정렬 시 하위 25%에 해당하는 값을 의미함\n",
    "# p=0.5는 중앙값을 의미한다.\n",
    "\n",
    "# 분산\n",
    "Series.var()\n",
    "\n",
    "# 표준편차\n",
    "Series.std()\n",
    "\n",
    "# 최빈값\n",
    "Series.mode()\n",
    "\n",
    "# 개수\n",
    "Series.count()"
   ]
  },
  {
   "cell_type": "markdown",
   "id": "b6715fd4",
   "metadata": {},
   "source": [
    "# 데이터 병합"
   ]
  },
  {
   "cell_type": "code",
   "execution_count": null,
   "id": "3912ab2d",
   "metadata": {},
   "outputs": [],
   "source": [
    "# join\n",
    "pd.merge(df1, df2, on='공통컬럼', how='inner/left/right/outer/cross')\n",
    "\n",
    "# 그냥 붙이기\n",
    "pd.concat(['df1','df2'], axis)\n",
    "# axis = 0 : 세로로 붙이기\n",
    "# axis = 1 : 가로로 붙이기"
   ]
  },
  {
   "cell_type": "markdown",
   "id": "af45cd37",
   "metadata": {},
   "source": [
    "# apply 함수"
   ]
  },
  {
   "cell_type": "code",
   "execution_count": null,
   "id": "ff4126ca",
   "metadata": {},
   "outputs": [],
   "source": [
    "# 데이터프레임에 apply함수를 적용하는 경우 전달되는 변수 확인\n",
    "df.apply(lambda x:print(x))\n",
    "\n",
    "# 결과 : 각 컬럼 Series가 변수로 전달된다."
   ]
  },
  {
   "cell_type": "code",
   "execution_count": null,
   "id": "9ed0444a",
   "metadata": {},
   "outputs": [],
   "source": [
    "# 데이터프레임에 apply함수를 적용하는 경우 전달되는 변수 확인\n",
    "df.apply(lambda x:print(x), axis=1)\n",
    "\n",
    "# 결과 : 각 행이 Series형태로 전달된다."
   ]
  },
  {
   "cell_type": "code",
   "execution_count": null,
   "id": "92183482",
   "metadata": {},
   "outputs": [],
   "source": [
    "# Series에 apply함수를 적용하는 경우 전달되는 변수 확인\n",
    "df['컬럼이름'].apply(lambda x:print(x))\n",
    "\n",
    "# 결과 : 해당 Series의 원소가 차례대로 전달된다."
   ]
  },
  {
   "cell_type": "markdown",
   "id": "f809f4b5",
   "metadata": {},
   "source": [
    "# 중복 확인 / 중복 삭제"
   ]
  },
  {
   "cell_type": "code",
   "execution_count": null,
   "id": "e9ffbd18",
   "metadata": {},
   "outputs": [],
   "source": [
    "# 중복 확인\n",
    "df.duplicated()\n",
    "\n",
    "# 중복 삭제\n",
    "df.drop_duplicates()\n",
    "\n",
    "# Series도 사용가능"
   ]
  },
  {
   "cell_type": "markdown",
   "id": "8a84c75e",
   "metadata": {},
   "source": [
    "# 문자 포함 여부"
   ]
  },
  {
   "cell_type": "code",
   "execution_count": null,
   "id": "f78800fd",
   "metadata": {},
   "outputs": [],
   "source": [
    "# Series에서 원소마다 '강남구'를 포함하면 True 아니면 False 반환\n",
    "\n",
    "Series.str.contains('강남구')"
   ]
  },
  {
   "cell_type": "markdown",
   "id": "87136fe4",
   "metadata": {},
   "source": [
    "# 문자열에서 문자 바꾸기"
   ]
  },
  {
   "cell_type": "code",
   "execution_count": null,
   "id": "a1792d62",
   "metadata": {},
   "outputs": [],
   "source": [
    "Series.str.replace('대체될문자','대체할문자')\n",
    "\n",
    "# ','를 공백으로 바꾸기\n",
    "Series.str.replace(',',' ')"
   ]
  },
  {
   "cell_type": "markdown",
   "id": "de20fa1e",
   "metadata": {},
   "source": [
    "# 문자 기준으로 리스트로 분리하기"
   ]
  },
  {
   "cell_type": "code",
   "execution_count": null,
   "id": "379d8269",
   "metadata": {},
   "outputs": [],
   "source": [
    "# 실제 프로젝트 활용 예시\n",
    "# 전처리단계에서 사용\n",
    "# 계약기간컬럼 데이터 '202206 ~ 202406'\n",
    "df['계약기간'].str.split('~')[0] # 202206 반환\n",
    "df['계약기간'].str.split('~')[1] # 202406 반환"
   ]
  },
  {
   "cell_type": "markdown",
   "id": "2119ddb7",
   "metadata": {},
   "source": [
    "# 이름바꾸기"
   ]
  },
  {
   "cell_type": "code",
   "execution_count": 7,
   "id": "7e8fe069",
   "metadata": {},
   "outputs": [],
   "source": [
    "# 주로 컬럼이름을 바꾸는 용도로 사용\n",
    "\n",
    "df.rename(columns={'변경전':'변경후'})"
   ]
  },
  {
   "cell_type": "markdown",
   "id": "fb91b883",
   "metadata": {},
   "source": [
    "# unique값"
   ]
  },
  {
   "cell_type": "code",
   "execution_count": null,
   "id": "a8e62ca0",
   "metadata": {},
   "outputs": [],
   "source": [
    "Series.unique()\n",
    "\n",
    "# unique한 데이터의 개수\n",
    "Series.nunique()"
   ]
  },
  {
   "cell_type": "markdown",
   "id": "60afdf6e",
   "metadata": {},
   "source": [
    "# unique값들의 개수"
   ]
  },
  {
   "cell_type": "code",
   "execution_count": null,
   "id": "49dff7d5",
   "metadata": {},
   "outputs": [],
   "source": [
    "Series.value_counts()"
   ]
  },
  {
   "cell_type": "markdown",
   "id": "a1f2447f",
   "metadata": {},
   "source": [
    "# 결측값 확인, 대체 및 삭제"
   ]
  },
  {
   "cell_type": "code",
   "execution_count": null,
   "id": "75fb6404",
   "metadata": {},
   "outputs": [],
   "source": [
    "df['컬럼이름'].isnull()\n",
    "df['컬럼이름'].fillna(대체할값)\n",
    "df['컬럼이름'].dropna()\n",
    "\n",
    "# 적용방식\n",
    "df.isnull().sum()\n",
    "# 결측값 확인 방식"
   ]
  },
  {
   "cell_type": "markdown",
   "id": "c61ff8b4",
   "metadata": {},
   "source": [
    "# 정렬"
   ]
  },
  {
   "cell_type": "code",
   "execution_count": null,
   "id": "374bb8fe",
   "metadata": {},
   "outputs": [],
   "source": [
    "# 오름차순\n",
    "df.sort_values('정렬기준컬럼이름', ascending=True)"
   ]
  },
  {
   "cell_type": "markdown",
   "id": "47d2384d",
   "metadata": {},
   "source": [
    "# reset_index"
   ]
  },
  {
   "cell_type": "code",
   "execution_count": null,
   "id": "5e2b8cc2",
   "metadata": {},
   "outputs": [],
   "source": [
    "df.reset_index(drop=True)"
   ]
  },
  {
   "cell_type": "markdown",
   "id": "eacbbb70",
   "metadata": {},
   "source": [
    "# 날짜 생성"
   ]
  },
  {
   "cell_type": "code",
   "execution_count": null,
   "id": "d01d6968",
   "metadata": {},
   "outputs": [],
   "source": [
    "# 금리 데이터를 루트데이터에 통합시킬때 non-equi join을 사용하기 위해 사용함\n",
    "df_interest['금리년월일끝'] = pd.date_range('2018/1/1', periods=len(df_interest), freq='M')"
   ]
  },
  {
   "cell_type": "markdown",
   "id": "16fb40f2",
   "metadata": {},
   "source": [
    "# 날짜타입으로 변환"
   ]
  },
  {
   "cell_type": "code",
   "execution_count": null,
   "id": "37d113a7",
   "metadata": {},
   "outputs": [],
   "source": [
    "pd.to_datetime(df['변환할컬럼이름'], format='%Y/%m/%d', errors='coerce')"
   ]
  },
  {
   "cell_type": "markdown",
   "id": "a2b29279",
   "metadata": {},
   "source": [
    "# 날짜타입에서 년, 월, 일 뽑아내기"
   ]
  },
  {
   "cell_type": "code",
   "execution_count": null,
   "id": "2f4f3487",
   "metadata": {},
   "outputs": [],
   "source": [
    "# 연도 뽑아내기\n",
    "df['계약년월일'].dt.year\n",
    "# 월 뽑아내기\n",
    "df['계약년월일'].dt.month\n",
    "# 일 뽑아내기\n",
    "df['계약년월일'].dt.day\n",
    "\n",
    "# datetime type 표기 형식 변환\n",
    "# 분기로 표시\n",
    "df['계약년월일'].dt.to_period('Q')\n",
    "# 결과 : 2022Q2, 2022Q4, ...\n",
    "\n",
    "# 월로 표시\n",
    "df['계약년월일'].dt.to_period('M')\n",
    "# 결과 : 202201, 202202, ...\n",
    "# to_period를 사용하지 않으면 일까지 표시된다"
   ]
  },
  {
   "cell_type": "markdown",
   "id": "475e9ab5",
   "metadata": {},
   "source": [
    "# 숫자타입으로 변환"
   ]
  },
  {
   "cell_type": "code",
   "execution_count": null,
   "id": "94b38fd1",
   "metadata": {},
   "outputs": [],
   "source": [
    "pd.to_numeric(df['변환할컬럼이름'])"
   ]
  },
  {
   "cell_type": "markdown",
   "id": "5a67a657",
   "metadata": {},
   "source": [
    "# 컬럼삭제"
   ]
  },
  {
   "cell_type": "code",
   "execution_count": null,
   "id": "fc329378",
   "metadata": {},
   "outputs": [],
   "source": [
    "df.drop('컬럼이름', axis)\n",
    "# axis=1 컬럼 삭제\n",
    "# axis=0 행 삭제"
   ]
  },
  {
   "cell_type": "markdown",
   "id": "eff98b86",
   "metadata": {},
   "source": [
    "# all / any"
   ]
  },
  {
   "cell_type": "code",
   "execution_count": null,
   "id": "d724a480",
   "metadata": {},
   "outputs": [],
   "source": [
    "# 모두 True면 True 반환\n",
    "# 주로 두 컬럼이 같은지 확인할 때 사용했음\n",
    "Series.all()\n",
    "# 하나라도 True면 True 반환\n",
    "Series.any()\n",
    "\n",
    "# DataFrame도 사용가능"
   ]
  },
  {
   "cell_type": "markdown",
   "id": "49df3530",
   "metadata": {},
   "source": [
    "# groupby"
   ]
  },
  {
   "cell_type": "code",
   "execution_count": null,
   "id": "b19fd805",
   "metadata": {},
   "outputs": [],
   "source": [
    "# 기본사용\n",
    "df.groupby(['컬럼이름1'])['컬럼이름2'].sum()\n",
    "\n",
    "# agg / apply\n",
    "# 함수에 전달되는 변수 확인\n",
    "df.groupby(['컬럼이름1'])['컬럼이름2'].agg(lambda x : print(x))\n",
    "# 결과 : groupby된 '컬럼이름2'이 Series로 순서대로 전달된다.\n",
    "\n",
    "# 적용\n",
    "def count_subway(series):\n",
    "    return (series<=0.5).sum()\n",
    "\n",
    "df_groupby = df.groupby(['index','도로명주소'])['Distance_to_station'].agg(count_subway)"
   ]
  },
  {
   "cell_type": "code",
   "execution_count": 38,
   "id": "5dd73da2",
   "metadata": {},
   "outputs": [],
   "source": [
    "# apply\n",
    "# 함수에 전달되는 변수 확인\n",
    "df.groupby(['컬럼이름']).apply(lambda x : print(x))\n",
    "# 결과 : groupby된 데이터프레임이 전달된다.\n",
    "\n",
    "# agg\n",
    "# 함수에 전달되는 변수 확인\n",
    "df.groupby(['컬럼이름']).agg(lambda x : print(x))\n",
    "# 결과 : 모든 컬럼이 groupby된 Series 상태로 전달된다."
   ]
  },
  {
   "cell_type": "code",
   "execution_count": null,
   "id": "3d78c225",
   "metadata": {},
   "outputs": [],
   "source": [
    "# groupby로 묶어만 놓고 사용할 수 있다.\n",
    "pd.DataFrame(df.groupby(['컬럼이름']))\n",
    "# 설명하기 어려우니 실제 데이터로 한 번 실행해보자!"
   ]
  },
  {
   "cell_type": "markdown",
   "id": "fa85a5e7",
   "metadata": {},
   "source": [
    "# 전처리"
   ]
  },
  {
   "cell_type": "code",
   "execution_count": null,
   "id": "9646e141",
   "metadata": {},
   "outputs": [],
   "source": [
    "# 괄호 없애는 함수\n",
    "# 주로 도로명 주소 전처리할 때 많이 사용했음\n",
    "# 괄호가 없는 도로명 주소에서도 전처리가 필요한 데이터가 있었다.\n",
    "# 함수를 적용하기 전에 따로 확인할 필요가 있다.\n",
    "\n",
    "def address_preprocessing(address):\n",
    "    if address.find('(') != -1:\n",
    "        index = address.find('(')\n",
    "        return address[:index]\n",
    "    return address\n",
    "\n",
    "# 적용하는 방법\n",
    "df['도로명주소'] = df['도로명주소'].apply(address_preprocessing)"
   ]
  },
  {
   "cell_type": "code",
   "execution_count": null,
   "id": "48b70778",
   "metadata": {},
   "outputs": [],
   "source": [
    "# 시, 구, 동 처럼 순서가 정해져 있는 컬럼을 전처리할 때 사용하는 함수\n",
    "# 동만 뽑아내기\n",
    "# 물론 함수를 적용하기 전에 띄어쓰기 모두 되어있는지 확인하는 것이 좋다.\n",
    "def address_preprocessing(address):\n",
    "    lists = address.split(' ')\n",
    "    return lists[2]\n",
    "\n",
    "# 시, 구 뽑아내기\n",
    "def address_preprocessing(address):\n",
    "    lists = address.split(' ')\n",
    "    return ' '.join(address_parts[:2])\n",
    "\n",
    "df['행정구'] = df['시군구'].apply(address_preprocessing)\n",
    "df['행정구']"
   ]
  },
  {
   "cell_type": "code",
   "execution_count": null,
   "id": "e26bb9bd",
   "metadata": {},
   "outputs": [],
   "source": [
    "# 정규표현식을 이용한 전처리함수\n",
    "# 정규표현식 공부가 더 필요하다\n",
    "\n",
    "def extract_gu_from_address(address):\n",
    "    pattern = r'\\s(\\S+)'\n",
    "    result = re.search(pattern, address)\n",
    "    if result:\n",
    "        return result.group(1)\n",
    "    return None\n",
    "\n",
    "# apply 메소드를 이용하여 '강남구'만 추출하여 새로운 칼럼 생성\n",
    "df2['구'] = df2['도로명주소'].apply(extract_gu_from_address)"
   ]
  },
  {
   "cell_type": "markdown",
   "id": "f77f5d77",
   "metadata": {},
   "source": [
    "# tqdm"
   ]
  },
  {
   "cell_type": "code",
   "execution_count": null,
   "id": "77a5ece4",
   "metadata": {},
   "outputs": [],
   "source": [
    "tqdm.pandas()\n",
    "# 진행상황, 남은시간등을 시각화해준다.\n",
    " \n",
    "# 위경도간 거리를 구할 때, join을 사용할 때 많이 활용하였다.\n",
    "tqdm.pandas()\n",
    "df['미쉐린 거리'] = df.progress_apply(calculate_distance, axis=1)"
   ]
  }
 ],
 "metadata": {
  "kernelspec": {
   "display_name": "Python 3 (ipykernel)",
   "language": "python",
   "name": "python3"
  },
  "language_info": {
   "codemirror_mode": {
    "name": "ipython",
    "version": 3
   },
   "file_extension": ".py",
   "mimetype": "text/x-python",
   "name": "python",
   "nbconvert_exporter": "python",
   "pygments_lexer": "ipython3",
   "version": "3.9.13"
  }
 },
 "nbformat": 4,
 "nbformat_minor": 5
}
