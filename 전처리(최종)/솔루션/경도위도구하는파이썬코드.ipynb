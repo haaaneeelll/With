{
 "cells": [
  {
   "cell_type": "code",
   "execution_count": 2,
   "id": "2926612b",
   "metadata": {},
   "outputs": [
    {
     "name": "stdout",
     "output_type": "stream",
     "text": [
      "Requirement already satisfied: geopy in /Users/haneul/anaconda3/lib/python3.10/site-packages (2.3.0)\n",
      "Requirement already satisfied: geographiclib<3,>=1.52 in /Users/haneul/anaconda3/lib/python3.10/site-packages (from geopy) (2.0)\n",
      "Note: you may need to restart the kernel to use updated packages.\n"
     ]
    }
   ],
   "source": [
    "pip install geopy"
   ]
  },
  {
   "cell_type": "code",
   "execution_count": 3,
   "id": "1ec68377",
   "metadata": {},
   "outputs": [
    {
     "name": "stdout",
     "output_type": "stream",
     "text": [
      "Requirement already satisfied: tqdm in /Users/haneul/anaconda3/lib/python3.10/site-packages (4.64.1)\n",
      "Note: you may need to restart the kernel to use updated packages.\n"
     ]
    }
   ],
   "source": [
    "pip install tqdm\n"
   ]
  },
  {
   "cell_type": "code",
   "execution_count": 6,
   "id": "2a648a95",
   "metadata": {},
   "outputs": [
    {
     "name": "stderr",
     "output_type": "stream",
     "text": [
      "Cleaning Addresses:   0%|                              | 0/3680 [00:00<?, ?it/s]/var/folders/yh/smj7ptzs057g14vbhqqqhcq00000gn/T/ipykernel_87084/1905493911.py:14: SettingWithCopyWarning: \n",
      "A value is trying to be set on a copy of a slice from a DataFrame\n",
      "\n",
      "See the caveats in the documentation: https://pandas.pydata.org/pandas-docs/stable/user_guide/indexing.html#returning-a-view-versus-a-copy\n",
      "  address[i] = \" \".join(a[0:4])\n",
      "Cleaning Addresses: 100%|████████████████| 3680/3680 [00:00<00:00, 12904.04it/s]\n",
      "Geocoding Addresses: 100%|██████████████████| 3680/3680 [31:31<00:00,  1.95it/s]\n"
     ]
    }
   ],
   "source": [
    "import pandas as pd\n",
    "from tqdm import tqdm\n",
    "from geopy.geocoders import Nominatim\n",
    "\n",
    "# Load CSV file\n",
    "csv = pd.read_csv('교습소정보.csv')\n",
    "\n",
    "# Extract addresses\n",
    "address = csv['도로명주소']\n",
    "\n",
    "# Clean up addresses\n",
    "for i in tqdm(range(len(address)), desc=\"Cleaning Addresses\"):\n",
    "    a = address[i].split(' ')\n",
    "    address[i] = \" \".join(a[0:4])\n",
    "\n",
    "# Create a geolocator\n",
    "geo_local = Nominatim(user_agent='South Korea')\n",
    "\n",
    "# Function to get latitude and longitude\n",
    "def geocoding(address):\n",
    "    try:\n",
    "        geo = geo_local.geocode(address)\n",
    "        x_y = [geo.latitude, geo.longitude]\n",
    "        return x_y\n",
    "    except:\n",
    "        return [0, 0]\n",
    "\n",
    "# Geocode addresses and create latitude and longitude lists\n",
    "latitude = []\n",
    "longitude = []\n",
    "\n",
    "for i in tqdm(address, desc=\"Geocoding Addresses\"):\n",
    "    lat, long = geocoding(i)\n",
    "    latitude.append(lat)\n",
    "    longitude.append(long)\n",
    "\n",
    "# Create a DataFrame\n",
    "address_df = pd.DataFrame({\n",
    "    '학원명': csv['학원명'],\n",
    "    '도로명주소': csv['도로명주소'],\n",
    "    '주소': address,\n",
    "    '위도': latitude,\n",
    "    '경도': longitude\n",
    "})\n",
    "\n",
    "# Save the DataFrame\n",
    "address_df.to_csv('교습소경도위도.csv', index=False)\n"
   ]
  },
  {
   "cell_type": "code",
   "execution_count": null,
   "id": "920eac1f",
   "metadata": {},
   "outputs": [],
   "source": []
  }
 ],
 "metadata": {
  "kernelspec": {
   "display_name": "Python 3 (ipykernel)",
   "language": "python",
   "name": "python3"
  },
  "language_info": {
   "codemirror_mode": {
    "name": "ipython",
    "version": 3
   },
   "file_extension": ".py",
   "mimetype": "text/x-python",
   "name": "python",
   "nbconvert_exporter": "python",
   "pygments_lexer": "ipython3",
   "version": "3.10.9"
  }
 },
 "nbformat": 4,
 "nbformat_minor": 5
}
