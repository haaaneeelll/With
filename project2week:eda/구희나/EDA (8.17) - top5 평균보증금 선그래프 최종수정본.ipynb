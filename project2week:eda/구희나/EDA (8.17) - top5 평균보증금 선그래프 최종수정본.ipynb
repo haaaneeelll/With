{
 "cells": [
  {
   "cell_type": "code",
   "execution_count": null,
   "id": "8edf78a6",
   "metadata": {},
   "outputs": [],
   "source": [
    "## 수정한 부분 총 3가지 ( *** 로 표시해놓음)\n",
    "# 해당 3가지 부분을 조절하니 그나마 괜찮아서 나머지는 별도 수정을 안하셔도 될 것 같습니다.\n",
    "# 수정 파트만 전달달라고 하셔서 그 파트 및 최종 그래프 이미지는 사진으로 첨부합니다!\n",
    "# 1) 시각화 설정 부분 figsize 조절\n",
    "# 2) 선 그래프 부분 선 굵기 조절 \n",
    "# 3) 보증금 (y) 눈금 범위 수정\n",
    "\n",
    "# 폰트 크기와 굵기 설정\n",
    "plt.rcParams['font.size'] = 13  # 전역적으로 폰트 크기 설정\n",
    "\n",
    "# 행정구역별 파스텔톤 색상 설정\n",
    "pastel_palette = sns.color_palette(\"pastel\", n_colors=5)\n",
    "line_colors = pastel_palette\n",
    "\n",
    "# 시각화 설정 ***(수정한 부분 1: figsize 세로 크기를 점 더 줌)***\n",
    "fig, ax1 = plt.subplots(figsize=(15, 10))  # 그래프 크기 조정\n",
    "\n",
    "# 선 그래프 (평균 보증금 추이)\n",
    "# 매개변수 markevery 가 여기선 먹히질 않음.\n",
    "# *** (수정한 부분 2: linewidth=5.0 으로 수정 (선 굵기 조정)) ***\n",
    "for i, district in enumerate(grouped['Admin_District'].unique()):\n",
    "    data_subset = grouped[grouped['Admin_District'] == district]\n",
    "    ax1.plot(data_subset['year'], data_subset['y'], label=district, color=line_colors[i], linewidth=5.0, alpha=0.8, zorder=2, markevery=5)  # markevery 매개변수 추가\n",
    "\n",
    "\n",
    "ax1.set_xlabel('연도', fontweight='bold')  # 글꼴을 굵게 설정\n",
    "ax1.set_ylabel('평균 보증금', fontweight='bold')  # 글꼴을 굵게 설정\n",
    "\n",
    "ax1.grid(True)\n",
    "\n",
    "# y 축 범위 설정\n",
    "min_y = grouped['y'].min()\n",
    "max_y = grouped['y'].max()\n",
    "y_range = max_y - min_y\n",
    "ax1.set_ylim(min_y - 0.2 * y_range, max_y + 0.2 * y_range)\n",
    "# ***(수정한 부분 3: 보증금 y 눈금범위 조절) ***\n",
    "ax1.set_yticks([0, 50000, 55000, 60000, 65000, 70000, 75000, 80000, 85000, 90000, 95000, 100000, 105000, 110000])\n",
    "\n",
    "# 오른쪽 y축에 거래량(막대 그래프) 추가\n",
    "ax2 = ax1.twinx()\n",
    "\n",
    "# 각 연도에 따른 동별 거래량 막대 그래프 추가\n",
    "for i, district in enumerate(grouped['Admin_District'].unique()):\n",
    "    data_subset = grouped[grouped['Admin_District'] == district]\n",
    "    ax2.bar(data_subset['year'], data_subset['transaction_data'], width=0.35, align='center', edgecolor='black', alpha=0.7, color=pastel_palette[i], zorder=1)\n",
    "\n",
    "ax2.set_ylabel('거래량', fontweight='bold')  # 글꼴을 굵게 설정\n",
    "ax2.set_ylim(0, 3000)\n",
    "ax2.set_yticks([0, 1000, 2000, 3000, 4000, 5000, 6000, 7000, 8000]) \n",
    "# ax2 의 y축 눈금자 조절시 선 그래프 위로 올릴 수 있음\n",
    "\n",
    "# 그래프의 오른쪽 여백 조절\n",
    "plt.subplots_adjust(right=0.85)\n",
    "\n",
    "# 범례를 바깥쪽으로 이동\n",
    "ax1.legend(loc='upper left', bbox_to_anchor=(1, 0), prop={'weight': 'bold'})\n",
    "\n",
    "# 그래프의 오른쪽 여백 조절\n",
    "plt.subplots_adjust(right=3)  \n",
    "\n",
    "plt.title('강남구 Top5 행정구역별 평균 보증금과 거래량 추이', fontweight='bold')\n",
    "plt.tight_layout()\n",
    "plt.show()"
   ]
  },
  {
   "cell_type": "markdown",
   "id": "6d6ba8aa",
   "metadata": {},
   "source": [
    "## 그래프 최종본은 이미지로 첨부"
   ]
  },
  {
   "cell_type": "markdown",
   "id": "8cc8ff73",
   "metadata": {},
   "source": [
    "![nn](data_1/11.png)"
   ]
  },
  {
   "cell_type": "code",
   "execution_count": null,
   "id": "df07d788",
   "metadata": {},
   "outputs": [],
   "source": []
  },
  {
   "cell_type": "code",
   "execution_count": null,
   "id": "f944d3ab",
   "metadata": {},
   "outputs": [],
   "source": []
  },
  {
   "cell_type": "code",
   "execution_count": null,
   "id": "d86f38cf",
   "metadata": {},
   "outputs": [],
   "source": []
  },
  {
   "cell_type": "code",
   "execution_count": null,
   "id": "75963866",
   "metadata": {},
   "outputs": [],
   "source": []
  },
  {
   "cell_type": "code",
   "execution_count": null,
   "id": "3883ff40",
   "metadata": {},
   "outputs": [],
   "source": []
  },
  {
   "cell_type": "code",
   "execution_count": null,
   "id": "d0452362",
   "metadata": {},
   "outputs": [],
   "source": []
  },
  {
   "cell_type": "code",
   "execution_count": null,
   "id": "82f2f273",
   "metadata": {},
   "outputs": [],
   "source": []
  },
  {
   "cell_type": "code",
   "execution_count": null,
   "id": "87046c63",
   "metadata": {},
   "outputs": [],
   "source": []
  },
  {
   "cell_type": "code",
   "execution_count": null,
   "id": "b1fdc57b",
   "metadata": {},
   "outputs": [],
   "source": []
  }
 ],
 "metadata": {
  "kernelspec": {
   "display_name": "Python 3 (ipykernel)",
   "language": "python",
   "name": "python3"
  },
  "language_info": {
   "codemirror_mode": {
    "name": "ipython",
    "version": 3
   },
   "file_extension": ".py",
   "mimetype": "text/x-python",
   "name": "python",
   "nbconvert_exporter": "python",
   "pygments_lexer": "ipython3",
   "version": "3.9.13"
  }
 },
 "nbformat": 4,
 "nbformat_minor": 5
}
