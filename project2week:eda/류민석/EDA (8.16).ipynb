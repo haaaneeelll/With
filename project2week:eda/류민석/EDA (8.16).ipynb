{
 "cells": [
  {
   "cell_type": "markdown",
   "id": "e00f0f37",
   "metadata": {},
   "source": [
    "# 강남구 전세금, 역세권 영향 받을까?"
   ]
  },
  {
   "cell_type": "markdown",
   "id": "1785cd68",
   "metadata": {},
   "source": [
    "## 역세권\n",
    "- 지하철역이나 철도역 주변의 주변 환경, 즉 어느 특정역을 이용하는 인근 지역의 범위를 의미한다.\n",
    "- 일반적으로 지하철역에서 걸어서 5~10분 거리에 있는 지역을 말한다."
   ]
  },
  {
   "cell_type": "markdown",
   "id": "2b8683b8",
   "metadata": {},
   "source": [
    "![](./역세권개념이미지.jpg)"
   ]
  },
  {
   "cell_type": "markdown",
   "id": "7f775244",
   "metadata": {},
   "source": [
    "- 일반적으로 지하철역에 가까울수록 집값은 높다.\n",
    "- 하지만 강남구는 대체로 전세금이 지하철까지의 거리와 유의미한 선형성이 없는것으로 나타났다."
   ]
  },
  {
   "cell_type": "markdown",
   "id": "2d5b321e",
   "metadata": {},
   "source": [
    "![](./역세권.png)"
   ]
  },
  {
   "cell_type": "markdown",
   "id": "07fdc151",
   "metadata": {},
   "source": [
    "- 강남구 아파트를 중심으로 분석한 선행연구에서도 역세권과 유의미한 선형성이 없었다. - 이소영·김명연·김은정,2020[아파트 가격에 영향을 미치는 근린환경 요인 분석]\n",
    "- 하지만 서울시 환승역세권을 중심으로 분석한 선행연구에서는 지하철역과의 거리가 가까울수록 아파트가격에 긍정적이었다. - 김용래·백성준,2019[교통 입지요인이 아파트 가격에 미치는 영향에 관한 연구 : 서울시 환승역세권을 중심으로]\n",
    "\n",
    "<br>\n",
    "\n",
    "- 상반된 두 연구결과로 역세권과의 비선형성은 강남구만의 특징으로 미루어 짐작할 수 있다.\n",
    "- 이것은 강남구가 고가 주택시장에 대한 대표성을 가지고 있으며, 여전히 존재하는 강남구에 대한 기대감 등 주택가격에 좀 더 지배적으로 영향을 미치는 요인이 존재할 것으로 예상된다. - [2023 KB 부동산 보고서]\n",
    "- 향후 연구방향으로 삼아도 좋을 것이다."
   ]
  },
  {
   "cell_type": "markdown",
   "id": "eb9749ea",
   "metadata": {},
   "source": [
    "#### 그래프 설명입니다.\n",
    "- x축은 역과의 거리를 의미합니다.\n",
    "- 역 마다 3개의 그래프가 나타납니다.(색별로 구분되어 있습니다.)\n",
    "    - 통합(아파트 + 비아파트), 아파트, 비아파트로 구분됩니다.\n",
    "- 각 그래프별로 두개의 선이 나타납니다.\n",
    "    - 초록색선은 역에서 0.5킬로미터 이내 전세금의 평균을 의미합니다.\n",
    "    - 빨간색선은 역에서 0.5~1킬로미터 반경 전세금의 평균을 의미합니다.(반경 내에 모든 주택이 아닌 주변에 역이 하나도 없는 집들만 평균내었습니다. Subway_cnt==0을 생각하시면 됩니다.)\n",
    "- 각 그래프별로 두 개의 선이 나타나므로 그래프마다 해석을 달리합니다.\n",
    "    - 예를 들면 title이 '일원역 아파트'인 경우\n",
    "    - 초록색선은 일원역 반경 0.5킬로미터 이내 '아파트' 전세금의 평균입니다.\n",
    "    - 빨간색선은 일원역 반경 0.5~1킬로미터 이내 '아파트' 전세금의 평균입니다.(물론 Subway_cnt == 0만 포함입니다.)\n",
    "- 회귀선이 역세권 효과를 가장 잘 표현합니다.\n",
    "    - 회귀선의 기울기가 음수일수록 역세권 영향을 많이 받습니다.\n",
    "- 초록선이 빨간선보다 밑에 있을수록 역세권 영향을 많이 받습니다.\n",
    "    - 하지만 회귀선이 더 경향을 잘 나타냅니다. 부가적인 이해를 돕기위해 사용하는것이 좋습니다.\n",
    "    \n",
    "<br>\n",
    "\n",
    "- 첫 번째 컬럼은 모든 역을 통합한 데이터입니다.\n",
    "- 나머지 컬럼은 그래프 개형을 4가지로 나누었습니다.\n",
    "    - 회귀선의 기울기를 기준으로 나누었습니다.\n",
    "    - '아파트' 회귀선의 기울기가 양인지 음인지,\n",
    "    - '비아파트' 회귀선의 기울기가 양인지 음인지에 따라 4가지로 구분했습니다.\n",
    "    - 그 중에서도 경향을 뚜렷하게 보여주는 역들을 뽑았습니다.\n",
    "    - 그렇다고 하더라도 경향이 희미한 그래프가 있는데 그만큼 해당 경향을 갖는 역들이 적다는 의미입니다.('강남역', '선정릉 비아파트')"
   ]
  },
  {
   "cell_type": "markdown",
   "id": "3114b88f",
   "metadata": {},
   "source": [
    "## Folium"
   ]
  },
  {
   "cell_type": "code",
   "execution_count": null,
   "id": "bb149bf6",
   "metadata": {},
   "outputs": [],
   "source": []
  },
  {
   "cell_type": "code",
   "execution_count": null,
   "id": "949af394",
   "metadata": {},
   "outputs": [],
   "source": []
  },
  {
   "cell_type": "markdown",
   "id": "d68d8f49",
   "metadata": {},
   "source": [
    "## 추가사항"
   ]
  },
  {
   "cell_type": "code",
   "execution_count": null,
   "id": "fc03bc2a",
   "metadata": {},
   "outputs": [],
   "source": []
  },
  {
   "cell_type": "code",
   "execution_count": null,
   "id": "db277cea",
   "metadata": {},
   "outputs": [],
   "source": []
  },
  {
   "cell_type": "code",
   "execution_count": null,
   "id": "86cccf69",
   "metadata": {},
   "outputs": [],
   "source": []
  },
  {
   "cell_type": "code",
   "execution_count": null,
   "id": "c728569f",
   "metadata": {},
   "outputs": [],
   "source": []
  },
  {
   "cell_type": "code",
   "execution_count": null,
   "id": "0631181b",
   "metadata": {},
   "outputs": [],
   "source": []
  },
  {
   "cell_type": "code",
   "execution_count": null,
   "id": "640bc053",
   "metadata": {},
   "outputs": [],
   "source": []
  },
  {
   "cell_type": "code",
   "execution_count": null,
   "id": "2c300251",
   "metadata": {},
   "outputs": [],
   "source": []
  },
  {
   "cell_type": "code",
   "execution_count": null,
   "id": "4a00bf40",
   "metadata": {},
   "outputs": [],
   "source": []
  },
  {
   "cell_type": "code",
   "execution_count": null,
   "id": "e05e6b1e",
   "metadata": {},
   "outputs": [],
   "source": []
  },
  {
   "cell_type": "code",
   "execution_count": null,
   "id": "e7c8df43",
   "metadata": {},
   "outputs": [],
   "source": []
  }
 ],
 "metadata": {
  "kernelspec": {
   "display_name": "Python 3 (ipykernel)",
   "language": "python",
   "name": "python3"
  },
  "language_info": {
   "codemirror_mode": {
    "name": "ipython",
    "version": 3
   },
   "file_extension": ".py",
   "mimetype": "text/x-python",
   "name": "python",
   "nbconvert_exporter": "python",
   "pygments_lexer": "ipython3",
   "version": "3.9.13"
  }
 },
 "nbformat": 4,
 "nbformat_minor": 5
}
