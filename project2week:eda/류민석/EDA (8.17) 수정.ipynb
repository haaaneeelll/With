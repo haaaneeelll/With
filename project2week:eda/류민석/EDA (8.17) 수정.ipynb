{
 "cells": [
  {
   "cell_type": "markdown",
   "id": "b5d610e8",
   "metadata": {},
   "source": [
    "# 사용 데이터 및 컬럼\n",
    "- Subway_cnt: 각 주택 500m 반경 지하철역 개수\n",
    "- New_type: '구분'을 '아파트', '비아파트'로 새로 구분함"
   ]
  },
  {
   "cell_type": "code",
   "execution_count": 2,
   "id": "b0d35dad",
   "metadata": {},
   "outputs": [
    {
     "name": "stdout",
     "output_type": "stream",
     "text": [
      "<class 'pandas.core.frame.DataFrame'>\n",
      "RangeIndex: 2620830 entries, 0 to 2620829\n",
      "Data columns (total 22 columns):\n",
      " #   Column               Dtype  \n",
      "---  ------               -----  \n",
      " 0   index                int64  \n",
      " 1   시군구                  object \n",
      " 2   전월세구분                object \n",
      " 3   보증금(만원)              int64  \n",
      " 4   건축년도                 int64  \n",
      " 5   구분                   object \n",
      " 6   전용면적(㎡)              float64\n",
      " 7   층                    float64\n",
      " 8   도로명주소                object \n",
      " 9   계약시작                 object \n",
      " 10  계약종료                 object \n",
      " 11  계약년월일                object \n",
      " 12  구                    object \n",
      " 13  건축나이                 int64  \n",
      " 14  Latitude             float64\n",
      " 15  Longitude            float64\n",
      " 16  역세권위도                float64\n",
      " 17  역세권경도                float64\n",
      " 18  Distance_to_station  float64\n",
      " 19  역사명                  object \n",
      " 20  Subway_cnt           int64  \n",
      " 21  New_type             object \n",
      "dtypes: float64(7), int64(5), object(10)\n",
      "memory usage: 439.9+ MB\n"
     ]
    }
   ],
   "source": [
    "import pandas as pd\n",
    "\n",
    "df = pd.read_csv('./subway/역세권시각화에 사용한 데이터프레임.csv', encoding='utf-8')\n",
    "df.info()"
   ]
  },
  {
   "cell_type": "markdown",
   "id": "3997947a",
   "metadata": {},
   "source": [
    "# 사진 크기 수정\n",
    "\n",
    "- 파일을 다운받아서 크기를 늘렸습니다.\n",
    "- 사진파일까지 깃허브에 올렸습니다."
   ]
  },
  {
   "cell_type": "markdown",
   "id": "561feed9",
   "metadata": {},
   "source": [
    "![](./역세권개념이미지.jpg)"
   ]
  },
  {
   "cell_type": "markdown",
   "id": "b9023cd7",
   "metadata": {},
   "source": [
    "# 논문, 보고서 스크랩"
   ]
  },
  {
   "cell_type": "markdown",
   "id": "043465fe",
   "metadata": {},
   "source": [
    "### 아파트 가격에 영향을 미치는 근린환경 요인 분석\n",
    "\n",
    "첫 단락입니다."
   ]
  },
  {
   "cell_type": "markdown",
   "id": "e3374403",
   "metadata": {},
   "source": [
    "![](./아파트가격에영향을미치는근린환경요인분석.png)"
   ]
  },
  {
   "cell_type": "markdown",
   "id": "35697fa2",
   "metadata": {},
   "source": [
    "### 교통 입지요인이 아파트 가격에 미치는 영향에 관한 연구 서울시 환승역세권을 중심으로\n",
    "'넷째, 접근성 요인에~ ' 이부분입니다."
   ]
  },
  {
   "cell_type": "markdown",
   "id": "7153c05f",
   "metadata": {},
   "source": [
    "![](./교통입지요인이아파트가격에미치는영향에관한연구서울시환승역세권을중심으로.png)"
   ]
  },
  {
   "cell_type": "markdown",
   "id": "3bc3ec93",
   "metadata": {},
   "source": [
    "### KB 2023 보고서\n",
    "두 번째, 세 번째 단락입니다."
   ]
  },
  {
   "cell_type": "markdown",
   "id": "b01f01fe",
   "metadata": {},
   "source": [
    "![](./KB2023보고서.png)"
   ]
  },
  {
   "cell_type": "markdown",
   "id": "bc60bc22",
   "metadata": {},
   "source": [
    "# 잘못된 그래프 설명 및 어투 수정\n",
    "- 설명을 위해 `입니다.`를 사용했지만 통일감을 위해 `~이다.`로 바꾸었습니다.\n",
    "- 그리고 한 줄로 이어서 설명할 수 있는 부분은 한 줄로 이었습니다.\n",
    "- ***분석결과도 디테일하게 적었습니다. 괄호에 지하철역명을 적었는데 지저분하면 지우셔도 됩니다.***"
   ]
  },
  {
   "cell_type": "markdown",
   "id": "d38ed812",
   "metadata": {},
   "source": [
    "### 그래프 설명\n",
    "- 열은 역을 기준으로, 행은 (아파트+비아파트), 아파트, 비아파트로 구분된다.\n",
    "- 첫 번째 열은 모든 역을 통합하여 나타낸 시각화 자료이다.\n",
    "- 나머지 열은 역은 '아파트'/'비아파트', 회귀선의 기울기(양/음)에 따라 그래프 개형을 4가지로 나누어 경향을 뚜렷하게 보여주는 역을 선별하여 나타낸 시각화 자료이다.\n",
    "- 그럼에도 불구하고 경향이 희미한 그래프가 있는데 그만큼 해당 경향을 갖는 역들이 적은 것을 의미한다.('강남역', '선정릉 비아파트')\n",
    "\n",
    "<br>\n",
    "\n",
    "- x축은 역과의 거리(최대 500m)를 나타내며, y축은 주택의 전세보증금을 의미한다.\n",
    "- 각 그래프에 역과의 거리와 보증금을 매핑, 표시하여 거리에 따른 보증금에 경향을 나타냈다.\n",
    "- 경향을 좀 더 명확히 확인하기 위해 회귀선도 함께 나타냈다.\n",
    "- 이외에도 빨간선과 초록선이 표시되어있다.\n",
    "- 빨간선은 각 역에서 0.5km 이내 주택 전세금의 평균을 나타내는 선이다.\n",
    "- 초록선은 각 역에서 0.5~1km 이내 주택 전세금의 평균을 나타내는 선이다.(반경 내 모든 주택이 아닌 주변에 역이 하나도 없는 집들만 사용했다.)\n",
    "- 각 그래프 별로 해석을 달리한다.\n",
    "- 일원역의 경우, 회귀선의 기울기가 모두 음수이며 일원역 500m 반경 주택들은 역세권에 영향을 받는것을 의미한다. 하지만 '아파트'의 경우 빨간선이 초록선보다 높은데, 500m를 벗어나며 주변에 지하철역이 없는 아파트의 전세금이 평균적으로 더 높은 것을 의미한다. 앞에 해석과 반대되는 결과이다.\n",
    "- 일원역은 그래프에 따라 상반된 해석결과를 보여주는데, 각 역을 분석한 결과는 다음과 같다.\n",
    "- 총 27개의 역 중 9개가 음의 상관관계를 보였으며(도곡, 선릉, 학동, 압구정, 압구정로데오, 일원, 대모산입구, 학여울, 삼성), 이 중 5개가 초록선이 빨간석보다 높았다.(도곡, 선릉, 학동, 압구정, 압구정로데오) 하지만 학동역, 압구정로데오역은 회귀선의 기울기가 0에 가까운 음수였다. 따라서 도곡역, 선릉역, 압구정역만이 역세권에 유의미한 영향을 받는것으로 나타났다.\n",
    "- '아파트'의 경우 10개가 음의 상관관계를 보였으며(도곡, 선릉, 논현, 강남구청, 압구정, 일원, 대모산입구, 학여울, 강남, 삼성), 이 중 5개가 초록선이 빨간석보다 높았다.(도곡, 선릉, 논현, 강남구청, 압구정) 하지만 선릉역, 강남구청역, 압구정역은 회귀선의 기울기가 0에 가까운 음수였다. 따라서 도곡역, 논현역만이 역세권에 유의미한 영향을 받는것으로 나타났다.\n",
    "- '비아파트'의 경우 10개가 음의 상관관계를 보였으며(일원, 매봉, 언주, 선정릉, 청담, 압구정, 압구정로데오, 개포동, 삼성, 논현), 이 중 7개가 초록선이 빨간석보다 높았다.(일원, 매봉, 언주, 선정릉, 청담, 압구정, 압구정로데오) 하지만 매봉역, 언주역, 선정릉역, 청담역은 회귀선의 기울기가 0에 가까운 음수였다. 따라서 일원역, 압구정역, 압구정로데오역만이 역세권에 유의미한 영향을 받는것으로 나타났다.\n",
    "- 세가지 측면에서 모두 유의미한 역은 없었으며, 도곡역(통합, 아파트), 압구정역(통합, '비아파트')가 두가지 측면에서 유의미한 영향을 받았다."
   ]
  },
  {
   "cell_type": "markdown",
   "id": "32399294",
   "metadata": {},
   "source": [
    "# folium"
   ]
  },
  {
   "cell_type": "markdown",
   "id": "e460a019",
   "metadata": {},
   "source": [
    "![](./역세권folium1.png)"
   ]
  },
  {
   "cell_type": "markdown",
   "id": "404132a8",
   "metadata": {},
   "source": [
    "![](./역세권folium2.png)"
   ]
  },
  {
   "cell_type": "code",
   "execution_count": null,
   "id": "b475745f",
   "metadata": {},
   "outputs": [],
   "source": []
  },
  {
   "cell_type": "code",
   "execution_count": null,
   "id": "8998c142",
   "metadata": {},
   "outputs": [],
   "source": []
  },
  {
   "cell_type": "code",
   "execution_count": null,
   "id": "a2e92e96",
   "metadata": {},
   "outputs": [],
   "source": []
  },
  {
   "cell_type": "code",
   "execution_count": null,
   "id": "ece58d78",
   "metadata": {},
   "outputs": [],
   "source": []
  }
 ],
 "metadata": {
  "kernelspec": {
   "display_name": "Python 3 (ipykernel)",
   "language": "python",
   "name": "python3"
  },
  "language_info": {
   "codemirror_mode": {
    "name": "ipython",
    "version": 3
   },
   "file_extension": ".py",
   "mimetype": "text/x-python",
   "name": "python",
   "nbconvert_exporter": "python",
   "pygments_lexer": "ipython3",
   "version": "3.9.13"
  }
 },
 "nbformat": 4,
 "nbformat_minor": 5
}
