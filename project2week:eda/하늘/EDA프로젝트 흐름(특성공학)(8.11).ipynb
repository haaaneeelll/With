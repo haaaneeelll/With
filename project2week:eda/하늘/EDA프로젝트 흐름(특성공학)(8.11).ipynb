{
 "cells": [
  {
   "cell_type": "code",
   "execution_count": 1,
   "id": "c53c485f",
   "metadata": {},
   "outputs": [],
   "source": [
    "%matplotlib inline\n",
    "import numpy as np\n",
    "import pandas as pd \n",
    "import matplotlib.pyplot as plt\n",
    "import scipy.stats as stats\n",
    "import sklearn.linear_model as linear_model\n",
    "import seaborn as sns\n",
    "import xgboost as xgb\n",
    "from sklearn.model_selection import KFold\n",
    "from IPython.display import HTML, display\n",
    "from sklearn.manifold import TSNE\n",
    "from sklearn.cluster import KMeans\n",
    "from sklearn.decomposition import PCA\n",
    "from sklearn.preprocessing import StandardScaler\n",
    "\n",
    "\n",
    "pd.options.display.max_rows = 1000\n",
    "pd.options.display.max_columns = 20\n",
    "\n",
    "import warnings\n",
    "\n",
    "# 경고 무시하기\n",
    "warnings.filterwarnings(\"ignore\")\n",
    "# unicode minus를 사용하지 않기 위한 설정 (minus 깨짐현상 방지)\n",
    "plt.rcParams['axes.unicode_minus'] = False\n",
    "plt.rcParams['font.family'] = 'AppleGothic'# (위도우용)\n",
    "from matplotlib import font_manager, rc\n",
    "\n",
    "# AppleGothic 폰트 설정\n",
    "rc('font', family='AppleGothic')"
   ]
  },
  {
   "cell_type": "code",
   "execution_count": 2,
   "id": "c061a823",
   "metadata": {},
   "outputs": [
    {
     "data": {
      "text/html": [
       "<div>\n",
       "<style scoped>\n",
       "    .dataframe tbody tr th:only-of-type {\n",
       "        vertical-align: middle;\n",
       "    }\n",
       "\n",
       "    .dataframe tbody tr th {\n",
       "        vertical-align: top;\n",
       "    }\n",
       "\n",
       "    .dataframe thead th {\n",
       "        text-align: right;\n",
       "    }\n",
       "</style>\n",
       "<table border=\"1\" class=\"dataframe\">\n",
       "  <thead>\n",
       "    <tr style=\"text-align: right;\">\n",
       "      <th></th>\n",
       "      <th>보증금(만원)</th>\n",
       "      <th>건축년도</th>\n",
       "      <th>구분</th>\n",
       "      <th>전용면적(㎡)</th>\n",
       "      <th>층</th>\n",
       "      <th>도로명주소_x</th>\n",
       "      <th>계약시작</th>\n",
       "      <th>계약종료</th>\n",
       "      <th>계약년월일</th>\n",
       "      <th>건축나이</th>\n",
       "      <th>...</th>\n",
       "      <th>행정구</th>\n",
       "      <th>행정구코드</th>\n",
       "      <th>스타벅스 개수_y</th>\n",
       "      <th>미쉐린 개수</th>\n",
       "      <th>맥도날드 개수</th>\n",
       "      <th>대규모점포 개수</th>\n",
       "      <th>전통시장 개수</th>\n",
       "      <th>역세권 개수</th>\n",
       "      <th>금리</th>\n",
       "      <th>유치원 개수</th>\n",
       "    </tr>\n",
       "  </thead>\n",
       "  <tbody>\n",
       "    <tr>\n",
       "      <th>0</th>\n",
       "      <td>7500</td>\n",
       "      <td>1989</td>\n",
       "      <td>단독다가구</td>\n",
       "      <td>44.00</td>\n",
       "      <td>3.0</td>\n",
       "      <td>서울특별시 강남구 논현로4길</td>\n",
       "      <td>2022-06-01</td>\n",
       "      <td>2024-06-01</td>\n",
       "      <td>2022-06-01</td>\n",
       "      <td>34</td>\n",
       "      <td>...</td>\n",
       "      <td>개포동</td>\n",
       "      <td>0</td>\n",
       "      <td>0</td>\n",
       "      <td>0</td>\n",
       "      <td>0</td>\n",
       "      <td>0</td>\n",
       "      <td>0</td>\n",
       "      <td>0</td>\n",
       "      <td>4.04</td>\n",
       "      <td>2</td>\n",
       "    </tr>\n",
       "    <tr>\n",
       "      <th>1</th>\n",
       "      <td>14333</td>\n",
       "      <td>1991</td>\n",
       "      <td>단독다가구</td>\n",
       "      <td>44.00</td>\n",
       "      <td>3.0</td>\n",
       "      <td>서울특별시 강남구 논현로4길</td>\n",
       "      <td>2022-10-01</td>\n",
       "      <td>2024-10-01</td>\n",
       "      <td>2022-10-05</td>\n",
       "      <td>32</td>\n",
       "      <td>...</td>\n",
       "      <td>개포동</td>\n",
       "      <td>0</td>\n",
       "      <td>0</td>\n",
       "      <td>0</td>\n",
       "      <td>0</td>\n",
       "      <td>0</td>\n",
       "      <td>0</td>\n",
       "      <td>0</td>\n",
       "      <td>4.82</td>\n",
       "      <td>2</td>\n",
       "    </tr>\n",
       "    <tr>\n",
       "      <th>2</th>\n",
       "      <td>17115</td>\n",
       "      <td>1991</td>\n",
       "      <td>단독다가구</td>\n",
       "      <td>44.00</td>\n",
       "      <td>3.0</td>\n",
       "      <td>서울특별시 강남구 논현로4길</td>\n",
       "      <td>2022-07-01</td>\n",
       "      <td>2024-07-01</td>\n",
       "      <td>2022-07-07</td>\n",
       "      <td>32</td>\n",
       "      <td>...</td>\n",
       "      <td>개포동</td>\n",
       "      <td>0</td>\n",
       "      <td>0</td>\n",
       "      <td>0</td>\n",
       "      <td>0</td>\n",
       "      <td>0</td>\n",
       "      <td>0</td>\n",
       "      <td>0</td>\n",
       "      <td>4.16</td>\n",
       "      <td>2</td>\n",
       "    </tr>\n",
       "    <tr>\n",
       "      <th>3</th>\n",
       "      <td>17640</td>\n",
       "      <td>1991</td>\n",
       "      <td>단독다가구</td>\n",
       "      <td>44.00</td>\n",
       "      <td>3.0</td>\n",
       "      <td>서울특별시 강남구 논현로4길</td>\n",
       "      <td>2022-07-01</td>\n",
       "      <td>2024-07-01</td>\n",
       "      <td>2022-07-07</td>\n",
       "      <td>32</td>\n",
       "      <td>...</td>\n",
       "      <td>개포동</td>\n",
       "      <td>0</td>\n",
       "      <td>0</td>\n",
       "      <td>0</td>\n",
       "      <td>0</td>\n",
       "      <td>0</td>\n",
       "      <td>0</td>\n",
       "      <td>0</td>\n",
       "      <td>4.16</td>\n",
       "      <td>2</td>\n",
       "    </tr>\n",
       "    <tr>\n",
       "      <th>4</th>\n",
       "      <td>7500</td>\n",
       "      <td>1989</td>\n",
       "      <td>단독다가구</td>\n",
       "      <td>44.00</td>\n",
       "      <td>3.0</td>\n",
       "      <td>서울특별시 강남구 논현로4길</td>\n",
       "      <td>2022-06-01</td>\n",
       "      <td>2024-06-01</td>\n",
       "      <td>2022-06-01</td>\n",
       "      <td>34</td>\n",
       "      <td>...</td>\n",
       "      <td>개포동</td>\n",
       "      <td>0</td>\n",
       "      <td>0</td>\n",
       "      <td>0</td>\n",
       "      <td>0</td>\n",
       "      <td>0</td>\n",
       "      <td>0</td>\n",
       "      <td>0</td>\n",
       "      <td>4.04</td>\n",
       "      <td>2</td>\n",
       "    </tr>\n",
       "    <tr>\n",
       "      <th>...</th>\n",
       "      <td>...</td>\n",
       "      <td>...</td>\n",
       "      <td>...</td>\n",
       "      <td>...</td>\n",
       "      <td>...</td>\n",
       "      <td>...</td>\n",
       "      <td>...</td>\n",
       "      <td>...</td>\n",
       "      <td>...</td>\n",
       "      <td>...</td>\n",
       "      <td>...</td>\n",
       "      <td>...</td>\n",
       "      <td>...</td>\n",
       "      <td>...</td>\n",
       "      <td>...</td>\n",
       "      <td>...</td>\n",
       "      <td>...</td>\n",
       "      <td>...</td>\n",
       "      <td>...</td>\n",
       "      <td>...</td>\n",
       "      <td>...</td>\n",
       "    </tr>\n",
       "    <tr>\n",
       "      <th>87356</th>\n",
       "      <td>45000</td>\n",
       "      <td>2004</td>\n",
       "      <td>오피스텔</td>\n",
       "      <td>66.64</td>\n",
       "      <td>8.0</td>\n",
       "      <td>서울특별시 강남구 역삼로 432</td>\n",
       "      <td>NaN</td>\n",
       "      <td>NaN</td>\n",
       "      <td>2019-07-22</td>\n",
       "      <td>19</td>\n",
       "      <td>...</td>\n",
       "      <td>대치동</td>\n",
       "      <td>2</td>\n",
       "      <td>3</td>\n",
       "      <td>1</td>\n",
       "      <td>1</td>\n",
       "      <td>1</td>\n",
       "      <td>0</td>\n",
       "      <td>0</td>\n",
       "      <td>2.64</td>\n",
       "      <td>1</td>\n",
       "    </tr>\n",
       "    <tr>\n",
       "      <th>87357</th>\n",
       "      <td>38000</td>\n",
       "      <td>2005</td>\n",
       "      <td>오피스텔</td>\n",
       "      <td>43.68</td>\n",
       "      <td>5.0</td>\n",
       "      <td>서울특별시 강남구 압구정로 461</td>\n",
       "      <td>NaN</td>\n",
       "      <td>NaN</td>\n",
       "      <td>2019-06-21</td>\n",
       "      <td>18</td>\n",
       "      <td>...</td>\n",
       "      <td>청담동</td>\n",
       "      <td>13</td>\n",
       "      <td>3</td>\n",
       "      <td>17</td>\n",
       "      <td>0</td>\n",
       "      <td>2</td>\n",
       "      <td>0</td>\n",
       "      <td>0</td>\n",
       "      <td>2.74</td>\n",
       "      <td>1</td>\n",
       "    </tr>\n",
       "    <tr>\n",
       "      <th>87358</th>\n",
       "      <td>23500</td>\n",
       "      <td>2014</td>\n",
       "      <td>오피스텔</td>\n",
       "      <td>31.57</td>\n",
       "      <td>5.0</td>\n",
       "      <td>서울특별시 강남구 도산대로 406</td>\n",
       "      <td>NaN</td>\n",
       "      <td>NaN</td>\n",
       "      <td>2019-07-20</td>\n",
       "      <td>9</td>\n",
       "      <td>...</td>\n",
       "      <td>청담동</td>\n",
       "      <td>13</td>\n",
       "      <td>3</td>\n",
       "      <td>31</td>\n",
       "      <td>1</td>\n",
       "      <td>2</td>\n",
       "      <td>0</td>\n",
       "      <td>0</td>\n",
       "      <td>2.64</td>\n",
       "      <td>0</td>\n",
       "    </tr>\n",
       "    <tr>\n",
       "      <th>87359</th>\n",
       "      <td>3000</td>\n",
       "      <td>2020</td>\n",
       "      <td>오피스텔</td>\n",
       "      <td>29.51</td>\n",
       "      <td>6.0</td>\n",
       "      <td>서울특별시 강남구 논현로20길 12</td>\n",
       "      <td>NaN</td>\n",
       "      <td>NaN</td>\n",
       "      <td>2020-09-08</td>\n",
       "      <td>3</td>\n",
       "      <td>...</td>\n",
       "      <td>개포동</td>\n",
       "      <td>0</td>\n",
       "      <td>1</td>\n",
       "      <td>0</td>\n",
       "      <td>0</td>\n",
       "      <td>0</td>\n",
       "      <td>0</td>\n",
       "      <td>0</td>\n",
       "      <td>2.44</td>\n",
       "      <td>1</td>\n",
       "    </tr>\n",
       "    <tr>\n",
       "      <th>87360</th>\n",
       "      <td>17000</td>\n",
       "      <td>2003</td>\n",
       "      <td>오피스텔</td>\n",
       "      <td>29.40</td>\n",
       "      <td>7.0</td>\n",
       "      <td>서울특별시 강남구 언주로 432-10</td>\n",
       "      <td>NaN</td>\n",
       "      <td>NaN</td>\n",
       "      <td>2020-11-25</td>\n",
       "      <td>20</td>\n",
       "      <td>...</td>\n",
       "      <td>역삼동</td>\n",
       "      <td>9</td>\n",
       "      <td>9</td>\n",
       "      <td>2</td>\n",
       "      <td>1</td>\n",
       "      <td>0</td>\n",
       "      <td>0</td>\n",
       "      <td>0</td>\n",
       "      <td>2.56</td>\n",
       "      <td>0</td>\n",
       "    </tr>\n",
       "  </tbody>\n",
       "</table>\n",
       "<p>87361 rows × 22 columns</p>\n",
       "</div>"
      ],
      "text/plain": [
       "       보증금(만원)  건축년도     구분  전용면적(㎡)    층               도로명주소_x        계약시작  \\\n",
       "0         7500  1989  단독다가구    44.00  3.0       서울특별시 강남구 논현로4길  2022-06-01   \n",
       "1        14333  1991  단독다가구    44.00  3.0       서울특별시 강남구 논현로4길  2022-10-01   \n",
       "2        17115  1991  단독다가구    44.00  3.0       서울특별시 강남구 논현로4길  2022-07-01   \n",
       "3        17640  1991  단독다가구    44.00  3.0       서울특별시 강남구 논현로4길  2022-07-01   \n",
       "4         7500  1989  단독다가구    44.00  3.0       서울특별시 강남구 논현로4길  2022-06-01   \n",
       "...        ...   ...    ...      ...  ...                   ...         ...   \n",
       "87356    45000  2004   오피스텔    66.64  8.0     서울특별시 강남구 역삼로 432         NaN   \n",
       "87357    38000  2005   오피스텔    43.68  5.0    서울특별시 강남구 압구정로 461         NaN   \n",
       "87358    23500  2014   오피스텔    31.57  5.0    서울특별시 강남구 도산대로 406         NaN   \n",
       "87359     3000  2020   오피스텔    29.51  6.0   서울특별시 강남구 논현로20길 12         NaN   \n",
       "87360    17000  2003   오피스텔    29.40  7.0  서울특별시 강남구 언주로 432-10         NaN   \n",
       "\n",
       "             계약종료       계약년월일  건축나이  ...  행정구  행정구코드 스타벅스 개수_y  미쉐린 개수  \\\n",
       "0      2024-06-01  2022-06-01    34  ...  개포동      0         0       0   \n",
       "1      2024-10-01  2022-10-05    32  ...  개포동      0         0       0   \n",
       "2      2024-07-01  2022-07-07    32  ...  개포동      0         0       0   \n",
       "3      2024-07-01  2022-07-07    32  ...  개포동      0         0       0   \n",
       "4      2024-06-01  2022-06-01    34  ...  개포동      0         0       0   \n",
       "...           ...         ...   ...  ...  ...    ...       ...     ...   \n",
       "87356         NaN  2019-07-22    19  ...  대치동      2         3       1   \n",
       "87357         NaN  2019-06-21    18  ...  청담동     13         3      17   \n",
       "87358         NaN  2019-07-20     9  ...  청담동     13         3      31   \n",
       "87359         NaN  2020-09-08     3  ...  개포동      0         1       0   \n",
       "87360         NaN  2020-11-25    20  ...  역삼동      9         9       2   \n",
       "\n",
       "       맥도날드 개수  대규모점포 개수  전통시장 개수  역세권 개수    금리  유치원 개수  \n",
       "0            0         0        0       0  4.04       2  \n",
       "1            0         0        0       0  4.82       2  \n",
       "2            0         0        0       0  4.16       2  \n",
       "3            0         0        0       0  4.16       2  \n",
       "4            0         0        0       0  4.04       2  \n",
       "...        ...       ...      ...     ...   ...     ...  \n",
       "87356        1         1        0       0  2.64       1  \n",
       "87357        0         2        0       0  2.74       1  \n",
       "87358        1         2        0       0  2.64       0  \n",
       "87359        0         0        0       0  2.44       1  \n",
       "87360        1         0        0       0  2.56       0  \n",
       "\n",
       "[87361 rows x 22 columns]"
      ]
     },
     "execution_count": 2,
     "metadata": {},
     "output_type": "execute_result"
    }
   ],
   "source": [
    "import pandas as pd\n",
    "df = pd.read_csv('강남구전세데이터_마지막.csv')\n",
    "df"
   ]
  },
  {
   "cell_type": "markdown",
   "id": "2ed95cc4",
   "metadata": {},
   "source": [
    "# 전처리 "
   ]
  },
  {
   "cell_type": "markdown",
   "id": "8ddad7d3",
   "metadata": {},
   "source": [
    "# 1. 특성공학\n",
    "- 특징 구축방법(Feature Engineering)을 주로 진행 \n",
    "- 이후 중복특징기법 진행\n"
   ]
  },
  {
   "cell_type": "markdown",
   "id": "dd6ff419",
   "metadata": {},
   "source": [
    "# 1-1-1. 전용면적 Feature Engineering통한 지표변수 변환\n",
    "- 고유값이 5813개가 있다.\n",
    "- 다른 지표와 비교가 어렵다.\n",
    "- '0-30', '30-60', '60-90', '90-120', '120+'평수를 구간을 나눠 새로운 칼럼으로 만들겠다."
   ]
  },
  {
   "cell_type": "code",
   "execution_count": 3,
   "id": "678ca08a",
   "metadata": {},
   "outputs": [
    {
     "data": {
      "text/plain": [
       "count    87361.000000\n",
       "mean        67.776567\n",
       "std         37.183271\n",
       "min         11.390000\n",
       "25%         40.560000\n",
       "50%         59.920000\n",
       "75%         84.930000\n",
       "max        301.470000\n",
       "Name: 전용면적(㎡), dtype: float64"
      ]
     },
     "execution_count": 3,
     "metadata": {},
     "output_type": "execute_result"
    }
   ],
   "source": [
    "df['전용면적(㎡)'].describe()"
   ]
  },
  {
   "cell_type": "code",
   "execution_count": 4,
   "id": "d22b2326",
   "metadata": {},
   "outputs": [
    {
     "data": {
      "text/plain": [
       "5813"
      ]
     },
     "execution_count": 4,
     "metadata": {},
     "output_type": "execute_result"
    }
   ],
   "source": [
    "df['전용면적(㎡)'].nunique()"
   ]
  },
  {
   "cell_type": "code",
   "execution_count": 5,
   "id": "222ee87d",
   "metadata": {},
   "outputs": [],
   "source": [
    "bins = [0, 30, 60, 90, 120, float('inf')]\n",
    "labels = ['0-30', '30-60', '60-90', '90-120', '120+']\n",
    "df['전용면적band'] = pd.cut(df['전용면적(㎡)'], bins=bins, labels=labels, include_lowest=True)"
   ]
  },
  {
   "cell_type": "code",
   "execution_count": 6,
   "id": "b5521ae8",
   "metadata": {},
   "outputs": [
    {
     "data": {
      "text/html": [
       "<div>\n",
       "<style scoped>\n",
       "    .dataframe tbody tr th:only-of-type {\n",
       "        vertical-align: middle;\n",
       "    }\n",
       "\n",
       "    .dataframe tbody tr th {\n",
       "        vertical-align: top;\n",
       "    }\n",
       "\n",
       "    .dataframe thead th {\n",
       "        text-align: right;\n",
       "    }\n",
       "</style>\n",
       "<table border=\"1\" class=\"dataframe\">\n",
       "  <thead>\n",
       "    <tr style=\"text-align: right;\">\n",
       "      <th></th>\n",
       "      <th>보증금(만원)</th>\n",
       "      <th>건축년도</th>\n",
       "      <th>구분</th>\n",
       "      <th>전용면적(㎡)</th>\n",
       "      <th>층</th>\n",
       "      <th>도로명주소_x</th>\n",
       "      <th>계약시작</th>\n",
       "      <th>계약종료</th>\n",
       "      <th>계약년월일</th>\n",
       "      <th>건축나이</th>\n",
       "      <th>...</th>\n",
       "      <th>행정구코드</th>\n",
       "      <th>스타벅스 개수_y</th>\n",
       "      <th>미쉐린 개수</th>\n",
       "      <th>맥도날드 개수</th>\n",
       "      <th>대규모점포 개수</th>\n",
       "      <th>전통시장 개수</th>\n",
       "      <th>역세권 개수</th>\n",
       "      <th>금리</th>\n",
       "      <th>유치원 개수</th>\n",
       "      <th>전용면적band</th>\n",
       "    </tr>\n",
       "  </thead>\n",
       "  <tbody>\n",
       "    <tr>\n",
       "      <th>0</th>\n",
       "      <td>7500</td>\n",
       "      <td>1989</td>\n",
       "      <td>단독다가구</td>\n",
       "      <td>44.00</td>\n",
       "      <td>3.0</td>\n",
       "      <td>서울특별시 강남구 논현로4길</td>\n",
       "      <td>2022-06-01</td>\n",
       "      <td>2024-06-01</td>\n",
       "      <td>2022-06-01</td>\n",
       "      <td>34</td>\n",
       "      <td>...</td>\n",
       "      <td>0</td>\n",
       "      <td>0</td>\n",
       "      <td>0</td>\n",
       "      <td>0</td>\n",
       "      <td>0</td>\n",
       "      <td>0</td>\n",
       "      <td>0</td>\n",
       "      <td>4.04</td>\n",
       "      <td>2</td>\n",
       "      <td>30-60</td>\n",
       "    </tr>\n",
       "    <tr>\n",
       "      <th>1</th>\n",
       "      <td>14333</td>\n",
       "      <td>1991</td>\n",
       "      <td>단독다가구</td>\n",
       "      <td>44.00</td>\n",
       "      <td>3.0</td>\n",
       "      <td>서울특별시 강남구 논현로4길</td>\n",
       "      <td>2022-10-01</td>\n",
       "      <td>2024-10-01</td>\n",
       "      <td>2022-10-05</td>\n",
       "      <td>32</td>\n",
       "      <td>...</td>\n",
       "      <td>0</td>\n",
       "      <td>0</td>\n",
       "      <td>0</td>\n",
       "      <td>0</td>\n",
       "      <td>0</td>\n",
       "      <td>0</td>\n",
       "      <td>0</td>\n",
       "      <td>4.82</td>\n",
       "      <td>2</td>\n",
       "      <td>30-60</td>\n",
       "    </tr>\n",
       "    <tr>\n",
       "      <th>2</th>\n",
       "      <td>17115</td>\n",
       "      <td>1991</td>\n",
       "      <td>단독다가구</td>\n",
       "      <td>44.00</td>\n",
       "      <td>3.0</td>\n",
       "      <td>서울특별시 강남구 논현로4길</td>\n",
       "      <td>2022-07-01</td>\n",
       "      <td>2024-07-01</td>\n",
       "      <td>2022-07-07</td>\n",
       "      <td>32</td>\n",
       "      <td>...</td>\n",
       "      <td>0</td>\n",
       "      <td>0</td>\n",
       "      <td>0</td>\n",
       "      <td>0</td>\n",
       "      <td>0</td>\n",
       "      <td>0</td>\n",
       "      <td>0</td>\n",
       "      <td>4.16</td>\n",
       "      <td>2</td>\n",
       "      <td>30-60</td>\n",
       "    </tr>\n",
       "    <tr>\n",
       "      <th>3</th>\n",
       "      <td>17640</td>\n",
       "      <td>1991</td>\n",
       "      <td>단독다가구</td>\n",
       "      <td>44.00</td>\n",
       "      <td>3.0</td>\n",
       "      <td>서울특별시 강남구 논현로4길</td>\n",
       "      <td>2022-07-01</td>\n",
       "      <td>2024-07-01</td>\n",
       "      <td>2022-07-07</td>\n",
       "      <td>32</td>\n",
       "      <td>...</td>\n",
       "      <td>0</td>\n",
       "      <td>0</td>\n",
       "      <td>0</td>\n",
       "      <td>0</td>\n",
       "      <td>0</td>\n",
       "      <td>0</td>\n",
       "      <td>0</td>\n",
       "      <td>4.16</td>\n",
       "      <td>2</td>\n",
       "      <td>30-60</td>\n",
       "    </tr>\n",
       "    <tr>\n",
       "      <th>4</th>\n",
       "      <td>7500</td>\n",
       "      <td>1989</td>\n",
       "      <td>단독다가구</td>\n",
       "      <td>44.00</td>\n",
       "      <td>3.0</td>\n",
       "      <td>서울특별시 강남구 논현로4길</td>\n",
       "      <td>2022-06-01</td>\n",
       "      <td>2024-06-01</td>\n",
       "      <td>2022-06-01</td>\n",
       "      <td>34</td>\n",
       "      <td>...</td>\n",
       "      <td>0</td>\n",
       "      <td>0</td>\n",
       "      <td>0</td>\n",
       "      <td>0</td>\n",
       "      <td>0</td>\n",
       "      <td>0</td>\n",
       "      <td>0</td>\n",
       "      <td>4.04</td>\n",
       "      <td>2</td>\n",
       "      <td>30-60</td>\n",
       "    </tr>\n",
       "    <tr>\n",
       "      <th>...</th>\n",
       "      <td>...</td>\n",
       "      <td>...</td>\n",
       "      <td>...</td>\n",
       "      <td>...</td>\n",
       "      <td>...</td>\n",
       "      <td>...</td>\n",
       "      <td>...</td>\n",
       "      <td>...</td>\n",
       "      <td>...</td>\n",
       "      <td>...</td>\n",
       "      <td>...</td>\n",
       "      <td>...</td>\n",
       "      <td>...</td>\n",
       "      <td>...</td>\n",
       "      <td>...</td>\n",
       "      <td>...</td>\n",
       "      <td>...</td>\n",
       "      <td>...</td>\n",
       "      <td>...</td>\n",
       "      <td>...</td>\n",
       "      <td>...</td>\n",
       "    </tr>\n",
       "    <tr>\n",
       "      <th>87356</th>\n",
       "      <td>45000</td>\n",
       "      <td>2004</td>\n",
       "      <td>오피스텔</td>\n",
       "      <td>66.64</td>\n",
       "      <td>8.0</td>\n",
       "      <td>서울특별시 강남구 역삼로 432</td>\n",
       "      <td>NaN</td>\n",
       "      <td>NaN</td>\n",
       "      <td>2019-07-22</td>\n",
       "      <td>19</td>\n",
       "      <td>...</td>\n",
       "      <td>2</td>\n",
       "      <td>3</td>\n",
       "      <td>1</td>\n",
       "      <td>1</td>\n",
       "      <td>1</td>\n",
       "      <td>0</td>\n",
       "      <td>0</td>\n",
       "      <td>2.64</td>\n",
       "      <td>1</td>\n",
       "      <td>60-90</td>\n",
       "    </tr>\n",
       "    <tr>\n",
       "      <th>87357</th>\n",
       "      <td>38000</td>\n",
       "      <td>2005</td>\n",
       "      <td>오피스텔</td>\n",
       "      <td>43.68</td>\n",
       "      <td>5.0</td>\n",
       "      <td>서울특별시 강남구 압구정로 461</td>\n",
       "      <td>NaN</td>\n",
       "      <td>NaN</td>\n",
       "      <td>2019-06-21</td>\n",
       "      <td>18</td>\n",
       "      <td>...</td>\n",
       "      <td>13</td>\n",
       "      <td>3</td>\n",
       "      <td>17</td>\n",
       "      <td>0</td>\n",
       "      <td>2</td>\n",
       "      <td>0</td>\n",
       "      <td>0</td>\n",
       "      <td>2.74</td>\n",
       "      <td>1</td>\n",
       "      <td>30-60</td>\n",
       "    </tr>\n",
       "    <tr>\n",
       "      <th>87358</th>\n",
       "      <td>23500</td>\n",
       "      <td>2014</td>\n",
       "      <td>오피스텔</td>\n",
       "      <td>31.57</td>\n",
       "      <td>5.0</td>\n",
       "      <td>서울특별시 강남구 도산대로 406</td>\n",
       "      <td>NaN</td>\n",
       "      <td>NaN</td>\n",
       "      <td>2019-07-20</td>\n",
       "      <td>9</td>\n",
       "      <td>...</td>\n",
       "      <td>13</td>\n",
       "      <td>3</td>\n",
       "      <td>31</td>\n",
       "      <td>1</td>\n",
       "      <td>2</td>\n",
       "      <td>0</td>\n",
       "      <td>0</td>\n",
       "      <td>2.64</td>\n",
       "      <td>0</td>\n",
       "      <td>30-60</td>\n",
       "    </tr>\n",
       "    <tr>\n",
       "      <th>87359</th>\n",
       "      <td>3000</td>\n",
       "      <td>2020</td>\n",
       "      <td>오피스텔</td>\n",
       "      <td>29.51</td>\n",
       "      <td>6.0</td>\n",
       "      <td>서울특별시 강남구 논현로20길 12</td>\n",
       "      <td>NaN</td>\n",
       "      <td>NaN</td>\n",
       "      <td>2020-09-08</td>\n",
       "      <td>3</td>\n",
       "      <td>...</td>\n",
       "      <td>0</td>\n",
       "      <td>1</td>\n",
       "      <td>0</td>\n",
       "      <td>0</td>\n",
       "      <td>0</td>\n",
       "      <td>0</td>\n",
       "      <td>0</td>\n",
       "      <td>2.44</td>\n",
       "      <td>1</td>\n",
       "      <td>0-30</td>\n",
       "    </tr>\n",
       "    <tr>\n",
       "      <th>87360</th>\n",
       "      <td>17000</td>\n",
       "      <td>2003</td>\n",
       "      <td>오피스텔</td>\n",
       "      <td>29.40</td>\n",
       "      <td>7.0</td>\n",
       "      <td>서울특별시 강남구 언주로 432-10</td>\n",
       "      <td>NaN</td>\n",
       "      <td>NaN</td>\n",
       "      <td>2020-11-25</td>\n",
       "      <td>20</td>\n",
       "      <td>...</td>\n",
       "      <td>9</td>\n",
       "      <td>9</td>\n",
       "      <td>2</td>\n",
       "      <td>1</td>\n",
       "      <td>0</td>\n",
       "      <td>0</td>\n",
       "      <td>0</td>\n",
       "      <td>2.56</td>\n",
       "      <td>0</td>\n",
       "      <td>0-30</td>\n",
       "    </tr>\n",
       "  </tbody>\n",
       "</table>\n",
       "<p>87361 rows × 23 columns</p>\n",
       "</div>"
      ],
      "text/plain": [
       "       보증금(만원)  건축년도     구분  전용면적(㎡)    층               도로명주소_x        계약시작  \\\n",
       "0         7500  1989  단독다가구    44.00  3.0       서울특별시 강남구 논현로4길  2022-06-01   \n",
       "1        14333  1991  단독다가구    44.00  3.0       서울특별시 강남구 논현로4길  2022-10-01   \n",
       "2        17115  1991  단독다가구    44.00  3.0       서울특별시 강남구 논현로4길  2022-07-01   \n",
       "3        17640  1991  단독다가구    44.00  3.0       서울특별시 강남구 논현로4길  2022-07-01   \n",
       "4         7500  1989  단독다가구    44.00  3.0       서울특별시 강남구 논현로4길  2022-06-01   \n",
       "...        ...   ...    ...      ...  ...                   ...         ...   \n",
       "87356    45000  2004   오피스텔    66.64  8.0     서울특별시 강남구 역삼로 432         NaN   \n",
       "87357    38000  2005   오피스텔    43.68  5.0    서울특별시 강남구 압구정로 461         NaN   \n",
       "87358    23500  2014   오피스텔    31.57  5.0    서울특별시 강남구 도산대로 406         NaN   \n",
       "87359     3000  2020   오피스텔    29.51  6.0   서울특별시 강남구 논현로20길 12         NaN   \n",
       "87360    17000  2003   오피스텔    29.40  7.0  서울특별시 강남구 언주로 432-10         NaN   \n",
       "\n",
       "             계약종료       계약년월일  건축나이  ...  행정구코드  스타벅스 개수_y 미쉐린 개수  맥도날드 개수  \\\n",
       "0      2024-06-01  2022-06-01    34  ...      0          0      0        0   \n",
       "1      2024-10-01  2022-10-05    32  ...      0          0      0        0   \n",
       "2      2024-07-01  2022-07-07    32  ...      0          0      0        0   \n",
       "3      2024-07-01  2022-07-07    32  ...      0          0      0        0   \n",
       "4      2024-06-01  2022-06-01    34  ...      0          0      0        0   \n",
       "...           ...         ...   ...  ...    ...        ...    ...      ...   \n",
       "87356         NaN  2019-07-22    19  ...      2          3      1        1   \n",
       "87357         NaN  2019-06-21    18  ...     13          3     17        0   \n",
       "87358         NaN  2019-07-20     9  ...     13          3     31        1   \n",
       "87359         NaN  2020-09-08     3  ...      0          1      0        0   \n",
       "87360         NaN  2020-11-25    20  ...      9          9      2        1   \n",
       "\n",
       "       대규모점포 개수  전통시장 개수  역세권 개수    금리  유치원 개수  전용면적band  \n",
       "0             0        0       0  4.04       2     30-60  \n",
       "1             0        0       0  4.82       2     30-60  \n",
       "2             0        0       0  4.16       2     30-60  \n",
       "3             0        0       0  4.16       2     30-60  \n",
       "4             0        0       0  4.04       2     30-60  \n",
       "...         ...      ...     ...   ...     ...       ...  \n",
       "87356         1        0       0  2.64       1     60-90  \n",
       "87357         2        0       0  2.74       1     30-60  \n",
       "87358         2        0       0  2.64       0     30-60  \n",
       "87359         0        0       0  2.44       1      0-30  \n",
       "87360         0        0       0  2.56       0      0-30  \n",
       "\n",
       "[87361 rows x 23 columns]"
      ]
     },
     "execution_count": 6,
     "metadata": {},
     "output_type": "execute_result"
    }
   ],
   "source": [
    "df"
   ]
  },
  {
   "cell_type": "markdown",
   "id": "4a78bf1c",
   "metadata": {},
   "source": [
    "# 1-1-2. 전용면적 + 행정구  Feature Engineering통한 중복 특징 변환"
   ]
  },
  {
   "cell_type": "code",
   "execution_count": 7,
   "id": "cdce2548",
   "metadata": {},
   "outputs": [],
   "source": [
    "df['행정구_전용면적band'] = df['행정구'] + df['전용면적band'].astype(str)"
   ]
  },
  {
   "cell_type": "code",
   "execution_count": 8,
   "id": "97755b55",
   "metadata": {},
   "outputs": [
    {
     "data": {
      "text/html": [
       "<div>\n",
       "<style scoped>\n",
       "    .dataframe tbody tr th:only-of-type {\n",
       "        vertical-align: middle;\n",
       "    }\n",
       "\n",
       "    .dataframe tbody tr th {\n",
       "        vertical-align: top;\n",
       "    }\n",
       "\n",
       "    .dataframe thead th {\n",
       "        text-align: right;\n",
       "    }\n",
       "</style>\n",
       "<table border=\"1\" class=\"dataframe\">\n",
       "  <thead>\n",
       "    <tr style=\"text-align: right;\">\n",
       "      <th></th>\n",
       "      <th>보증금(만원)</th>\n",
       "      <th>건축년도</th>\n",
       "      <th>구분</th>\n",
       "      <th>전용면적(㎡)</th>\n",
       "      <th>층</th>\n",
       "      <th>도로명주소_x</th>\n",
       "      <th>계약시작</th>\n",
       "      <th>계약종료</th>\n",
       "      <th>계약년월일</th>\n",
       "      <th>건축나이</th>\n",
       "      <th>...</th>\n",
       "      <th>스타벅스 개수_y</th>\n",
       "      <th>미쉐린 개수</th>\n",
       "      <th>맥도날드 개수</th>\n",
       "      <th>대규모점포 개수</th>\n",
       "      <th>전통시장 개수</th>\n",
       "      <th>역세권 개수</th>\n",
       "      <th>금리</th>\n",
       "      <th>유치원 개수</th>\n",
       "      <th>전용면적band</th>\n",
       "      <th>행정구_전용면적band</th>\n",
       "    </tr>\n",
       "  </thead>\n",
       "  <tbody>\n",
       "    <tr>\n",
       "      <th>0</th>\n",
       "      <td>7500</td>\n",
       "      <td>1989</td>\n",
       "      <td>단독다가구</td>\n",
       "      <td>44.00</td>\n",
       "      <td>3.0</td>\n",
       "      <td>서울특별시 강남구 논현로4길</td>\n",
       "      <td>2022-06-01</td>\n",
       "      <td>2024-06-01</td>\n",
       "      <td>2022-06-01</td>\n",
       "      <td>34</td>\n",
       "      <td>...</td>\n",
       "      <td>0</td>\n",
       "      <td>0</td>\n",
       "      <td>0</td>\n",
       "      <td>0</td>\n",
       "      <td>0</td>\n",
       "      <td>0</td>\n",
       "      <td>4.04</td>\n",
       "      <td>2</td>\n",
       "      <td>30-60</td>\n",
       "      <td>개포동30-60</td>\n",
       "    </tr>\n",
       "    <tr>\n",
       "      <th>1</th>\n",
       "      <td>14333</td>\n",
       "      <td>1991</td>\n",
       "      <td>단독다가구</td>\n",
       "      <td>44.00</td>\n",
       "      <td>3.0</td>\n",
       "      <td>서울특별시 강남구 논현로4길</td>\n",
       "      <td>2022-10-01</td>\n",
       "      <td>2024-10-01</td>\n",
       "      <td>2022-10-05</td>\n",
       "      <td>32</td>\n",
       "      <td>...</td>\n",
       "      <td>0</td>\n",
       "      <td>0</td>\n",
       "      <td>0</td>\n",
       "      <td>0</td>\n",
       "      <td>0</td>\n",
       "      <td>0</td>\n",
       "      <td>4.82</td>\n",
       "      <td>2</td>\n",
       "      <td>30-60</td>\n",
       "      <td>개포동30-60</td>\n",
       "    </tr>\n",
       "    <tr>\n",
       "      <th>2</th>\n",
       "      <td>17115</td>\n",
       "      <td>1991</td>\n",
       "      <td>단독다가구</td>\n",
       "      <td>44.00</td>\n",
       "      <td>3.0</td>\n",
       "      <td>서울특별시 강남구 논현로4길</td>\n",
       "      <td>2022-07-01</td>\n",
       "      <td>2024-07-01</td>\n",
       "      <td>2022-07-07</td>\n",
       "      <td>32</td>\n",
       "      <td>...</td>\n",
       "      <td>0</td>\n",
       "      <td>0</td>\n",
       "      <td>0</td>\n",
       "      <td>0</td>\n",
       "      <td>0</td>\n",
       "      <td>0</td>\n",
       "      <td>4.16</td>\n",
       "      <td>2</td>\n",
       "      <td>30-60</td>\n",
       "      <td>개포동30-60</td>\n",
       "    </tr>\n",
       "    <tr>\n",
       "      <th>3</th>\n",
       "      <td>17640</td>\n",
       "      <td>1991</td>\n",
       "      <td>단독다가구</td>\n",
       "      <td>44.00</td>\n",
       "      <td>3.0</td>\n",
       "      <td>서울특별시 강남구 논현로4길</td>\n",
       "      <td>2022-07-01</td>\n",
       "      <td>2024-07-01</td>\n",
       "      <td>2022-07-07</td>\n",
       "      <td>32</td>\n",
       "      <td>...</td>\n",
       "      <td>0</td>\n",
       "      <td>0</td>\n",
       "      <td>0</td>\n",
       "      <td>0</td>\n",
       "      <td>0</td>\n",
       "      <td>0</td>\n",
       "      <td>4.16</td>\n",
       "      <td>2</td>\n",
       "      <td>30-60</td>\n",
       "      <td>개포동30-60</td>\n",
       "    </tr>\n",
       "    <tr>\n",
       "      <th>4</th>\n",
       "      <td>7500</td>\n",
       "      <td>1989</td>\n",
       "      <td>단독다가구</td>\n",
       "      <td>44.00</td>\n",
       "      <td>3.0</td>\n",
       "      <td>서울특별시 강남구 논현로4길</td>\n",
       "      <td>2022-06-01</td>\n",
       "      <td>2024-06-01</td>\n",
       "      <td>2022-06-01</td>\n",
       "      <td>34</td>\n",
       "      <td>...</td>\n",
       "      <td>0</td>\n",
       "      <td>0</td>\n",
       "      <td>0</td>\n",
       "      <td>0</td>\n",
       "      <td>0</td>\n",
       "      <td>0</td>\n",
       "      <td>4.04</td>\n",
       "      <td>2</td>\n",
       "      <td>30-60</td>\n",
       "      <td>개포동30-60</td>\n",
       "    </tr>\n",
       "    <tr>\n",
       "      <th>...</th>\n",
       "      <td>...</td>\n",
       "      <td>...</td>\n",
       "      <td>...</td>\n",
       "      <td>...</td>\n",
       "      <td>...</td>\n",
       "      <td>...</td>\n",
       "      <td>...</td>\n",
       "      <td>...</td>\n",
       "      <td>...</td>\n",
       "      <td>...</td>\n",
       "      <td>...</td>\n",
       "      <td>...</td>\n",
       "      <td>...</td>\n",
       "      <td>...</td>\n",
       "      <td>...</td>\n",
       "      <td>...</td>\n",
       "      <td>...</td>\n",
       "      <td>...</td>\n",
       "      <td>...</td>\n",
       "      <td>...</td>\n",
       "      <td>...</td>\n",
       "    </tr>\n",
       "    <tr>\n",
       "      <th>87356</th>\n",
       "      <td>45000</td>\n",
       "      <td>2004</td>\n",
       "      <td>오피스텔</td>\n",
       "      <td>66.64</td>\n",
       "      <td>8.0</td>\n",
       "      <td>서울특별시 강남구 역삼로 432</td>\n",
       "      <td>NaN</td>\n",
       "      <td>NaN</td>\n",
       "      <td>2019-07-22</td>\n",
       "      <td>19</td>\n",
       "      <td>...</td>\n",
       "      <td>3</td>\n",
       "      <td>1</td>\n",
       "      <td>1</td>\n",
       "      <td>1</td>\n",
       "      <td>0</td>\n",
       "      <td>0</td>\n",
       "      <td>2.64</td>\n",
       "      <td>1</td>\n",
       "      <td>60-90</td>\n",
       "      <td>대치동60-90</td>\n",
       "    </tr>\n",
       "    <tr>\n",
       "      <th>87357</th>\n",
       "      <td>38000</td>\n",
       "      <td>2005</td>\n",
       "      <td>오피스텔</td>\n",
       "      <td>43.68</td>\n",
       "      <td>5.0</td>\n",
       "      <td>서울특별시 강남구 압구정로 461</td>\n",
       "      <td>NaN</td>\n",
       "      <td>NaN</td>\n",
       "      <td>2019-06-21</td>\n",
       "      <td>18</td>\n",
       "      <td>...</td>\n",
       "      <td>3</td>\n",
       "      <td>17</td>\n",
       "      <td>0</td>\n",
       "      <td>2</td>\n",
       "      <td>0</td>\n",
       "      <td>0</td>\n",
       "      <td>2.74</td>\n",
       "      <td>1</td>\n",
       "      <td>30-60</td>\n",
       "      <td>청담동30-60</td>\n",
       "    </tr>\n",
       "    <tr>\n",
       "      <th>87358</th>\n",
       "      <td>23500</td>\n",
       "      <td>2014</td>\n",
       "      <td>오피스텔</td>\n",
       "      <td>31.57</td>\n",
       "      <td>5.0</td>\n",
       "      <td>서울특별시 강남구 도산대로 406</td>\n",
       "      <td>NaN</td>\n",
       "      <td>NaN</td>\n",
       "      <td>2019-07-20</td>\n",
       "      <td>9</td>\n",
       "      <td>...</td>\n",
       "      <td>3</td>\n",
       "      <td>31</td>\n",
       "      <td>1</td>\n",
       "      <td>2</td>\n",
       "      <td>0</td>\n",
       "      <td>0</td>\n",
       "      <td>2.64</td>\n",
       "      <td>0</td>\n",
       "      <td>30-60</td>\n",
       "      <td>청담동30-60</td>\n",
       "    </tr>\n",
       "    <tr>\n",
       "      <th>87359</th>\n",
       "      <td>3000</td>\n",
       "      <td>2020</td>\n",
       "      <td>오피스텔</td>\n",
       "      <td>29.51</td>\n",
       "      <td>6.0</td>\n",
       "      <td>서울특별시 강남구 논현로20길 12</td>\n",
       "      <td>NaN</td>\n",
       "      <td>NaN</td>\n",
       "      <td>2020-09-08</td>\n",
       "      <td>3</td>\n",
       "      <td>...</td>\n",
       "      <td>1</td>\n",
       "      <td>0</td>\n",
       "      <td>0</td>\n",
       "      <td>0</td>\n",
       "      <td>0</td>\n",
       "      <td>0</td>\n",
       "      <td>2.44</td>\n",
       "      <td>1</td>\n",
       "      <td>0-30</td>\n",
       "      <td>개포동0-30</td>\n",
       "    </tr>\n",
       "    <tr>\n",
       "      <th>87360</th>\n",
       "      <td>17000</td>\n",
       "      <td>2003</td>\n",
       "      <td>오피스텔</td>\n",
       "      <td>29.40</td>\n",
       "      <td>7.0</td>\n",
       "      <td>서울특별시 강남구 언주로 432-10</td>\n",
       "      <td>NaN</td>\n",
       "      <td>NaN</td>\n",
       "      <td>2020-11-25</td>\n",
       "      <td>20</td>\n",
       "      <td>...</td>\n",
       "      <td>9</td>\n",
       "      <td>2</td>\n",
       "      <td>1</td>\n",
       "      <td>0</td>\n",
       "      <td>0</td>\n",
       "      <td>0</td>\n",
       "      <td>2.56</td>\n",
       "      <td>0</td>\n",
       "      <td>0-30</td>\n",
       "      <td>역삼동0-30</td>\n",
       "    </tr>\n",
       "  </tbody>\n",
       "</table>\n",
       "<p>87361 rows × 24 columns</p>\n",
       "</div>"
      ],
      "text/plain": [
       "       보증금(만원)  건축년도     구분  전용면적(㎡)    층               도로명주소_x        계약시작  \\\n",
       "0         7500  1989  단독다가구    44.00  3.0       서울특별시 강남구 논현로4길  2022-06-01   \n",
       "1        14333  1991  단독다가구    44.00  3.0       서울특별시 강남구 논현로4길  2022-10-01   \n",
       "2        17115  1991  단독다가구    44.00  3.0       서울특별시 강남구 논현로4길  2022-07-01   \n",
       "3        17640  1991  단독다가구    44.00  3.0       서울특별시 강남구 논현로4길  2022-07-01   \n",
       "4         7500  1989  단독다가구    44.00  3.0       서울특별시 강남구 논현로4길  2022-06-01   \n",
       "...        ...   ...    ...      ...  ...                   ...         ...   \n",
       "87356    45000  2004   오피스텔    66.64  8.0     서울특별시 강남구 역삼로 432         NaN   \n",
       "87357    38000  2005   오피스텔    43.68  5.0    서울특별시 강남구 압구정로 461         NaN   \n",
       "87358    23500  2014   오피스텔    31.57  5.0    서울특별시 강남구 도산대로 406         NaN   \n",
       "87359     3000  2020   오피스텔    29.51  6.0   서울특별시 강남구 논현로20길 12         NaN   \n",
       "87360    17000  2003   오피스텔    29.40  7.0  서울특별시 강남구 언주로 432-10         NaN   \n",
       "\n",
       "             계약종료       계약년월일  건축나이  ...  스타벅스 개수_y  미쉐린 개수 맥도날드 개수  대규모점포 개수  \\\n",
       "0      2024-06-01  2022-06-01    34  ...          0       0       0         0   \n",
       "1      2024-10-01  2022-10-05    32  ...          0       0       0         0   \n",
       "2      2024-07-01  2022-07-07    32  ...          0       0       0         0   \n",
       "3      2024-07-01  2022-07-07    32  ...          0       0       0         0   \n",
       "4      2024-06-01  2022-06-01    34  ...          0       0       0         0   \n",
       "...           ...         ...   ...  ...        ...     ...     ...       ...   \n",
       "87356         NaN  2019-07-22    19  ...          3       1       1         1   \n",
       "87357         NaN  2019-06-21    18  ...          3      17       0         2   \n",
       "87358         NaN  2019-07-20     9  ...          3      31       1         2   \n",
       "87359         NaN  2020-09-08     3  ...          1       0       0         0   \n",
       "87360         NaN  2020-11-25    20  ...          9       2       1         0   \n",
       "\n",
       "       전통시장 개수  역세권 개수    금리  유치원 개수  전용면적band  행정구_전용면적band  \n",
       "0            0       0  4.04       2     30-60      개포동30-60  \n",
       "1            0       0  4.82       2     30-60      개포동30-60  \n",
       "2            0       0  4.16       2     30-60      개포동30-60  \n",
       "3            0       0  4.16       2     30-60      개포동30-60  \n",
       "4            0       0  4.04       2     30-60      개포동30-60  \n",
       "...        ...     ...   ...     ...       ...           ...  \n",
       "87356        0       0  2.64       1     60-90      대치동60-90  \n",
       "87357        0       0  2.74       1     30-60      청담동30-60  \n",
       "87358        0       0  2.64       0     30-60      청담동30-60  \n",
       "87359        0       0  2.44       1      0-30       개포동0-30  \n",
       "87360        0       0  2.56       0      0-30       역삼동0-30  \n",
       "\n",
       "[87361 rows x 24 columns]"
      ]
     },
     "execution_count": 8,
     "metadata": {},
     "output_type": "execute_result"
    }
   ],
   "source": [
    "df"
   ]
  },
  {
   "cell_type": "markdown",
   "id": "c38b77c1",
   "metadata": {},
   "source": [
    "# 1-2-1. 층  Feature Engineering통한 지표변수 변환\n",
    "- 층 고유값은 67개이다.\n",
    "- '-1-3', '3-5', '5-10', '10-67'층을 구간으로 나눠 새로운 칼럼을 만들겠다."
   ]
  },
  {
   "cell_type": "code",
   "execution_count": 9,
   "id": "c4f38ffd",
   "metadata": {},
   "outputs": [
    {
     "data": {
      "text/plain": [
       "count    87361.000000\n",
       "mean         6.859915\n",
       "std          5.758265\n",
       "min         -1.000000\n",
       "25%          3.000000\n",
       "50%          5.000000\n",
       "75%         10.000000\n",
       "max         67.000000\n",
       "Name: 층, dtype: float64"
      ]
     },
     "execution_count": 9,
     "metadata": {},
     "output_type": "execute_result"
    }
   ],
   "source": [
    "df['층'].describe()"
   ]
  },
  {
   "cell_type": "code",
   "execution_count": 10,
   "id": "2d759373",
   "metadata": {},
   "outputs": [
    {
     "data": {
      "text/plain": [
       "67"
      ]
     },
     "execution_count": 10,
     "metadata": {},
     "output_type": "execute_result"
    }
   ],
   "source": [
    "df['층'].nunique()"
   ]
  },
  {
   "cell_type": "code",
   "execution_count": 11,
   "id": "b8c347ae",
   "metadata": {},
   "outputs": [
    {
     "data": {
      "text/html": [
       "<div>\n",
       "<style scoped>\n",
       "    .dataframe tbody tr th:only-of-type {\n",
       "        vertical-align: middle;\n",
       "    }\n",
       "\n",
       "    .dataframe tbody tr th {\n",
       "        vertical-align: top;\n",
       "    }\n",
       "\n",
       "    .dataframe thead th {\n",
       "        text-align: right;\n",
       "    }\n",
       "</style>\n",
       "<table border=\"1\" class=\"dataframe\">\n",
       "  <thead>\n",
       "    <tr style=\"text-align: right;\">\n",
       "      <th></th>\n",
       "      <th>보증금(만원)</th>\n",
       "      <th>건축년도</th>\n",
       "      <th>구분</th>\n",
       "      <th>전용면적(㎡)</th>\n",
       "      <th>층</th>\n",
       "      <th>도로명주소_x</th>\n",
       "      <th>계약시작</th>\n",
       "      <th>계약종료</th>\n",
       "      <th>계약년월일</th>\n",
       "      <th>건축나이</th>\n",
       "      <th>...</th>\n",
       "      <th>미쉐린 개수</th>\n",
       "      <th>맥도날드 개수</th>\n",
       "      <th>대규모점포 개수</th>\n",
       "      <th>전통시장 개수</th>\n",
       "      <th>역세권 개수</th>\n",
       "      <th>금리</th>\n",
       "      <th>유치원 개수</th>\n",
       "      <th>전용면적band</th>\n",
       "      <th>행정구_전용면적band</th>\n",
       "      <th>층band</th>\n",
       "    </tr>\n",
       "  </thead>\n",
       "  <tbody>\n",
       "    <tr>\n",
       "      <th>0</th>\n",
       "      <td>7500</td>\n",
       "      <td>1989</td>\n",
       "      <td>단독다가구</td>\n",
       "      <td>44.00</td>\n",
       "      <td>3.0</td>\n",
       "      <td>서울특별시 강남구 논현로4길</td>\n",
       "      <td>2022-06-01</td>\n",
       "      <td>2024-06-01</td>\n",
       "      <td>2022-06-01</td>\n",
       "      <td>34</td>\n",
       "      <td>...</td>\n",
       "      <td>0</td>\n",
       "      <td>0</td>\n",
       "      <td>0</td>\n",
       "      <td>0</td>\n",
       "      <td>0</td>\n",
       "      <td>4.04</td>\n",
       "      <td>2</td>\n",
       "      <td>30-60</td>\n",
       "      <td>개포동30-60</td>\n",
       "      <td>3-5</td>\n",
       "    </tr>\n",
       "    <tr>\n",
       "      <th>1</th>\n",
       "      <td>14333</td>\n",
       "      <td>1991</td>\n",
       "      <td>단독다가구</td>\n",
       "      <td>44.00</td>\n",
       "      <td>3.0</td>\n",
       "      <td>서울특별시 강남구 논현로4길</td>\n",
       "      <td>2022-10-01</td>\n",
       "      <td>2024-10-01</td>\n",
       "      <td>2022-10-05</td>\n",
       "      <td>32</td>\n",
       "      <td>...</td>\n",
       "      <td>0</td>\n",
       "      <td>0</td>\n",
       "      <td>0</td>\n",
       "      <td>0</td>\n",
       "      <td>0</td>\n",
       "      <td>4.82</td>\n",
       "      <td>2</td>\n",
       "      <td>30-60</td>\n",
       "      <td>개포동30-60</td>\n",
       "      <td>3-5</td>\n",
       "    </tr>\n",
       "    <tr>\n",
       "      <th>2</th>\n",
       "      <td>17115</td>\n",
       "      <td>1991</td>\n",
       "      <td>단독다가구</td>\n",
       "      <td>44.00</td>\n",
       "      <td>3.0</td>\n",
       "      <td>서울특별시 강남구 논현로4길</td>\n",
       "      <td>2022-07-01</td>\n",
       "      <td>2024-07-01</td>\n",
       "      <td>2022-07-07</td>\n",
       "      <td>32</td>\n",
       "      <td>...</td>\n",
       "      <td>0</td>\n",
       "      <td>0</td>\n",
       "      <td>0</td>\n",
       "      <td>0</td>\n",
       "      <td>0</td>\n",
       "      <td>4.16</td>\n",
       "      <td>2</td>\n",
       "      <td>30-60</td>\n",
       "      <td>개포동30-60</td>\n",
       "      <td>3-5</td>\n",
       "    </tr>\n",
       "    <tr>\n",
       "      <th>3</th>\n",
       "      <td>17640</td>\n",
       "      <td>1991</td>\n",
       "      <td>단독다가구</td>\n",
       "      <td>44.00</td>\n",
       "      <td>3.0</td>\n",
       "      <td>서울특별시 강남구 논현로4길</td>\n",
       "      <td>2022-07-01</td>\n",
       "      <td>2024-07-01</td>\n",
       "      <td>2022-07-07</td>\n",
       "      <td>32</td>\n",
       "      <td>...</td>\n",
       "      <td>0</td>\n",
       "      <td>0</td>\n",
       "      <td>0</td>\n",
       "      <td>0</td>\n",
       "      <td>0</td>\n",
       "      <td>4.16</td>\n",
       "      <td>2</td>\n",
       "      <td>30-60</td>\n",
       "      <td>개포동30-60</td>\n",
       "      <td>3-5</td>\n",
       "    </tr>\n",
       "    <tr>\n",
       "      <th>4</th>\n",
       "      <td>7500</td>\n",
       "      <td>1989</td>\n",
       "      <td>단독다가구</td>\n",
       "      <td>44.00</td>\n",
       "      <td>3.0</td>\n",
       "      <td>서울특별시 강남구 논현로4길</td>\n",
       "      <td>2022-06-01</td>\n",
       "      <td>2024-06-01</td>\n",
       "      <td>2022-06-01</td>\n",
       "      <td>34</td>\n",
       "      <td>...</td>\n",
       "      <td>0</td>\n",
       "      <td>0</td>\n",
       "      <td>0</td>\n",
       "      <td>0</td>\n",
       "      <td>0</td>\n",
       "      <td>4.04</td>\n",
       "      <td>2</td>\n",
       "      <td>30-60</td>\n",
       "      <td>개포동30-60</td>\n",
       "      <td>3-5</td>\n",
       "    </tr>\n",
       "    <tr>\n",
       "      <th>...</th>\n",
       "      <td>...</td>\n",
       "      <td>...</td>\n",
       "      <td>...</td>\n",
       "      <td>...</td>\n",
       "      <td>...</td>\n",
       "      <td>...</td>\n",
       "      <td>...</td>\n",
       "      <td>...</td>\n",
       "      <td>...</td>\n",
       "      <td>...</td>\n",
       "      <td>...</td>\n",
       "      <td>...</td>\n",
       "      <td>...</td>\n",
       "      <td>...</td>\n",
       "      <td>...</td>\n",
       "      <td>...</td>\n",
       "      <td>...</td>\n",
       "      <td>...</td>\n",
       "      <td>...</td>\n",
       "      <td>...</td>\n",
       "      <td>...</td>\n",
       "    </tr>\n",
       "    <tr>\n",
       "      <th>87356</th>\n",
       "      <td>45000</td>\n",
       "      <td>2004</td>\n",
       "      <td>오피스텔</td>\n",
       "      <td>66.64</td>\n",
       "      <td>8.0</td>\n",
       "      <td>서울특별시 강남구 역삼로 432</td>\n",
       "      <td>NaN</td>\n",
       "      <td>NaN</td>\n",
       "      <td>2019-07-22</td>\n",
       "      <td>19</td>\n",
       "      <td>...</td>\n",
       "      <td>1</td>\n",
       "      <td>1</td>\n",
       "      <td>1</td>\n",
       "      <td>0</td>\n",
       "      <td>0</td>\n",
       "      <td>2.64</td>\n",
       "      <td>1</td>\n",
       "      <td>60-90</td>\n",
       "      <td>대치동60-90</td>\n",
       "      <td>5-10</td>\n",
       "    </tr>\n",
       "    <tr>\n",
       "      <th>87357</th>\n",
       "      <td>38000</td>\n",
       "      <td>2005</td>\n",
       "      <td>오피스텔</td>\n",
       "      <td>43.68</td>\n",
       "      <td>5.0</td>\n",
       "      <td>서울특별시 강남구 압구정로 461</td>\n",
       "      <td>NaN</td>\n",
       "      <td>NaN</td>\n",
       "      <td>2019-06-21</td>\n",
       "      <td>18</td>\n",
       "      <td>...</td>\n",
       "      <td>17</td>\n",
       "      <td>0</td>\n",
       "      <td>2</td>\n",
       "      <td>0</td>\n",
       "      <td>0</td>\n",
       "      <td>2.74</td>\n",
       "      <td>1</td>\n",
       "      <td>30-60</td>\n",
       "      <td>청담동30-60</td>\n",
       "      <td>5-10</td>\n",
       "    </tr>\n",
       "    <tr>\n",
       "      <th>87358</th>\n",
       "      <td>23500</td>\n",
       "      <td>2014</td>\n",
       "      <td>오피스텔</td>\n",
       "      <td>31.57</td>\n",
       "      <td>5.0</td>\n",
       "      <td>서울특별시 강남구 도산대로 406</td>\n",
       "      <td>NaN</td>\n",
       "      <td>NaN</td>\n",
       "      <td>2019-07-20</td>\n",
       "      <td>9</td>\n",
       "      <td>...</td>\n",
       "      <td>31</td>\n",
       "      <td>1</td>\n",
       "      <td>2</td>\n",
       "      <td>0</td>\n",
       "      <td>0</td>\n",
       "      <td>2.64</td>\n",
       "      <td>0</td>\n",
       "      <td>30-60</td>\n",
       "      <td>청담동30-60</td>\n",
       "      <td>5-10</td>\n",
       "    </tr>\n",
       "    <tr>\n",
       "      <th>87359</th>\n",
       "      <td>3000</td>\n",
       "      <td>2020</td>\n",
       "      <td>오피스텔</td>\n",
       "      <td>29.51</td>\n",
       "      <td>6.0</td>\n",
       "      <td>서울특별시 강남구 논현로20길 12</td>\n",
       "      <td>NaN</td>\n",
       "      <td>NaN</td>\n",
       "      <td>2020-09-08</td>\n",
       "      <td>3</td>\n",
       "      <td>...</td>\n",
       "      <td>0</td>\n",
       "      <td>0</td>\n",
       "      <td>0</td>\n",
       "      <td>0</td>\n",
       "      <td>0</td>\n",
       "      <td>2.44</td>\n",
       "      <td>1</td>\n",
       "      <td>0-30</td>\n",
       "      <td>개포동0-30</td>\n",
       "      <td>5-10</td>\n",
       "    </tr>\n",
       "    <tr>\n",
       "      <th>87360</th>\n",
       "      <td>17000</td>\n",
       "      <td>2003</td>\n",
       "      <td>오피스텔</td>\n",
       "      <td>29.40</td>\n",
       "      <td>7.0</td>\n",
       "      <td>서울특별시 강남구 언주로 432-10</td>\n",
       "      <td>NaN</td>\n",
       "      <td>NaN</td>\n",
       "      <td>2020-11-25</td>\n",
       "      <td>20</td>\n",
       "      <td>...</td>\n",
       "      <td>2</td>\n",
       "      <td>1</td>\n",
       "      <td>0</td>\n",
       "      <td>0</td>\n",
       "      <td>0</td>\n",
       "      <td>2.56</td>\n",
       "      <td>0</td>\n",
       "      <td>0-30</td>\n",
       "      <td>역삼동0-30</td>\n",
       "      <td>5-10</td>\n",
       "    </tr>\n",
       "  </tbody>\n",
       "</table>\n",
       "<p>87361 rows × 25 columns</p>\n",
       "</div>"
      ],
      "text/plain": [
       "       보증금(만원)  건축년도     구분  전용면적(㎡)    층               도로명주소_x        계약시작  \\\n",
       "0         7500  1989  단독다가구    44.00  3.0       서울특별시 강남구 논현로4길  2022-06-01   \n",
       "1        14333  1991  단독다가구    44.00  3.0       서울특별시 강남구 논현로4길  2022-10-01   \n",
       "2        17115  1991  단독다가구    44.00  3.0       서울특별시 강남구 논현로4길  2022-07-01   \n",
       "3        17640  1991  단독다가구    44.00  3.0       서울특별시 강남구 논현로4길  2022-07-01   \n",
       "4         7500  1989  단독다가구    44.00  3.0       서울특별시 강남구 논현로4길  2022-06-01   \n",
       "...        ...   ...    ...      ...  ...                   ...         ...   \n",
       "87356    45000  2004   오피스텔    66.64  8.0     서울특별시 강남구 역삼로 432         NaN   \n",
       "87357    38000  2005   오피스텔    43.68  5.0    서울특별시 강남구 압구정로 461         NaN   \n",
       "87358    23500  2014   오피스텔    31.57  5.0    서울특별시 강남구 도산대로 406         NaN   \n",
       "87359     3000  2020   오피스텔    29.51  6.0   서울특별시 강남구 논현로20길 12         NaN   \n",
       "87360    17000  2003   오피스텔    29.40  7.0  서울특별시 강남구 언주로 432-10         NaN   \n",
       "\n",
       "             계약종료       계약년월일  건축나이  ...  미쉐린 개수  맥도날드 개수 대규모점포 개수  전통시장 개수  \\\n",
       "0      2024-06-01  2022-06-01    34  ...       0        0        0        0   \n",
       "1      2024-10-01  2022-10-05    32  ...       0        0        0        0   \n",
       "2      2024-07-01  2022-07-07    32  ...       0        0        0        0   \n",
       "3      2024-07-01  2022-07-07    32  ...       0        0        0        0   \n",
       "4      2024-06-01  2022-06-01    34  ...       0        0        0        0   \n",
       "...           ...         ...   ...  ...     ...      ...      ...      ...   \n",
       "87356         NaN  2019-07-22    19  ...       1        1        1        0   \n",
       "87357         NaN  2019-06-21    18  ...      17        0        2        0   \n",
       "87358         NaN  2019-07-20     9  ...      31        1        2        0   \n",
       "87359         NaN  2020-09-08     3  ...       0        0        0        0   \n",
       "87360         NaN  2020-11-25    20  ...       2        1        0        0   \n",
       "\n",
       "       역세권 개수    금리  유치원 개수  전용면적band  행정구_전용면적band  층band  \n",
       "0           0  4.04       2     30-60      개포동30-60    3-5  \n",
       "1           0  4.82       2     30-60      개포동30-60    3-5  \n",
       "2           0  4.16       2     30-60      개포동30-60    3-5  \n",
       "3           0  4.16       2     30-60      개포동30-60    3-5  \n",
       "4           0  4.04       2     30-60      개포동30-60    3-5  \n",
       "...       ...   ...     ...       ...           ...    ...  \n",
       "87356       0  2.64       1     60-90      대치동60-90   5-10  \n",
       "87357       0  2.74       1     30-60      청담동30-60   5-10  \n",
       "87358       0  2.64       0     30-60      청담동30-60   5-10  \n",
       "87359       0  2.44       1      0-30       개포동0-30   5-10  \n",
       "87360       0  2.56       0      0-30       역삼동0-30   5-10  \n",
       "\n",
       "[87361 rows x 25 columns]"
      ]
     },
     "execution_count": 11,
     "metadata": {},
     "output_type": "execute_result"
    }
   ],
   "source": [
    "\n",
    "df = pd.DataFrame(df)\n",
    "\n",
    "# Define the bin edges\n",
    "bins = [-float('inf'), 3, 5, 10, float('inf')]\n",
    "bin_labels = ['-1-3', '3-5', '5-10', '10-67']\n",
    "\n",
    "# Create a new column 'band' that contains the bin labels\n",
    "df['층band'] = pd.cut(df['층'], bins=bins, labels=bin_labels, right=False)\n",
    "\n",
    "df"
   ]
  },
  {
   "cell_type": "markdown",
   "id": "e6d3c191",
   "metadata": {},
   "source": [
    "# 1-3-2. 층+ 전용면적 Feature Engineering통한 중복 특징 변환"
   ]
  },
  {
   "cell_type": "code",
   "execution_count": 12,
   "id": "d8ad2486",
   "metadata": {},
   "outputs": [],
   "source": [
    "df['층band_전용면적band'] = df['층band'].astype(str) + '/' + df['전용면적band'].astype(str)\n"
   ]
  },
  {
   "cell_type": "code",
   "execution_count": 13,
   "id": "12f19cc8",
   "metadata": {},
   "outputs": [
    {
     "data": {
      "text/plain": [
       "20"
      ]
     },
     "execution_count": 13,
     "metadata": {},
     "output_type": "execute_result"
    }
   ],
   "source": [
    "df['층band_전용면적band'].nunique()"
   ]
  },
  {
   "cell_type": "markdown",
   "id": "c7f28c2f",
   "metadata": {},
   "source": [
    "# 1-3-1. 계약년월일 Feature Engineering통한 지표변수 변환\n",
    "- 계약년월일도 고유값이 1821개가 넘는다.\n",
    "- 년월일을 각년도마다의 1~4분기로 나눠 구간을 만들어보았다."
   ]
  },
  {
   "cell_type": "code",
   "execution_count": 14,
   "id": "448de33d",
   "metadata": {},
   "outputs": [
    {
     "data": {
      "text/plain": [
       "count          87361\n",
       "unique          1821\n",
       "top       2022-05-11\n",
       "freq             155\n",
       "Name: 계약년월일, dtype: object"
      ]
     },
     "execution_count": 14,
     "metadata": {},
     "output_type": "execute_result"
    }
   ],
   "source": [
    "df['계약년월일'].describe()"
   ]
  },
  {
   "cell_type": "code",
   "execution_count": 15,
   "id": "726793da",
   "metadata": {},
   "outputs": [
    {
     "data": {
      "text/plain": [
       "1821"
      ]
     },
     "execution_count": 15,
     "metadata": {},
     "output_type": "execute_result"
    }
   ],
   "source": [
    "df['계약년월일'].nunique()"
   ]
  },
  {
   "cell_type": "code",
   "execution_count": 16,
   "id": "df41520d",
   "metadata": {},
   "outputs": [
    {
     "data": {
      "text/html": [
       "<div>\n",
       "<style scoped>\n",
       "    .dataframe tbody tr th:only-of-type {\n",
       "        vertical-align: middle;\n",
       "    }\n",
       "\n",
       "    .dataframe tbody tr th {\n",
       "        vertical-align: top;\n",
       "    }\n",
       "\n",
       "    .dataframe thead th {\n",
       "        text-align: right;\n",
       "    }\n",
       "</style>\n",
       "<table border=\"1\" class=\"dataframe\">\n",
       "  <thead>\n",
       "    <tr style=\"text-align: right;\">\n",
       "      <th></th>\n",
       "      <th>보증금(만원)</th>\n",
       "      <th>건축년도</th>\n",
       "      <th>구분</th>\n",
       "      <th>전용면적(㎡)</th>\n",
       "      <th>층</th>\n",
       "      <th>도로명주소_x</th>\n",
       "      <th>계약시작</th>\n",
       "      <th>계약종료</th>\n",
       "      <th>계약년월일</th>\n",
       "      <th>건축나이</th>\n",
       "      <th>...</th>\n",
       "      <th>대규모점포 개수</th>\n",
       "      <th>전통시장 개수</th>\n",
       "      <th>역세권 개수</th>\n",
       "      <th>금리</th>\n",
       "      <th>유치원 개수</th>\n",
       "      <th>전용면적band</th>\n",
       "      <th>행정구_전용면적band</th>\n",
       "      <th>층band</th>\n",
       "      <th>층band_전용면적band</th>\n",
       "      <th>분기</th>\n",
       "    </tr>\n",
       "  </thead>\n",
       "  <tbody>\n",
       "    <tr>\n",
       "      <th>0</th>\n",
       "      <td>7500</td>\n",
       "      <td>1989</td>\n",
       "      <td>단독다가구</td>\n",
       "      <td>44.00</td>\n",
       "      <td>3.0</td>\n",
       "      <td>서울특별시 강남구 논현로4길</td>\n",
       "      <td>2022-06-01</td>\n",
       "      <td>2024-06-01</td>\n",
       "      <td>2022-06-01</td>\n",
       "      <td>34</td>\n",
       "      <td>...</td>\n",
       "      <td>0</td>\n",
       "      <td>0</td>\n",
       "      <td>0</td>\n",
       "      <td>4.04</td>\n",
       "      <td>2</td>\n",
       "      <td>30-60</td>\n",
       "      <td>개포동30-60</td>\n",
       "      <td>3-5</td>\n",
       "      <td>3-5/30-60</td>\n",
       "      <td>2022Q2</td>\n",
       "    </tr>\n",
       "    <tr>\n",
       "      <th>1</th>\n",
       "      <td>14333</td>\n",
       "      <td>1991</td>\n",
       "      <td>단독다가구</td>\n",
       "      <td>44.00</td>\n",
       "      <td>3.0</td>\n",
       "      <td>서울특별시 강남구 논현로4길</td>\n",
       "      <td>2022-10-01</td>\n",
       "      <td>2024-10-01</td>\n",
       "      <td>2022-10-05</td>\n",
       "      <td>32</td>\n",
       "      <td>...</td>\n",
       "      <td>0</td>\n",
       "      <td>0</td>\n",
       "      <td>0</td>\n",
       "      <td>4.82</td>\n",
       "      <td>2</td>\n",
       "      <td>30-60</td>\n",
       "      <td>개포동30-60</td>\n",
       "      <td>3-5</td>\n",
       "      <td>3-5/30-60</td>\n",
       "      <td>2022Q4</td>\n",
       "    </tr>\n",
       "    <tr>\n",
       "      <th>2</th>\n",
       "      <td>17115</td>\n",
       "      <td>1991</td>\n",
       "      <td>단독다가구</td>\n",
       "      <td>44.00</td>\n",
       "      <td>3.0</td>\n",
       "      <td>서울특별시 강남구 논현로4길</td>\n",
       "      <td>2022-07-01</td>\n",
       "      <td>2024-07-01</td>\n",
       "      <td>2022-07-07</td>\n",
       "      <td>32</td>\n",
       "      <td>...</td>\n",
       "      <td>0</td>\n",
       "      <td>0</td>\n",
       "      <td>0</td>\n",
       "      <td>4.16</td>\n",
       "      <td>2</td>\n",
       "      <td>30-60</td>\n",
       "      <td>개포동30-60</td>\n",
       "      <td>3-5</td>\n",
       "      <td>3-5/30-60</td>\n",
       "      <td>2022Q3</td>\n",
       "    </tr>\n",
       "    <tr>\n",
       "      <th>3</th>\n",
       "      <td>17640</td>\n",
       "      <td>1991</td>\n",
       "      <td>단독다가구</td>\n",
       "      <td>44.00</td>\n",
       "      <td>3.0</td>\n",
       "      <td>서울특별시 강남구 논현로4길</td>\n",
       "      <td>2022-07-01</td>\n",
       "      <td>2024-07-01</td>\n",
       "      <td>2022-07-07</td>\n",
       "      <td>32</td>\n",
       "      <td>...</td>\n",
       "      <td>0</td>\n",
       "      <td>0</td>\n",
       "      <td>0</td>\n",
       "      <td>4.16</td>\n",
       "      <td>2</td>\n",
       "      <td>30-60</td>\n",
       "      <td>개포동30-60</td>\n",
       "      <td>3-5</td>\n",
       "      <td>3-5/30-60</td>\n",
       "      <td>2022Q3</td>\n",
       "    </tr>\n",
       "    <tr>\n",
       "      <th>4</th>\n",
       "      <td>7500</td>\n",
       "      <td>1989</td>\n",
       "      <td>단독다가구</td>\n",
       "      <td>44.00</td>\n",
       "      <td>3.0</td>\n",
       "      <td>서울특별시 강남구 논현로4길</td>\n",
       "      <td>2022-06-01</td>\n",
       "      <td>2024-06-01</td>\n",
       "      <td>2022-06-01</td>\n",
       "      <td>34</td>\n",
       "      <td>...</td>\n",
       "      <td>0</td>\n",
       "      <td>0</td>\n",
       "      <td>0</td>\n",
       "      <td>4.04</td>\n",
       "      <td>2</td>\n",
       "      <td>30-60</td>\n",
       "      <td>개포동30-60</td>\n",
       "      <td>3-5</td>\n",
       "      <td>3-5/30-60</td>\n",
       "      <td>2022Q2</td>\n",
       "    </tr>\n",
       "    <tr>\n",
       "      <th>...</th>\n",
       "      <td>...</td>\n",
       "      <td>...</td>\n",
       "      <td>...</td>\n",
       "      <td>...</td>\n",
       "      <td>...</td>\n",
       "      <td>...</td>\n",
       "      <td>...</td>\n",
       "      <td>...</td>\n",
       "      <td>...</td>\n",
       "      <td>...</td>\n",
       "      <td>...</td>\n",
       "      <td>...</td>\n",
       "      <td>...</td>\n",
       "      <td>...</td>\n",
       "      <td>...</td>\n",
       "      <td>...</td>\n",
       "      <td>...</td>\n",
       "      <td>...</td>\n",
       "      <td>...</td>\n",
       "      <td>...</td>\n",
       "      <td>...</td>\n",
       "    </tr>\n",
       "    <tr>\n",
       "      <th>87356</th>\n",
       "      <td>45000</td>\n",
       "      <td>2004</td>\n",
       "      <td>오피스텔</td>\n",
       "      <td>66.64</td>\n",
       "      <td>8.0</td>\n",
       "      <td>서울특별시 강남구 역삼로 432</td>\n",
       "      <td>NaN</td>\n",
       "      <td>NaN</td>\n",
       "      <td>2019-07-22</td>\n",
       "      <td>19</td>\n",
       "      <td>...</td>\n",
       "      <td>1</td>\n",
       "      <td>0</td>\n",
       "      <td>0</td>\n",
       "      <td>2.64</td>\n",
       "      <td>1</td>\n",
       "      <td>60-90</td>\n",
       "      <td>대치동60-90</td>\n",
       "      <td>5-10</td>\n",
       "      <td>5-10/60-90</td>\n",
       "      <td>2019Q3</td>\n",
       "    </tr>\n",
       "    <tr>\n",
       "      <th>87357</th>\n",
       "      <td>38000</td>\n",
       "      <td>2005</td>\n",
       "      <td>오피스텔</td>\n",
       "      <td>43.68</td>\n",
       "      <td>5.0</td>\n",
       "      <td>서울특별시 강남구 압구정로 461</td>\n",
       "      <td>NaN</td>\n",
       "      <td>NaN</td>\n",
       "      <td>2019-06-21</td>\n",
       "      <td>18</td>\n",
       "      <td>...</td>\n",
       "      <td>2</td>\n",
       "      <td>0</td>\n",
       "      <td>0</td>\n",
       "      <td>2.74</td>\n",
       "      <td>1</td>\n",
       "      <td>30-60</td>\n",
       "      <td>청담동30-60</td>\n",
       "      <td>5-10</td>\n",
       "      <td>5-10/30-60</td>\n",
       "      <td>2019Q2</td>\n",
       "    </tr>\n",
       "    <tr>\n",
       "      <th>87358</th>\n",
       "      <td>23500</td>\n",
       "      <td>2014</td>\n",
       "      <td>오피스텔</td>\n",
       "      <td>31.57</td>\n",
       "      <td>5.0</td>\n",
       "      <td>서울특별시 강남구 도산대로 406</td>\n",
       "      <td>NaN</td>\n",
       "      <td>NaN</td>\n",
       "      <td>2019-07-20</td>\n",
       "      <td>9</td>\n",
       "      <td>...</td>\n",
       "      <td>2</td>\n",
       "      <td>0</td>\n",
       "      <td>0</td>\n",
       "      <td>2.64</td>\n",
       "      <td>0</td>\n",
       "      <td>30-60</td>\n",
       "      <td>청담동30-60</td>\n",
       "      <td>5-10</td>\n",
       "      <td>5-10/30-60</td>\n",
       "      <td>2019Q3</td>\n",
       "    </tr>\n",
       "    <tr>\n",
       "      <th>87359</th>\n",
       "      <td>3000</td>\n",
       "      <td>2020</td>\n",
       "      <td>오피스텔</td>\n",
       "      <td>29.51</td>\n",
       "      <td>6.0</td>\n",
       "      <td>서울특별시 강남구 논현로20길 12</td>\n",
       "      <td>NaN</td>\n",
       "      <td>NaN</td>\n",
       "      <td>2020-09-08</td>\n",
       "      <td>3</td>\n",
       "      <td>...</td>\n",
       "      <td>0</td>\n",
       "      <td>0</td>\n",
       "      <td>0</td>\n",
       "      <td>2.44</td>\n",
       "      <td>1</td>\n",
       "      <td>0-30</td>\n",
       "      <td>개포동0-30</td>\n",
       "      <td>5-10</td>\n",
       "      <td>5-10/0-30</td>\n",
       "      <td>2020Q3</td>\n",
       "    </tr>\n",
       "    <tr>\n",
       "      <th>87360</th>\n",
       "      <td>17000</td>\n",
       "      <td>2003</td>\n",
       "      <td>오피스텔</td>\n",
       "      <td>29.40</td>\n",
       "      <td>7.0</td>\n",
       "      <td>서울특별시 강남구 언주로 432-10</td>\n",
       "      <td>NaN</td>\n",
       "      <td>NaN</td>\n",
       "      <td>2020-11-25</td>\n",
       "      <td>20</td>\n",
       "      <td>...</td>\n",
       "      <td>0</td>\n",
       "      <td>0</td>\n",
       "      <td>0</td>\n",
       "      <td>2.56</td>\n",
       "      <td>0</td>\n",
       "      <td>0-30</td>\n",
       "      <td>역삼동0-30</td>\n",
       "      <td>5-10</td>\n",
       "      <td>5-10/0-30</td>\n",
       "      <td>2020Q4</td>\n",
       "    </tr>\n",
       "  </tbody>\n",
       "</table>\n",
       "<p>87361 rows × 27 columns</p>\n",
       "</div>"
      ],
      "text/plain": [
       "       보증금(만원)  건축년도     구분  전용면적(㎡)    층               도로명주소_x        계약시작  \\\n",
       "0         7500  1989  단독다가구    44.00  3.0       서울특별시 강남구 논현로4길  2022-06-01   \n",
       "1        14333  1991  단독다가구    44.00  3.0       서울특별시 강남구 논현로4길  2022-10-01   \n",
       "2        17115  1991  단독다가구    44.00  3.0       서울특별시 강남구 논현로4길  2022-07-01   \n",
       "3        17640  1991  단독다가구    44.00  3.0       서울특별시 강남구 논현로4길  2022-07-01   \n",
       "4         7500  1989  단독다가구    44.00  3.0       서울특별시 강남구 논현로4길  2022-06-01   \n",
       "...        ...   ...    ...      ...  ...                   ...         ...   \n",
       "87356    45000  2004   오피스텔    66.64  8.0     서울특별시 강남구 역삼로 432         NaN   \n",
       "87357    38000  2005   오피스텔    43.68  5.0    서울특별시 강남구 압구정로 461         NaN   \n",
       "87358    23500  2014   오피스텔    31.57  5.0    서울특별시 강남구 도산대로 406         NaN   \n",
       "87359     3000  2020   오피스텔    29.51  6.0   서울특별시 강남구 논현로20길 12         NaN   \n",
       "87360    17000  2003   오피스텔    29.40  7.0  서울특별시 강남구 언주로 432-10         NaN   \n",
       "\n",
       "             계약종료      계약년월일  건축나이  ...  대규모점포 개수  전통시장 개수 역세권 개수    금리  \\\n",
       "0      2024-06-01 2022-06-01    34  ...         0        0      0  4.04   \n",
       "1      2024-10-01 2022-10-05    32  ...         0        0      0  4.82   \n",
       "2      2024-07-01 2022-07-07    32  ...         0        0      0  4.16   \n",
       "3      2024-07-01 2022-07-07    32  ...         0        0      0  4.16   \n",
       "4      2024-06-01 2022-06-01    34  ...         0        0      0  4.04   \n",
       "...           ...        ...   ...  ...       ...      ...    ...   ...   \n",
       "87356         NaN 2019-07-22    19  ...         1        0      0  2.64   \n",
       "87357         NaN 2019-06-21    18  ...         2        0      0  2.74   \n",
       "87358         NaN 2019-07-20     9  ...         2        0      0  2.64   \n",
       "87359         NaN 2020-09-08     3  ...         0        0      0  2.44   \n",
       "87360         NaN 2020-11-25    20  ...         0        0      0  2.56   \n",
       "\n",
       "       유치원 개수  전용면적band  행정구_전용면적band  층band  층band_전용면적band      분기  \n",
       "0           2     30-60      개포동30-60    3-5       3-5/30-60  2022Q2  \n",
       "1           2     30-60      개포동30-60    3-5       3-5/30-60  2022Q4  \n",
       "2           2     30-60      개포동30-60    3-5       3-5/30-60  2022Q3  \n",
       "3           2     30-60      개포동30-60    3-5       3-5/30-60  2022Q3  \n",
       "4           2     30-60      개포동30-60    3-5       3-5/30-60  2022Q2  \n",
       "...       ...       ...           ...    ...             ...     ...  \n",
       "87356       1     60-90      대치동60-90   5-10      5-10/60-90  2019Q3  \n",
       "87357       1     30-60      청담동30-60   5-10      5-10/30-60  2019Q2  \n",
       "87358       0     30-60      청담동30-60   5-10      5-10/30-60  2019Q3  \n",
       "87359       1      0-30       개포동0-30   5-10       5-10/0-30  2020Q3  \n",
       "87360       0      0-30       역삼동0-30   5-10       5-10/0-30  2020Q4  \n",
       "\n",
       "[87361 rows x 27 columns]"
      ]
     },
     "execution_count": 16,
     "metadata": {},
     "output_type": "execute_result"
    }
   ],
   "source": [
    "date_range = pd.date_range(start='2018-01-01', end='2022-12-31', freq='D')\n",
    "data = {'계약년월일': date_range}\n",
    "\n",
    "\n",
    "# '계약년월일' 열을 날짜 형식으로 변환\n",
    "df['계약년월일'] = pd.to_datetime(df['계약년월일'])\n",
    "\n",
    "# 분기를 나타내는 새로운 열 생성\n",
    "df['분기'] = df['계약년월일'].dt.to_period('Q')\n",
    "\n",
    "df"
   ]
  },
  {
   "cell_type": "code",
   "execution_count": 17,
   "id": "703ceb01",
   "metadata": {},
   "outputs": [
    {
     "data": {
      "text/plain": [
       "20"
      ]
     },
     "execution_count": 17,
     "metadata": {},
     "output_type": "execute_result"
    }
   ],
   "source": [
    "df['분기'].nunique()"
   ]
  },
  {
   "cell_type": "markdown",
   "id": "0376f3d0",
   "metadata": {},
   "source": [
    "# 1-4. 건축나이 Feature Engineering통한 대표 특징 변환\n",
    "- 건축나이도 0살부터(2022년)~ 51살(1971년)까지 있음 \n",
    "- [수명분석을 통한 건축설비의 내용연수 결정방안에 관한 연구] 논문참고하여 0-10 청년기, 10-20 장년기, 20-30 중년기, 30-40 노년기, 50+(고령기)로 구분band"
   ]
  },
  {
   "cell_type": "code",
   "execution_count": 18,
   "id": "0e30d312",
   "metadata": {},
   "outputs": [
    {
     "data": {
      "text/plain": [
       "count    87361.000000\n",
       "mean        22.508099\n",
       "std         12.485836\n",
       "min          0.000000\n",
       "25%         10.000000\n",
       "50%         21.000000\n",
       "75%         31.000000\n",
       "max         51.000000\n",
       "Name: 건축나이, dtype: float64"
      ]
     },
     "execution_count": 18,
     "metadata": {},
     "output_type": "execute_result"
    }
   ],
   "source": [
    "df['건축나이'].describe()"
   ]
  },
  {
   "cell_type": "code",
   "execution_count": 19,
   "id": "e9d8fea0",
   "metadata": {},
   "outputs": [
    {
     "data": {
      "text/plain": [
       "52"
      ]
     },
     "execution_count": 19,
     "metadata": {},
     "output_type": "execute_result"
    }
   ],
   "source": [
    "df['건축나이'].nunique()"
   ]
  },
  {
   "cell_type": "code",
   "execution_count": 20,
   "id": "1b2a38a2",
   "metadata": {},
   "outputs": [
    {
     "data": {
      "text/html": [
       "<div>\n",
       "<style scoped>\n",
       "    .dataframe tbody tr th:only-of-type {\n",
       "        vertical-align: middle;\n",
       "    }\n",
       "\n",
       "    .dataframe tbody tr th {\n",
       "        vertical-align: top;\n",
       "    }\n",
       "\n",
       "    .dataframe thead th {\n",
       "        text-align: right;\n",
       "    }\n",
       "</style>\n",
       "<table border=\"1\" class=\"dataframe\">\n",
       "  <thead>\n",
       "    <tr style=\"text-align: right;\">\n",
       "      <th></th>\n",
       "      <th>보증금(만원)</th>\n",
       "      <th>건축년도</th>\n",
       "      <th>구분</th>\n",
       "      <th>전용면적(㎡)</th>\n",
       "      <th>층</th>\n",
       "      <th>도로명주소_x</th>\n",
       "      <th>계약시작</th>\n",
       "      <th>계약종료</th>\n",
       "      <th>계약년월일</th>\n",
       "      <th>건축나이</th>\n",
       "      <th>...</th>\n",
       "      <th>전통시장 개수</th>\n",
       "      <th>역세권 개수</th>\n",
       "      <th>금리</th>\n",
       "      <th>유치원 개수</th>\n",
       "      <th>전용면적band</th>\n",
       "      <th>행정구_전용면적band</th>\n",
       "      <th>층band</th>\n",
       "      <th>층band_전용면적band</th>\n",
       "      <th>분기</th>\n",
       "      <th>건축수명band</th>\n",
       "    </tr>\n",
       "  </thead>\n",
       "  <tbody>\n",
       "    <tr>\n",
       "      <th>0</th>\n",
       "      <td>7500</td>\n",
       "      <td>1989</td>\n",
       "      <td>단독다가구</td>\n",
       "      <td>44.00</td>\n",
       "      <td>3.0</td>\n",
       "      <td>서울특별시 강남구 논현로4길</td>\n",
       "      <td>2022-06-01</td>\n",
       "      <td>2024-06-01</td>\n",
       "      <td>2022-06-01</td>\n",
       "      <td>34</td>\n",
       "      <td>...</td>\n",
       "      <td>0</td>\n",
       "      <td>0</td>\n",
       "      <td>4.04</td>\n",
       "      <td>2</td>\n",
       "      <td>30-60</td>\n",
       "      <td>개포동30-60</td>\n",
       "      <td>3-5</td>\n",
       "      <td>3-5/30-60</td>\n",
       "      <td>2022Q2</td>\n",
       "      <td>30-40(중년기)</td>\n",
       "    </tr>\n",
       "    <tr>\n",
       "      <th>1</th>\n",
       "      <td>14333</td>\n",
       "      <td>1991</td>\n",
       "      <td>단독다가구</td>\n",
       "      <td>44.00</td>\n",
       "      <td>3.0</td>\n",
       "      <td>서울특별시 강남구 논현로4길</td>\n",
       "      <td>2022-10-01</td>\n",
       "      <td>2024-10-01</td>\n",
       "      <td>2022-10-05</td>\n",
       "      <td>32</td>\n",
       "      <td>...</td>\n",
       "      <td>0</td>\n",
       "      <td>0</td>\n",
       "      <td>4.82</td>\n",
       "      <td>2</td>\n",
       "      <td>30-60</td>\n",
       "      <td>개포동30-60</td>\n",
       "      <td>3-5</td>\n",
       "      <td>3-5/30-60</td>\n",
       "      <td>2022Q4</td>\n",
       "      <td>30-40(중년기)</td>\n",
       "    </tr>\n",
       "    <tr>\n",
       "      <th>2</th>\n",
       "      <td>17115</td>\n",
       "      <td>1991</td>\n",
       "      <td>단독다가구</td>\n",
       "      <td>44.00</td>\n",
       "      <td>3.0</td>\n",
       "      <td>서울특별시 강남구 논현로4길</td>\n",
       "      <td>2022-07-01</td>\n",
       "      <td>2024-07-01</td>\n",
       "      <td>2022-07-07</td>\n",
       "      <td>32</td>\n",
       "      <td>...</td>\n",
       "      <td>0</td>\n",
       "      <td>0</td>\n",
       "      <td>4.16</td>\n",
       "      <td>2</td>\n",
       "      <td>30-60</td>\n",
       "      <td>개포동30-60</td>\n",
       "      <td>3-5</td>\n",
       "      <td>3-5/30-60</td>\n",
       "      <td>2022Q3</td>\n",
       "      <td>30-40(중년기)</td>\n",
       "    </tr>\n",
       "    <tr>\n",
       "      <th>3</th>\n",
       "      <td>17640</td>\n",
       "      <td>1991</td>\n",
       "      <td>단독다가구</td>\n",
       "      <td>44.00</td>\n",
       "      <td>3.0</td>\n",
       "      <td>서울특별시 강남구 논현로4길</td>\n",
       "      <td>2022-07-01</td>\n",
       "      <td>2024-07-01</td>\n",
       "      <td>2022-07-07</td>\n",
       "      <td>32</td>\n",
       "      <td>...</td>\n",
       "      <td>0</td>\n",
       "      <td>0</td>\n",
       "      <td>4.16</td>\n",
       "      <td>2</td>\n",
       "      <td>30-60</td>\n",
       "      <td>개포동30-60</td>\n",
       "      <td>3-5</td>\n",
       "      <td>3-5/30-60</td>\n",
       "      <td>2022Q3</td>\n",
       "      <td>30-40(중년기)</td>\n",
       "    </tr>\n",
       "    <tr>\n",
       "      <th>4</th>\n",
       "      <td>7500</td>\n",
       "      <td>1989</td>\n",
       "      <td>단독다가구</td>\n",
       "      <td>44.00</td>\n",
       "      <td>3.0</td>\n",
       "      <td>서울특별시 강남구 논현로4길</td>\n",
       "      <td>2022-06-01</td>\n",
       "      <td>2024-06-01</td>\n",
       "      <td>2022-06-01</td>\n",
       "      <td>34</td>\n",
       "      <td>...</td>\n",
       "      <td>0</td>\n",
       "      <td>0</td>\n",
       "      <td>4.04</td>\n",
       "      <td>2</td>\n",
       "      <td>30-60</td>\n",
       "      <td>개포동30-60</td>\n",
       "      <td>3-5</td>\n",
       "      <td>3-5/30-60</td>\n",
       "      <td>2022Q2</td>\n",
       "      <td>30-40(중년기)</td>\n",
       "    </tr>\n",
       "    <tr>\n",
       "      <th>...</th>\n",
       "      <td>...</td>\n",
       "      <td>...</td>\n",
       "      <td>...</td>\n",
       "      <td>...</td>\n",
       "      <td>...</td>\n",
       "      <td>...</td>\n",
       "      <td>...</td>\n",
       "      <td>...</td>\n",
       "      <td>...</td>\n",
       "      <td>...</td>\n",
       "      <td>...</td>\n",
       "      <td>...</td>\n",
       "      <td>...</td>\n",
       "      <td>...</td>\n",
       "      <td>...</td>\n",
       "      <td>...</td>\n",
       "      <td>...</td>\n",
       "      <td>...</td>\n",
       "      <td>...</td>\n",
       "      <td>...</td>\n",
       "      <td>...</td>\n",
       "    </tr>\n",
       "    <tr>\n",
       "      <th>87356</th>\n",
       "      <td>45000</td>\n",
       "      <td>2004</td>\n",
       "      <td>오피스텔</td>\n",
       "      <td>66.64</td>\n",
       "      <td>8.0</td>\n",
       "      <td>서울특별시 강남구 역삼로 432</td>\n",
       "      <td>NaN</td>\n",
       "      <td>NaN</td>\n",
       "      <td>2019-07-22</td>\n",
       "      <td>19</td>\n",
       "      <td>...</td>\n",
       "      <td>0</td>\n",
       "      <td>0</td>\n",
       "      <td>2.64</td>\n",
       "      <td>1</td>\n",
       "      <td>60-90</td>\n",
       "      <td>대치동60-90</td>\n",
       "      <td>5-10</td>\n",
       "      <td>5-10/60-90</td>\n",
       "      <td>2019Q3</td>\n",
       "      <td>10-20(장년기)</td>\n",
       "    </tr>\n",
       "    <tr>\n",
       "      <th>87357</th>\n",
       "      <td>38000</td>\n",
       "      <td>2005</td>\n",
       "      <td>오피스텔</td>\n",
       "      <td>43.68</td>\n",
       "      <td>5.0</td>\n",
       "      <td>서울특별시 강남구 압구정로 461</td>\n",
       "      <td>NaN</td>\n",
       "      <td>NaN</td>\n",
       "      <td>2019-06-21</td>\n",
       "      <td>18</td>\n",
       "      <td>...</td>\n",
       "      <td>0</td>\n",
       "      <td>0</td>\n",
       "      <td>2.74</td>\n",
       "      <td>1</td>\n",
       "      <td>30-60</td>\n",
       "      <td>청담동30-60</td>\n",
       "      <td>5-10</td>\n",
       "      <td>5-10/30-60</td>\n",
       "      <td>2019Q2</td>\n",
       "      <td>10-20(장년기)</td>\n",
       "    </tr>\n",
       "    <tr>\n",
       "      <th>87358</th>\n",
       "      <td>23500</td>\n",
       "      <td>2014</td>\n",
       "      <td>오피스텔</td>\n",
       "      <td>31.57</td>\n",
       "      <td>5.0</td>\n",
       "      <td>서울특별시 강남구 도산대로 406</td>\n",
       "      <td>NaN</td>\n",
       "      <td>NaN</td>\n",
       "      <td>2019-07-20</td>\n",
       "      <td>9</td>\n",
       "      <td>...</td>\n",
       "      <td>0</td>\n",
       "      <td>0</td>\n",
       "      <td>2.64</td>\n",
       "      <td>0</td>\n",
       "      <td>30-60</td>\n",
       "      <td>청담동30-60</td>\n",
       "      <td>5-10</td>\n",
       "      <td>5-10/30-60</td>\n",
       "      <td>2019Q3</td>\n",
       "      <td>0-10(청년기)</td>\n",
       "    </tr>\n",
       "    <tr>\n",
       "      <th>87359</th>\n",
       "      <td>3000</td>\n",
       "      <td>2020</td>\n",
       "      <td>오피스텔</td>\n",
       "      <td>29.51</td>\n",
       "      <td>6.0</td>\n",
       "      <td>서울특별시 강남구 논현로20길 12</td>\n",
       "      <td>NaN</td>\n",
       "      <td>NaN</td>\n",
       "      <td>2020-09-08</td>\n",
       "      <td>3</td>\n",
       "      <td>...</td>\n",
       "      <td>0</td>\n",
       "      <td>0</td>\n",
       "      <td>2.44</td>\n",
       "      <td>1</td>\n",
       "      <td>0-30</td>\n",
       "      <td>개포동0-30</td>\n",
       "      <td>5-10</td>\n",
       "      <td>5-10/0-30</td>\n",
       "      <td>2020Q3</td>\n",
       "      <td>0-10(청년기)</td>\n",
       "    </tr>\n",
       "    <tr>\n",
       "      <th>87360</th>\n",
       "      <td>17000</td>\n",
       "      <td>2003</td>\n",
       "      <td>오피스텔</td>\n",
       "      <td>29.40</td>\n",
       "      <td>7.0</td>\n",
       "      <td>서울특별시 강남구 언주로 432-10</td>\n",
       "      <td>NaN</td>\n",
       "      <td>NaN</td>\n",
       "      <td>2020-11-25</td>\n",
       "      <td>20</td>\n",
       "      <td>...</td>\n",
       "      <td>0</td>\n",
       "      <td>0</td>\n",
       "      <td>2.56</td>\n",
       "      <td>0</td>\n",
       "      <td>0-30</td>\n",
       "      <td>역삼동0-30</td>\n",
       "      <td>5-10</td>\n",
       "      <td>5-10/0-30</td>\n",
       "      <td>2020Q4</td>\n",
       "      <td>20-30(중년기)</td>\n",
       "    </tr>\n",
       "  </tbody>\n",
       "</table>\n",
       "<p>87361 rows × 28 columns</p>\n",
       "</div>"
      ],
      "text/plain": [
       "       보증금(만원)  건축년도     구분  전용면적(㎡)    층               도로명주소_x        계약시작  \\\n",
       "0         7500  1989  단독다가구    44.00  3.0       서울특별시 강남구 논현로4길  2022-06-01   \n",
       "1        14333  1991  단독다가구    44.00  3.0       서울특별시 강남구 논현로4길  2022-10-01   \n",
       "2        17115  1991  단독다가구    44.00  3.0       서울특별시 강남구 논현로4길  2022-07-01   \n",
       "3        17640  1991  단독다가구    44.00  3.0       서울특별시 강남구 논현로4길  2022-07-01   \n",
       "4         7500  1989  단독다가구    44.00  3.0       서울특별시 강남구 논현로4길  2022-06-01   \n",
       "...        ...   ...    ...      ...  ...                   ...         ...   \n",
       "87356    45000  2004   오피스텔    66.64  8.0     서울특별시 강남구 역삼로 432         NaN   \n",
       "87357    38000  2005   오피스텔    43.68  5.0    서울특별시 강남구 압구정로 461         NaN   \n",
       "87358    23500  2014   오피스텔    31.57  5.0    서울특별시 강남구 도산대로 406         NaN   \n",
       "87359     3000  2020   오피스텔    29.51  6.0   서울특별시 강남구 논현로20길 12         NaN   \n",
       "87360    17000  2003   오피스텔    29.40  7.0  서울특별시 강남구 언주로 432-10         NaN   \n",
       "\n",
       "             계약종료      계약년월일  건축나이  ...  전통시장 개수  역세권 개수    금리  유치원 개수  \\\n",
       "0      2024-06-01 2022-06-01    34  ...        0       0  4.04       2   \n",
       "1      2024-10-01 2022-10-05    32  ...        0       0  4.82       2   \n",
       "2      2024-07-01 2022-07-07    32  ...        0       0  4.16       2   \n",
       "3      2024-07-01 2022-07-07    32  ...        0       0  4.16       2   \n",
       "4      2024-06-01 2022-06-01    34  ...        0       0  4.04       2   \n",
       "...           ...        ...   ...  ...      ...     ...   ...     ...   \n",
       "87356         NaN 2019-07-22    19  ...        0       0  2.64       1   \n",
       "87357         NaN 2019-06-21    18  ...        0       0  2.74       1   \n",
       "87358         NaN 2019-07-20     9  ...        0       0  2.64       0   \n",
       "87359         NaN 2020-09-08     3  ...        0       0  2.44       1   \n",
       "87360         NaN 2020-11-25    20  ...        0       0  2.56       0   \n",
       "\n",
       "       전용면적band  행정구_전용면적band  층band  층band_전용면적band      분기    건축수명band  \n",
       "0         30-60      개포동30-60    3-5       3-5/30-60  2022Q2  30-40(중년기)  \n",
       "1         30-60      개포동30-60    3-5       3-5/30-60  2022Q4  30-40(중년기)  \n",
       "2         30-60      개포동30-60    3-5       3-5/30-60  2022Q3  30-40(중년기)  \n",
       "3         30-60      개포동30-60    3-5       3-5/30-60  2022Q3  30-40(중년기)  \n",
       "4         30-60      개포동30-60    3-5       3-5/30-60  2022Q2  30-40(중년기)  \n",
       "...         ...           ...    ...             ...     ...         ...  \n",
       "87356     60-90      대치동60-90   5-10      5-10/60-90  2019Q3  10-20(장년기)  \n",
       "87357     30-60      청담동30-60   5-10      5-10/30-60  2019Q2  10-20(장년기)  \n",
       "87358     30-60      청담동30-60   5-10      5-10/30-60  2019Q3   0-10(청년기)  \n",
       "87359      0-30       개포동0-30   5-10       5-10/0-30  2020Q3   0-10(청년기)  \n",
       "87360      0-30       역삼동0-30   5-10       5-10/0-30  2020Q4  20-30(중년기)  \n",
       "\n",
       "[87361 rows x 28 columns]"
      ]
     },
     "execution_count": 20,
     "metadata": {},
     "output_type": "execute_result"
    }
   ],
   "source": [
    "\n",
    "# 구간 정의\n",
    "bins = [0, 10, 20, 30, 40, 50, float('inf')]  # 'inf'는 무한대를 나타냄\n",
    "\n",
    "# 구간별 레이블\n",
    "labels = ['0-10(청년기)', '10-20(장년기)', '20-30(중년기)', '30-40(중년기)', '40-50(노년기)', '50+(고령기)']\n",
    "\n",
    "# 구간별로 '건축수명band' 컬럼 추가\n",
    "df['건축수명band'] = pd.cut(df['건축나이'], bins=bins, labels=labels, right=False)\n",
    "\n",
    "df"
   ]
  },
  {
   "cell_type": "code",
   "execution_count": 21,
   "id": "f7e9c167",
   "metadata": {},
   "outputs": [
    {
     "name": "stdout",
     "output_type": "stream",
     "text": [
      "<class 'pandas.core.frame.DataFrame'>\n",
      "RangeIndex: 87361 entries, 0 to 87360\n",
      "Data columns (total 28 columns):\n",
      " #   Column          Non-Null Count  Dtype         \n",
      "---  ------          --------------  -----         \n",
      " 0   보증금(만원)         87361 non-null  int64         \n",
      " 1   건축년도            87361 non-null  int64         \n",
      " 2   구분              87361 non-null  object        \n",
      " 3   전용면적(㎡)         87361 non-null  float64       \n",
      " 4   층               87361 non-null  float64       \n",
      " 5   도로명주소_x         87361 non-null  object        \n",
      " 6   계약시작            25069 non-null  object        \n",
      " 7   계약종료            25069 non-null  object        \n",
      " 8   계약년월일           87361 non-null  datetime64[ns]\n",
      " 9   건축나이            87361 non-null  int64         \n",
      " 10  Latitude        87361 non-null  float64       \n",
      " 11  Longitude       87361 non-null  float64       \n",
      " 12  행정구             87361 non-null  object        \n",
      " 13  행정구코드           87361 non-null  int64         \n",
      " 14  스타벅스 개수_y       87361 non-null  int64         \n",
      " 15  미쉐린 개수          87361 non-null  int64         \n",
      " 16  맥도날드 개수         87361 non-null  int64         \n",
      " 17  대규모점포 개수        87361 non-null  int64         \n",
      " 18  전통시장 개수         87361 non-null  int64         \n",
      " 19  역세권 개수          87361 non-null  int64         \n",
      " 20  금리              87361 non-null  float64       \n",
      " 21  유치원 개수          87361 non-null  int64         \n",
      " 22  전용면적band        87361 non-null  category      \n",
      " 23  행정구_전용면적band    87361 non-null  object        \n",
      " 24  층band           87361 non-null  category      \n",
      " 25  층band_전용면적band  87361 non-null  object        \n",
      " 26  분기              87361 non-null  period[Q-DEC] \n",
      " 27  건축수명band        87361 non-null  category      \n",
      "dtypes: category(3), datetime64[ns](1), float64(5), int64(11), object(7), period[Q-DEC](1)\n",
      "memory usage: 16.9+ MB\n"
     ]
    }
   ],
   "source": [
    "df.info()"
   ]
  },
  {
   "cell_type": "markdown",
   "id": "a408b88f",
   "metadata": {},
   "source": [
    "# 1-5. 구분 Feature Engineering통한 중복 특성 변환\n",
    "- 구분은 4가지의 고유값이 있다.\n",
    "- 더이상 나눌것은 없고 구분, 층band, 전용면적band를 활용하여 중복특성으로 변환하겠다."
   ]
  },
  {
   "cell_type": "code",
   "execution_count": 22,
   "id": "236683c7",
   "metadata": {},
   "outputs": [
    {
     "data": {
      "text/plain": [
       "0        단독다가구\n",
       "1        단독다가구\n",
       "2        단독다가구\n",
       "3        단독다가구\n",
       "4        단독다가구\n",
       "         ...  \n",
       "87356     오피스텔\n",
       "87357     오피스텔\n",
       "87358     오피스텔\n",
       "87359     오피스텔\n",
       "87360     오피스텔\n",
       "Name: 구분, Length: 87361, dtype: object"
      ]
     },
     "execution_count": 22,
     "metadata": {},
     "output_type": "execute_result"
    }
   ],
   "source": [
    "df['구분'] "
   ]
  },
  {
   "cell_type": "code",
   "execution_count": 23,
   "id": "17c67c21",
   "metadata": {},
   "outputs": [
    {
     "data": {
      "text/plain": [
       "count     87361\n",
       "unique        4\n",
       "top         아파트\n",
       "freq      53963\n",
       "Name: 구분, dtype: object"
      ]
     },
     "execution_count": 23,
     "metadata": {},
     "output_type": "execute_result"
    }
   ],
   "source": [
    "df['구분'].describe()"
   ]
  },
  {
   "cell_type": "code",
   "execution_count": 24,
   "id": "5ebc0750",
   "metadata": {},
   "outputs": [
    {
     "data": {
      "text/plain": [
       "4"
      ]
     },
     "execution_count": 24,
     "metadata": {},
     "output_type": "execute_result"
    }
   ],
   "source": [
    "df['구분'].nunique()"
   ]
  },
  {
   "cell_type": "code",
   "execution_count": 25,
   "id": "f557c44b",
   "metadata": {},
   "outputs": [],
   "source": [
    "df['구분_층band_전용면적band'] = df['구분'] +'/' + df['층band'].astype(str) + '/' + df['전용면적band'].astype(str)"
   ]
  },
  {
   "cell_type": "code",
   "execution_count": 30,
   "id": "035ef57b",
   "metadata": {},
   "outputs": [
    {
     "data": {
      "text/plain": [
       "0        단독다가구/3-5/30-60\n",
       "1        단독다가구/3-5/30-60\n",
       "2        단독다가구/3-5/30-60\n",
       "3        단독다가구/3-5/30-60\n",
       "4        단독다가구/3-5/30-60\n",
       "              ...       \n",
       "87356    오피스텔/5-10/60-90\n",
       "87357    오피스텔/5-10/30-60\n",
       "87358    오피스텔/5-10/30-60\n",
       "87359     오피스텔/5-10/0-30\n",
       "87360     오피스텔/5-10/0-30\n",
       "Name: 구분_층band_전용면적band, Length: 87361, dtype: object"
      ]
     },
     "execution_count": 30,
     "metadata": {},
     "output_type": "execute_result"
    }
   ],
   "source": [
    "df['구분_층band_전용면적band']"
   ]
  },
  {
   "cell_type": "code",
   "execution_count": 31,
   "id": "7cc74517",
   "metadata": {},
   "outputs": [
    {
     "data": {
      "application/vnd.plotly.v1+json": {
       "config": {
        "plotlyServerURL": "https://plot.ly"
       },
       "data": [
        {
         "name": "평균 보증금(만원)",
         "type": "bar",
         "x": [
          "단독다가구/3-5/30-60",
          "아파트/-1-3/0-30",
          "아파트/-1-3/120+",
          "아파트/-1-3/30-60",
          "아파트/-1-3/60-90",
          "아파트/-1-3/90-120",
          "아파트/10-67/0-30",
          "아파트/10-67/120+",
          "아파트/10-67/30-60",
          "아파트/10-67/60-90",
          "아파트/10-67/90-120",
          "아파트/3-5/0-30",
          "아파트/3-5/120+",
          "아파트/3-5/30-60",
          "아파트/3-5/60-90",
          "아파트/3-5/90-120",
          "아파트/5-10/0-30",
          "아파트/5-10/120+",
          "아파트/5-10/30-60",
          "아파트/5-10/60-90",
          "아파트/5-10/90-120",
          "연립다세대/-1-3/0-30",
          "연립다세대/-1-3/120+",
          "연립다세대/-1-3/30-60",
          "연립다세대/-1-3/60-90",
          "연립다세대/-1-3/90-120",
          "연립다세대/10-67/0-30",
          "연립다세대/10-67/30-60",
          "연립다세대/3-5/0-30",
          "연립다세대/3-5/120+",
          "연립다세대/3-5/30-60",
          "연립다세대/3-5/60-90",
          "연립다세대/3-5/90-120",
          "연립다세대/5-10/0-30",
          "연립다세대/5-10/120+",
          "연립다세대/5-10/30-60",
          "연립다세대/5-10/60-90",
          "연립다세대/5-10/90-120",
          "오피스텔/-1-3/0-30",
          "오피스텔/-1-3/30-60",
          "오피스텔/-1-3/60-90",
          "오피스텔/10-67/0-30",
          "오피스텔/10-67/120+",
          "오피스텔/10-67/30-60",
          "오피스텔/10-67/60-90",
          "오피스텔/10-67/90-120",
          "오피스텔/3-5/0-30",
          "오피스텔/3-5/120+",
          "오피스텔/3-5/30-60",
          "오피스텔/3-5/60-90",
          "오피스텔/3-5/90-120",
          "오피스텔/5-10/0-30",
          "오피스텔/5-10/120+",
          "오피스텔/5-10/30-60",
          "오피스텔/5-10/60-90",
          "오피스텔/5-10/90-120"
         ],
         "y": [
          21535.11254222973,
          23406.270833333332,
          121674.48281786942,
          42840.88846153846,
          68173.45045900601,
          88416.90783410138,
          26306.320872274144,
          152343.7253968254,
          52846.61985433819,
          84283.97807382737,
          117156.5447885448,
          21403.71631205674,
          126242.30311355312,
          45093.1663048198,
          70641.95586560364,
          90716.87973640856,
          24084.875613747954,
          127998.87561779242,
          46053.49259325361,
          72856.91087293753,
          93727.92220543807,
          23050.1025390625,
          94708.44748858447,
          26989.06054054054,
          38672.51630941286,
          63835.24324324324,
          24685.106382978724,
          39902.77777777778,
          24860.151324503313,
          87939.71631205674,
          30124.234763793724,
          39599.027751196176,
          66095.32631578947,
          28616.05792437651,
          58235.18518518518,
          35788.212620027436,
          41436.729468599035,
          51350.60975609756,
          18384.207423580785,
          27266.54054054054,
          44157.142857142855,
          23121.045755568935,
          140667.63636363635,
          28558.762979683972,
          73566.95555555556,
          91331.66666666667,
          19721.302564102563,
          129438.88888888889,
          28795.06206896552,
          52376.791666666664,
          62229.166666666664,
          20093.795112781954,
          133064.2857142857,
          29087.1598062954,
          58092.45283018868,
          88885.71428571429
         ]
        },
        {
         "mode": "lines+markers",
         "name": "금리",
         "type": "scatter",
         "x": [
          "단독다가구/3-5/30-60",
          "아파트/-1-3/0-30",
          "아파트/-1-3/120+",
          "아파트/-1-3/30-60",
          "아파트/-1-3/60-90",
          "아파트/-1-3/90-120",
          "아파트/10-67/0-30",
          "아파트/10-67/120+",
          "아파트/10-67/30-60",
          "아파트/10-67/60-90",
          "아파트/10-67/90-120",
          "아파트/3-5/0-30",
          "아파트/3-5/120+",
          "아파트/3-5/30-60",
          "아파트/3-5/60-90",
          "아파트/3-5/90-120",
          "아파트/5-10/0-30",
          "아파트/5-10/120+",
          "아파트/5-10/30-60",
          "아파트/5-10/60-90",
          "아파트/5-10/90-120",
          "연립다세대/-1-3/0-30",
          "연립다세대/-1-3/120+",
          "연립다세대/-1-3/30-60",
          "연립다세대/-1-3/60-90",
          "연립다세대/-1-3/90-120",
          "연립다세대/10-67/0-30",
          "연립다세대/10-67/30-60",
          "연립다세대/3-5/0-30",
          "연립다세대/3-5/120+",
          "연립다세대/3-5/30-60",
          "연립다세대/3-5/60-90",
          "연립다세대/3-5/90-120",
          "연립다세대/5-10/0-30",
          "연립다세대/5-10/120+",
          "연립다세대/5-10/30-60",
          "연립다세대/5-10/60-90",
          "연립다세대/5-10/90-120",
          "오피스텔/-1-3/0-30",
          "오피스텔/-1-3/30-60",
          "오피스텔/-1-3/60-90",
          "오피스텔/10-67/0-30",
          "오피스텔/10-67/120+",
          "오피스텔/10-67/30-60",
          "오피스텔/10-67/60-90",
          "오피스텔/10-67/90-120",
          "오피스텔/3-5/0-30",
          "오피스텔/3-5/120+",
          "오피스텔/3-5/30-60",
          "오피스텔/3-5/60-90",
          "오피스텔/3-5/90-120",
          "오피스텔/5-10/0-30",
          "오피스텔/5-10/120+",
          "오피스텔/5-10/30-60",
          "오피스텔/5-10/60-90",
          "오피스텔/5-10/90-120"
         ],
         "xaxis": "x",
         "y": [
          3.3644108952702703,
          3.255104166666667,
          3.1574312714776633,
          3.1935879120879123,
          3.164495093383982,
          3.153594470046083,
          3.1527102803738316,
          3.1511746031746033,
          3.16348480050665,
          3.1692436858173743,
          3.1487345987345985,
          3.1656737588652484,
          3.160668498168498,
          3.2159009986973515,
          3.1713097949886104,
          3.151309719934102,
          3.127872340425532,
          3.150523064250412,
          3.2206710690701414,
          3.163985333521365,
          3.1774320241691845,
          3.1781494140625,
          3.164246575342466,
          3.1860684684684686,
          3.1138210624417524,
          3.239081081081081,
          2.918085106382979,
          3.0994444444444444,
          3.159973509933775,
          3.1065248226950355,
          3.1346916696718354,
          3.165224880382775,
          3.1167894736842108,
          3.1933467417538215,
          3.055925925925926,
          3.1379698216735252,
          3.1449275362318843,
          3.043170731707317,
          3.16646288209607,
          3.1061621621621622,
          2.7614285714285716,
          3.1379590608067427,
          3.078727272727273,
          3.115124153498871,
          3.173333333333334,
          3.091666666666667,
          3.189735042735043,
          3.1055555555555556,
          3.1484827586206894,
          3.1637500000000003,
          3.1325000000000003,
          3.189387218045113,
          3.0625714285714287,
          3.1415617433414043,
          3.2415094339622645,
          2.9732142857142856
         ],
         "yaxis": "y2"
        }
       ],
       "layout": {
        "template": {
         "data": {
          "bar": [
           {
            "error_x": {
             "color": "#2a3f5f"
            },
            "error_y": {
             "color": "#2a3f5f"
            },
            "marker": {
             "line": {
              "color": "#E5ECF6",
              "width": 0.5
             },
             "pattern": {
              "fillmode": "overlay",
              "size": 10,
              "solidity": 0.2
             }
            },
            "type": "bar"
           }
          ],
          "barpolar": [
           {
            "marker": {
             "line": {
              "color": "#E5ECF6",
              "width": 0.5
             },
             "pattern": {
              "fillmode": "overlay",
              "size": 10,
              "solidity": 0.2
             }
            },
            "type": "barpolar"
           }
          ],
          "carpet": [
           {
            "aaxis": {
             "endlinecolor": "#2a3f5f",
             "gridcolor": "white",
             "linecolor": "white",
             "minorgridcolor": "white",
             "startlinecolor": "#2a3f5f"
            },
            "baxis": {
             "endlinecolor": "#2a3f5f",
             "gridcolor": "white",
             "linecolor": "white",
             "minorgridcolor": "white",
             "startlinecolor": "#2a3f5f"
            },
            "type": "carpet"
           }
          ],
          "choropleth": [
           {
            "colorbar": {
             "outlinewidth": 0,
             "ticks": ""
            },
            "type": "choropleth"
           }
          ],
          "contour": [
           {
            "colorbar": {
             "outlinewidth": 0,
             "ticks": ""
            },
            "colorscale": [
             [
              0,
              "#0d0887"
             ],
             [
              0.1111111111111111,
              "#46039f"
             ],
             [
              0.2222222222222222,
              "#7201a8"
             ],
             [
              0.3333333333333333,
              "#9c179e"
             ],
             [
              0.4444444444444444,
              "#bd3786"
             ],
             [
              0.5555555555555556,
              "#d8576b"
             ],
             [
              0.6666666666666666,
              "#ed7953"
             ],
             [
              0.7777777777777778,
              "#fb9f3a"
             ],
             [
              0.8888888888888888,
              "#fdca26"
             ],
             [
              1,
              "#f0f921"
             ]
            ],
            "type": "contour"
           }
          ],
          "contourcarpet": [
           {
            "colorbar": {
             "outlinewidth": 0,
             "ticks": ""
            },
            "type": "contourcarpet"
           }
          ],
          "heatmap": [
           {
            "colorbar": {
             "outlinewidth": 0,
             "ticks": ""
            },
            "colorscale": [
             [
              0,
              "#0d0887"
             ],
             [
              0.1111111111111111,
              "#46039f"
             ],
             [
              0.2222222222222222,
              "#7201a8"
             ],
             [
              0.3333333333333333,
              "#9c179e"
             ],
             [
              0.4444444444444444,
              "#bd3786"
             ],
             [
              0.5555555555555556,
              "#d8576b"
             ],
             [
              0.6666666666666666,
              "#ed7953"
             ],
             [
              0.7777777777777778,
              "#fb9f3a"
             ],
             [
              0.8888888888888888,
              "#fdca26"
             ],
             [
              1,
              "#f0f921"
             ]
            ],
            "type": "heatmap"
           }
          ],
          "heatmapgl": [
           {
            "colorbar": {
             "outlinewidth": 0,
             "ticks": ""
            },
            "colorscale": [
             [
              0,
              "#0d0887"
             ],
             [
              0.1111111111111111,
              "#46039f"
             ],
             [
              0.2222222222222222,
              "#7201a8"
             ],
             [
              0.3333333333333333,
              "#9c179e"
             ],
             [
              0.4444444444444444,
              "#bd3786"
             ],
             [
              0.5555555555555556,
              "#d8576b"
             ],
             [
              0.6666666666666666,
              "#ed7953"
             ],
             [
              0.7777777777777778,
              "#fb9f3a"
             ],
             [
              0.8888888888888888,
              "#fdca26"
             ],
             [
              1,
              "#f0f921"
             ]
            ],
            "type": "heatmapgl"
           }
          ],
          "histogram": [
           {
            "marker": {
             "pattern": {
              "fillmode": "overlay",
              "size": 10,
              "solidity": 0.2
             }
            },
            "type": "histogram"
           }
          ],
          "histogram2d": [
           {
            "colorbar": {
             "outlinewidth": 0,
             "ticks": ""
            },
            "colorscale": [
             [
              0,
              "#0d0887"
             ],
             [
              0.1111111111111111,
              "#46039f"
             ],
             [
              0.2222222222222222,
              "#7201a8"
             ],
             [
              0.3333333333333333,
              "#9c179e"
             ],
             [
              0.4444444444444444,
              "#bd3786"
             ],
             [
              0.5555555555555556,
              "#d8576b"
             ],
             [
              0.6666666666666666,
              "#ed7953"
             ],
             [
              0.7777777777777778,
              "#fb9f3a"
             ],
             [
              0.8888888888888888,
              "#fdca26"
             ],
             [
              1,
              "#f0f921"
             ]
            ],
            "type": "histogram2d"
           }
          ],
          "histogram2dcontour": [
           {
            "colorbar": {
             "outlinewidth": 0,
             "ticks": ""
            },
            "colorscale": [
             [
              0,
              "#0d0887"
             ],
             [
              0.1111111111111111,
              "#46039f"
             ],
             [
              0.2222222222222222,
              "#7201a8"
             ],
             [
              0.3333333333333333,
              "#9c179e"
             ],
             [
              0.4444444444444444,
              "#bd3786"
             ],
             [
              0.5555555555555556,
              "#d8576b"
             ],
             [
              0.6666666666666666,
              "#ed7953"
             ],
             [
              0.7777777777777778,
              "#fb9f3a"
             ],
             [
              0.8888888888888888,
              "#fdca26"
             ],
             [
              1,
              "#f0f921"
             ]
            ],
            "type": "histogram2dcontour"
           }
          ],
          "mesh3d": [
           {
            "colorbar": {
             "outlinewidth": 0,
             "ticks": ""
            },
            "type": "mesh3d"
           }
          ],
          "parcoords": [
           {
            "line": {
             "colorbar": {
              "outlinewidth": 0,
              "ticks": ""
             }
            },
            "type": "parcoords"
           }
          ],
          "pie": [
           {
            "automargin": true,
            "type": "pie"
           }
          ],
          "scatter": [
           {
            "fillpattern": {
             "fillmode": "overlay",
             "size": 10,
             "solidity": 0.2
            },
            "type": "scatter"
           }
          ],
          "scatter3d": [
           {
            "line": {
             "colorbar": {
              "outlinewidth": 0,
              "ticks": ""
             }
            },
            "marker": {
             "colorbar": {
              "outlinewidth": 0,
              "ticks": ""
             }
            },
            "type": "scatter3d"
           }
          ],
          "scattercarpet": [
           {
            "marker": {
             "colorbar": {
              "outlinewidth": 0,
              "ticks": ""
             }
            },
            "type": "scattercarpet"
           }
          ],
          "scattergeo": [
           {
            "marker": {
             "colorbar": {
              "outlinewidth": 0,
              "ticks": ""
             }
            },
            "type": "scattergeo"
           }
          ],
          "scattergl": [
           {
            "marker": {
             "colorbar": {
              "outlinewidth": 0,
              "ticks": ""
             }
            },
            "type": "scattergl"
           }
          ],
          "scattermapbox": [
           {
            "marker": {
             "colorbar": {
              "outlinewidth": 0,
              "ticks": ""
             }
            },
            "type": "scattermapbox"
           }
          ],
          "scatterpolar": [
           {
            "marker": {
             "colorbar": {
              "outlinewidth": 0,
              "ticks": ""
             }
            },
            "type": "scatterpolar"
           }
          ],
          "scatterpolargl": [
           {
            "marker": {
             "colorbar": {
              "outlinewidth": 0,
              "ticks": ""
             }
            },
            "type": "scatterpolargl"
           }
          ],
          "scatterternary": [
           {
            "marker": {
             "colorbar": {
              "outlinewidth": 0,
              "ticks": ""
             }
            },
            "type": "scatterternary"
           }
          ],
          "surface": [
           {
            "colorbar": {
             "outlinewidth": 0,
             "ticks": ""
            },
            "colorscale": [
             [
              0,
              "#0d0887"
             ],
             [
              0.1111111111111111,
              "#46039f"
             ],
             [
              0.2222222222222222,
              "#7201a8"
             ],
             [
              0.3333333333333333,
              "#9c179e"
             ],
             [
              0.4444444444444444,
              "#bd3786"
             ],
             [
              0.5555555555555556,
              "#d8576b"
             ],
             [
              0.6666666666666666,
              "#ed7953"
             ],
             [
              0.7777777777777778,
              "#fb9f3a"
             ],
             [
              0.8888888888888888,
              "#fdca26"
             ],
             [
              1,
              "#f0f921"
             ]
            ],
            "type": "surface"
           }
          ],
          "table": [
           {
            "cells": {
             "fill": {
              "color": "#EBF0F8"
             },
             "line": {
              "color": "white"
             }
            },
            "header": {
             "fill": {
              "color": "#C8D4E3"
             },
             "line": {
              "color": "white"
             }
            },
            "type": "table"
           }
          ]
         },
         "layout": {
          "annotationdefaults": {
           "arrowcolor": "#2a3f5f",
           "arrowhead": 0,
           "arrowwidth": 1
          },
          "autotypenumbers": "strict",
          "coloraxis": {
           "colorbar": {
            "outlinewidth": 0,
            "ticks": ""
           }
          },
          "colorscale": {
           "diverging": [
            [
             0,
             "#8e0152"
            ],
            [
             0.1,
             "#c51b7d"
            ],
            [
             0.2,
             "#de77ae"
            ],
            [
             0.3,
             "#f1b6da"
            ],
            [
             0.4,
             "#fde0ef"
            ],
            [
             0.5,
             "#f7f7f7"
            ],
            [
             0.6,
             "#e6f5d0"
            ],
            [
             0.7,
             "#b8e186"
            ],
            [
             0.8,
             "#7fbc41"
            ],
            [
             0.9,
             "#4d9221"
            ],
            [
             1,
             "#276419"
            ]
           ],
           "sequential": [
            [
             0,
             "#0d0887"
            ],
            [
             0.1111111111111111,
             "#46039f"
            ],
            [
             0.2222222222222222,
             "#7201a8"
            ],
            [
             0.3333333333333333,
             "#9c179e"
            ],
            [
             0.4444444444444444,
             "#bd3786"
            ],
            [
             0.5555555555555556,
             "#d8576b"
            ],
            [
             0.6666666666666666,
             "#ed7953"
            ],
            [
             0.7777777777777778,
             "#fb9f3a"
            ],
            [
             0.8888888888888888,
             "#fdca26"
            ],
            [
             1,
             "#f0f921"
            ]
           ],
           "sequentialminus": [
            [
             0,
             "#0d0887"
            ],
            [
             0.1111111111111111,
             "#46039f"
            ],
            [
             0.2222222222222222,
             "#7201a8"
            ],
            [
             0.3333333333333333,
             "#9c179e"
            ],
            [
             0.4444444444444444,
             "#bd3786"
            ],
            [
             0.5555555555555556,
             "#d8576b"
            ],
            [
             0.6666666666666666,
             "#ed7953"
            ],
            [
             0.7777777777777778,
             "#fb9f3a"
            ],
            [
             0.8888888888888888,
             "#fdca26"
            ],
            [
             1,
             "#f0f921"
            ]
           ]
          },
          "colorway": [
           "#636efa",
           "#EF553B",
           "#00cc96",
           "#ab63fa",
           "#FFA15A",
           "#19d3f3",
           "#FF6692",
           "#B6E880",
           "#FF97FF",
           "#FECB52"
          ],
          "font": {
           "color": "#2a3f5f"
          },
          "geo": {
           "bgcolor": "white",
           "lakecolor": "white",
           "landcolor": "#E5ECF6",
           "showlakes": true,
           "showland": true,
           "subunitcolor": "white"
          },
          "hoverlabel": {
           "align": "left"
          },
          "hovermode": "closest",
          "mapbox": {
           "style": "light"
          },
          "paper_bgcolor": "white",
          "plot_bgcolor": "#E5ECF6",
          "polar": {
           "angularaxis": {
            "gridcolor": "white",
            "linecolor": "white",
            "ticks": ""
           },
           "bgcolor": "#E5ECF6",
           "radialaxis": {
            "gridcolor": "white",
            "linecolor": "white",
            "ticks": ""
           }
          },
          "scene": {
           "xaxis": {
            "backgroundcolor": "#E5ECF6",
            "gridcolor": "white",
            "gridwidth": 2,
            "linecolor": "white",
            "showbackground": true,
            "ticks": "",
            "zerolinecolor": "white"
           },
           "yaxis": {
            "backgroundcolor": "#E5ECF6",
            "gridcolor": "white",
            "gridwidth": 2,
            "linecolor": "white",
            "showbackground": true,
            "ticks": "",
            "zerolinecolor": "white"
           },
           "zaxis": {
            "backgroundcolor": "#E5ECF6",
            "gridcolor": "white",
            "gridwidth": 2,
            "linecolor": "white",
            "showbackground": true,
            "ticks": "",
            "zerolinecolor": "white"
           }
          },
          "shapedefaults": {
           "line": {
            "color": "#2a3f5f"
           }
          },
          "ternary": {
           "aaxis": {
            "gridcolor": "white",
            "linecolor": "white",
            "ticks": ""
           },
           "baxis": {
            "gridcolor": "white",
            "linecolor": "white",
            "ticks": ""
           },
           "bgcolor": "#E5ECF6",
           "caxis": {
            "gridcolor": "white",
            "linecolor": "white",
            "ticks": ""
           }
          },
          "title": {
           "x": 0.05
          },
          "xaxis": {
           "automargin": true,
           "gridcolor": "white",
           "linecolor": "white",
           "ticks": "",
           "title": {
            "standoff": 15
           },
           "zerolinecolor": "white",
           "zerolinewidth": 2
          },
          "yaxis": {
           "automargin": true,
           "gridcolor": "white",
           "linecolor": "white",
           "ticks": "",
           "title": {
            "standoff": 15
           },
           "zerolinecolor": "white",
           "zerolinewidth": 2
          }
         }
        },
        "title": {
         "text": "평균 보증금과 금리"
        },
        "xaxis": {
         "anchor": "y",
         "domain": [
          0,
          0.94
         ],
         "tickangle": -45,
         "title": {
          "text": "구분_층band_전용면적band"
         }
        },
        "yaxis": {
         "anchor": "x",
         "domain": [
          0,
          1
         ],
         "title": {
          "text": "평균 보증금(만원)"
         }
        },
        "yaxis2": {
         "anchor": "x",
         "overlaying": "y",
         "range": [
          0,
          4
         ],
         "side": "right",
         "title": {
          "text": "금리"
         }
        }
       }
      },
      "text/html": [
       "<div>                            <div id=\"5e59ed5d-346d-4a59-a1ee-f010fddbb2ec\" class=\"plotly-graph-div\" style=\"height:525px; width:100%;\"></div>            <script type=\"text/javascript\">                require([\"plotly\"], function(Plotly) {                    window.PLOTLYENV=window.PLOTLYENV || {};                                    if (document.getElementById(\"5e59ed5d-346d-4a59-a1ee-f010fddbb2ec\")) {                    Plotly.newPlot(                        \"5e59ed5d-346d-4a59-a1ee-f010fddbb2ec\",                        [{\"name\":\"\\ud3c9\\uade0 \\ubcf4\\uc99d\\uae08(\\ub9cc\\uc6d0)\",\"x\":[\"\\ub2e8\\ub3c5\\ub2e4\\uac00\\uad6c/3-5/30-60\",\"\\uc544\\ud30c\\ud2b8/-1-3/0-30\",\"\\uc544\\ud30c\\ud2b8/-1-3/120+\",\"\\uc544\\ud30c\\ud2b8/-1-3/30-60\",\"\\uc544\\ud30c\\ud2b8/-1-3/60-90\",\"\\uc544\\ud30c\\ud2b8/-1-3/90-120\",\"\\uc544\\ud30c\\ud2b8/10-67/0-30\",\"\\uc544\\ud30c\\ud2b8/10-67/120+\",\"\\uc544\\ud30c\\ud2b8/10-67/30-60\",\"\\uc544\\ud30c\\ud2b8/10-67/60-90\",\"\\uc544\\ud30c\\ud2b8/10-67/90-120\",\"\\uc544\\ud30c\\ud2b8/3-5/0-30\",\"\\uc544\\ud30c\\ud2b8/3-5/120+\",\"\\uc544\\ud30c\\ud2b8/3-5/30-60\",\"\\uc544\\ud30c\\ud2b8/3-5/60-90\",\"\\uc544\\ud30c\\ud2b8/3-5/90-120\",\"\\uc544\\ud30c\\ud2b8/5-10/0-30\",\"\\uc544\\ud30c\\ud2b8/5-10/120+\",\"\\uc544\\ud30c\\ud2b8/5-10/30-60\",\"\\uc544\\ud30c\\ud2b8/5-10/60-90\",\"\\uc544\\ud30c\\ud2b8/5-10/90-120\",\"\\uc5f0\\ub9bd\\ub2e4\\uc138\\ub300/-1-3/0-30\",\"\\uc5f0\\ub9bd\\ub2e4\\uc138\\ub300/-1-3/120+\",\"\\uc5f0\\ub9bd\\ub2e4\\uc138\\ub300/-1-3/30-60\",\"\\uc5f0\\ub9bd\\ub2e4\\uc138\\ub300/-1-3/60-90\",\"\\uc5f0\\ub9bd\\ub2e4\\uc138\\ub300/-1-3/90-120\",\"\\uc5f0\\ub9bd\\ub2e4\\uc138\\ub300/10-67/0-30\",\"\\uc5f0\\ub9bd\\ub2e4\\uc138\\ub300/10-67/30-60\",\"\\uc5f0\\ub9bd\\ub2e4\\uc138\\ub300/3-5/0-30\",\"\\uc5f0\\ub9bd\\ub2e4\\uc138\\ub300/3-5/120+\",\"\\uc5f0\\ub9bd\\ub2e4\\uc138\\ub300/3-5/30-60\",\"\\uc5f0\\ub9bd\\ub2e4\\uc138\\ub300/3-5/60-90\",\"\\uc5f0\\ub9bd\\ub2e4\\uc138\\ub300/3-5/90-120\",\"\\uc5f0\\ub9bd\\ub2e4\\uc138\\ub300/5-10/0-30\",\"\\uc5f0\\ub9bd\\ub2e4\\uc138\\ub300/5-10/120+\",\"\\uc5f0\\ub9bd\\ub2e4\\uc138\\ub300/5-10/30-60\",\"\\uc5f0\\ub9bd\\ub2e4\\uc138\\ub300/5-10/60-90\",\"\\uc5f0\\ub9bd\\ub2e4\\uc138\\ub300/5-10/90-120\",\"\\uc624\\ud53c\\uc2a4\\ud154/-1-3/0-30\",\"\\uc624\\ud53c\\uc2a4\\ud154/-1-3/30-60\",\"\\uc624\\ud53c\\uc2a4\\ud154/-1-3/60-90\",\"\\uc624\\ud53c\\uc2a4\\ud154/10-67/0-30\",\"\\uc624\\ud53c\\uc2a4\\ud154/10-67/120+\",\"\\uc624\\ud53c\\uc2a4\\ud154/10-67/30-60\",\"\\uc624\\ud53c\\uc2a4\\ud154/10-67/60-90\",\"\\uc624\\ud53c\\uc2a4\\ud154/10-67/90-120\",\"\\uc624\\ud53c\\uc2a4\\ud154/3-5/0-30\",\"\\uc624\\ud53c\\uc2a4\\ud154/3-5/120+\",\"\\uc624\\ud53c\\uc2a4\\ud154/3-5/30-60\",\"\\uc624\\ud53c\\uc2a4\\ud154/3-5/60-90\",\"\\uc624\\ud53c\\uc2a4\\ud154/3-5/90-120\",\"\\uc624\\ud53c\\uc2a4\\ud154/5-10/0-30\",\"\\uc624\\ud53c\\uc2a4\\ud154/5-10/120+\",\"\\uc624\\ud53c\\uc2a4\\ud154/5-10/30-60\",\"\\uc624\\ud53c\\uc2a4\\ud154/5-10/60-90\",\"\\uc624\\ud53c\\uc2a4\\ud154/5-10/90-120\"],\"y\":[21535.11254222973,23406.270833333332,121674.48281786942,42840.88846153846,68173.45045900601,88416.90783410138,26306.320872274144,152343.7253968254,52846.61985433819,84283.97807382737,117156.5447885448,21403.71631205674,126242.30311355312,45093.1663048198,70641.95586560364,90716.87973640856,24084.875613747954,127998.87561779242,46053.49259325361,72856.91087293753,93727.92220543807,23050.1025390625,94708.44748858447,26989.06054054054,38672.51630941286,63835.24324324324,24685.106382978724,39902.77777777778,24860.151324503313,87939.71631205674,30124.234763793724,39599.027751196176,66095.32631578947,28616.05792437651,58235.18518518518,35788.212620027436,41436.729468599035,51350.60975609756,18384.207423580785,27266.54054054054,44157.142857142855,23121.045755568935,140667.63636363635,28558.762979683972,73566.95555555556,91331.66666666667,19721.302564102563,129438.88888888889,28795.06206896552,52376.791666666664,62229.166666666664,20093.795112781954,133064.2857142857,29087.1598062954,58092.45283018868,88885.71428571429],\"type\":\"bar\"},{\"mode\":\"lines+markers\",\"name\":\"\\uae08\\ub9ac\",\"x\":[\"\\ub2e8\\ub3c5\\ub2e4\\uac00\\uad6c/3-5/30-60\",\"\\uc544\\ud30c\\ud2b8/-1-3/0-30\",\"\\uc544\\ud30c\\ud2b8/-1-3/120+\",\"\\uc544\\ud30c\\ud2b8/-1-3/30-60\",\"\\uc544\\ud30c\\ud2b8/-1-3/60-90\",\"\\uc544\\ud30c\\ud2b8/-1-3/90-120\",\"\\uc544\\ud30c\\ud2b8/10-67/0-30\",\"\\uc544\\ud30c\\ud2b8/10-67/120+\",\"\\uc544\\ud30c\\ud2b8/10-67/30-60\",\"\\uc544\\ud30c\\ud2b8/10-67/60-90\",\"\\uc544\\ud30c\\ud2b8/10-67/90-120\",\"\\uc544\\ud30c\\ud2b8/3-5/0-30\",\"\\uc544\\ud30c\\ud2b8/3-5/120+\",\"\\uc544\\ud30c\\ud2b8/3-5/30-60\",\"\\uc544\\ud30c\\ud2b8/3-5/60-90\",\"\\uc544\\ud30c\\ud2b8/3-5/90-120\",\"\\uc544\\ud30c\\ud2b8/5-10/0-30\",\"\\uc544\\ud30c\\ud2b8/5-10/120+\",\"\\uc544\\ud30c\\ud2b8/5-10/30-60\",\"\\uc544\\ud30c\\ud2b8/5-10/60-90\",\"\\uc544\\ud30c\\ud2b8/5-10/90-120\",\"\\uc5f0\\ub9bd\\ub2e4\\uc138\\ub300/-1-3/0-30\",\"\\uc5f0\\ub9bd\\ub2e4\\uc138\\ub300/-1-3/120+\",\"\\uc5f0\\ub9bd\\ub2e4\\uc138\\ub300/-1-3/30-60\",\"\\uc5f0\\ub9bd\\ub2e4\\uc138\\ub300/-1-3/60-90\",\"\\uc5f0\\ub9bd\\ub2e4\\uc138\\ub300/-1-3/90-120\",\"\\uc5f0\\ub9bd\\ub2e4\\uc138\\ub300/10-67/0-30\",\"\\uc5f0\\ub9bd\\ub2e4\\uc138\\ub300/10-67/30-60\",\"\\uc5f0\\ub9bd\\ub2e4\\uc138\\ub300/3-5/0-30\",\"\\uc5f0\\ub9bd\\ub2e4\\uc138\\ub300/3-5/120+\",\"\\uc5f0\\ub9bd\\ub2e4\\uc138\\ub300/3-5/30-60\",\"\\uc5f0\\ub9bd\\ub2e4\\uc138\\ub300/3-5/60-90\",\"\\uc5f0\\ub9bd\\ub2e4\\uc138\\ub300/3-5/90-120\",\"\\uc5f0\\ub9bd\\ub2e4\\uc138\\ub300/5-10/0-30\",\"\\uc5f0\\ub9bd\\ub2e4\\uc138\\ub300/5-10/120+\",\"\\uc5f0\\ub9bd\\ub2e4\\uc138\\ub300/5-10/30-60\",\"\\uc5f0\\ub9bd\\ub2e4\\uc138\\ub300/5-10/60-90\",\"\\uc5f0\\ub9bd\\ub2e4\\uc138\\ub300/5-10/90-120\",\"\\uc624\\ud53c\\uc2a4\\ud154/-1-3/0-30\",\"\\uc624\\ud53c\\uc2a4\\ud154/-1-3/30-60\",\"\\uc624\\ud53c\\uc2a4\\ud154/-1-3/60-90\",\"\\uc624\\ud53c\\uc2a4\\ud154/10-67/0-30\",\"\\uc624\\ud53c\\uc2a4\\ud154/10-67/120+\",\"\\uc624\\ud53c\\uc2a4\\ud154/10-67/30-60\",\"\\uc624\\ud53c\\uc2a4\\ud154/10-67/60-90\",\"\\uc624\\ud53c\\uc2a4\\ud154/10-67/90-120\",\"\\uc624\\ud53c\\uc2a4\\ud154/3-5/0-30\",\"\\uc624\\ud53c\\uc2a4\\ud154/3-5/120+\",\"\\uc624\\ud53c\\uc2a4\\ud154/3-5/30-60\",\"\\uc624\\ud53c\\uc2a4\\ud154/3-5/60-90\",\"\\uc624\\ud53c\\uc2a4\\ud154/3-5/90-120\",\"\\uc624\\ud53c\\uc2a4\\ud154/5-10/0-30\",\"\\uc624\\ud53c\\uc2a4\\ud154/5-10/120+\",\"\\uc624\\ud53c\\uc2a4\\ud154/5-10/30-60\",\"\\uc624\\ud53c\\uc2a4\\ud154/5-10/60-90\",\"\\uc624\\ud53c\\uc2a4\\ud154/5-10/90-120\"],\"y\":[3.3644108952702703,3.255104166666667,3.1574312714776633,3.1935879120879123,3.164495093383982,3.153594470046083,3.1527102803738316,3.1511746031746033,3.16348480050665,3.1692436858173743,3.1487345987345985,3.1656737588652484,3.160668498168498,3.2159009986973515,3.1713097949886104,3.151309719934102,3.127872340425532,3.150523064250412,3.2206710690701414,3.163985333521365,3.1774320241691845,3.1781494140625,3.164246575342466,3.1860684684684686,3.1138210624417524,3.239081081081081,2.918085106382979,3.0994444444444444,3.159973509933775,3.1065248226950355,3.1346916696718354,3.165224880382775,3.1167894736842108,3.1933467417538215,3.055925925925926,3.1379698216735252,3.1449275362318843,3.043170731707317,3.16646288209607,3.1061621621621622,2.7614285714285716,3.1379590608067427,3.078727272727273,3.115124153498871,3.173333333333334,3.091666666666667,3.189735042735043,3.1055555555555556,3.1484827586206894,3.1637500000000003,3.1325000000000003,3.189387218045113,3.0625714285714287,3.1415617433414043,3.2415094339622645,2.9732142857142856],\"type\":\"scatter\",\"xaxis\":\"x\",\"yaxis\":\"y2\"}],                        {\"template\":{\"data\":{\"histogram2dcontour\":[{\"type\":\"histogram2dcontour\",\"colorbar\":{\"outlinewidth\":0,\"ticks\":\"\"},\"colorscale\":[[0.0,\"#0d0887\"],[0.1111111111111111,\"#46039f\"],[0.2222222222222222,\"#7201a8\"],[0.3333333333333333,\"#9c179e\"],[0.4444444444444444,\"#bd3786\"],[0.5555555555555556,\"#d8576b\"],[0.6666666666666666,\"#ed7953\"],[0.7777777777777778,\"#fb9f3a\"],[0.8888888888888888,\"#fdca26\"],[1.0,\"#f0f921\"]]}],\"choropleth\":[{\"type\":\"choropleth\",\"colorbar\":{\"outlinewidth\":0,\"ticks\":\"\"}}],\"histogram2d\":[{\"type\":\"histogram2d\",\"colorbar\":{\"outlinewidth\":0,\"ticks\":\"\"},\"colorscale\":[[0.0,\"#0d0887\"],[0.1111111111111111,\"#46039f\"],[0.2222222222222222,\"#7201a8\"],[0.3333333333333333,\"#9c179e\"],[0.4444444444444444,\"#bd3786\"],[0.5555555555555556,\"#d8576b\"],[0.6666666666666666,\"#ed7953\"],[0.7777777777777778,\"#fb9f3a\"],[0.8888888888888888,\"#fdca26\"],[1.0,\"#f0f921\"]]}],\"heatmap\":[{\"type\":\"heatmap\",\"colorbar\":{\"outlinewidth\":0,\"ticks\":\"\"},\"colorscale\":[[0.0,\"#0d0887\"],[0.1111111111111111,\"#46039f\"],[0.2222222222222222,\"#7201a8\"],[0.3333333333333333,\"#9c179e\"],[0.4444444444444444,\"#bd3786\"],[0.5555555555555556,\"#d8576b\"],[0.6666666666666666,\"#ed7953\"],[0.7777777777777778,\"#fb9f3a\"],[0.8888888888888888,\"#fdca26\"],[1.0,\"#f0f921\"]]}],\"heatmapgl\":[{\"type\":\"heatmapgl\",\"colorbar\":{\"outlinewidth\":0,\"ticks\":\"\"},\"colorscale\":[[0.0,\"#0d0887\"],[0.1111111111111111,\"#46039f\"],[0.2222222222222222,\"#7201a8\"],[0.3333333333333333,\"#9c179e\"],[0.4444444444444444,\"#bd3786\"],[0.5555555555555556,\"#d8576b\"],[0.6666666666666666,\"#ed7953\"],[0.7777777777777778,\"#fb9f3a\"],[0.8888888888888888,\"#fdca26\"],[1.0,\"#f0f921\"]]}],\"contourcarpet\":[{\"type\":\"contourcarpet\",\"colorbar\":{\"outlinewidth\":0,\"ticks\":\"\"}}],\"contour\":[{\"type\":\"contour\",\"colorbar\":{\"outlinewidth\":0,\"ticks\":\"\"},\"colorscale\":[[0.0,\"#0d0887\"],[0.1111111111111111,\"#46039f\"],[0.2222222222222222,\"#7201a8\"],[0.3333333333333333,\"#9c179e\"],[0.4444444444444444,\"#bd3786\"],[0.5555555555555556,\"#d8576b\"],[0.6666666666666666,\"#ed7953\"],[0.7777777777777778,\"#fb9f3a\"],[0.8888888888888888,\"#fdca26\"],[1.0,\"#f0f921\"]]}],\"surface\":[{\"type\":\"surface\",\"colorbar\":{\"outlinewidth\":0,\"ticks\":\"\"},\"colorscale\":[[0.0,\"#0d0887\"],[0.1111111111111111,\"#46039f\"],[0.2222222222222222,\"#7201a8\"],[0.3333333333333333,\"#9c179e\"],[0.4444444444444444,\"#bd3786\"],[0.5555555555555556,\"#d8576b\"],[0.6666666666666666,\"#ed7953\"],[0.7777777777777778,\"#fb9f3a\"],[0.8888888888888888,\"#fdca26\"],[1.0,\"#f0f921\"]]}],\"mesh3d\":[{\"type\":\"mesh3d\",\"colorbar\":{\"outlinewidth\":0,\"ticks\":\"\"}}],\"scatter\":[{\"fillpattern\":{\"fillmode\":\"overlay\",\"size\":10,\"solidity\":0.2},\"type\":\"scatter\"}],\"parcoords\":[{\"type\":\"parcoords\",\"line\":{\"colorbar\":{\"outlinewidth\":0,\"ticks\":\"\"}}}],\"scatterpolargl\":[{\"type\":\"scatterpolargl\",\"marker\":{\"colorbar\":{\"outlinewidth\":0,\"ticks\":\"\"}}}],\"bar\":[{\"error_x\":{\"color\":\"#2a3f5f\"},\"error_y\":{\"color\":\"#2a3f5f\"},\"marker\":{\"line\":{\"color\":\"#E5ECF6\",\"width\":0.5},\"pattern\":{\"fillmode\":\"overlay\",\"size\":10,\"solidity\":0.2}},\"type\":\"bar\"}],\"scattergeo\":[{\"type\":\"scattergeo\",\"marker\":{\"colorbar\":{\"outlinewidth\":0,\"ticks\":\"\"}}}],\"scatterpolar\":[{\"type\":\"scatterpolar\",\"marker\":{\"colorbar\":{\"outlinewidth\":0,\"ticks\":\"\"}}}],\"histogram\":[{\"marker\":{\"pattern\":{\"fillmode\":\"overlay\",\"size\":10,\"solidity\":0.2}},\"type\":\"histogram\"}],\"scattergl\":[{\"type\":\"scattergl\",\"marker\":{\"colorbar\":{\"outlinewidth\":0,\"ticks\":\"\"}}}],\"scatter3d\":[{\"type\":\"scatter3d\",\"line\":{\"colorbar\":{\"outlinewidth\":0,\"ticks\":\"\"}},\"marker\":{\"colorbar\":{\"outlinewidth\":0,\"ticks\":\"\"}}}],\"scattermapbox\":[{\"type\":\"scattermapbox\",\"marker\":{\"colorbar\":{\"outlinewidth\":0,\"ticks\":\"\"}}}],\"scatterternary\":[{\"type\":\"scatterternary\",\"marker\":{\"colorbar\":{\"outlinewidth\":0,\"ticks\":\"\"}}}],\"scattercarpet\":[{\"type\":\"scattercarpet\",\"marker\":{\"colorbar\":{\"outlinewidth\":0,\"ticks\":\"\"}}}],\"carpet\":[{\"aaxis\":{\"endlinecolor\":\"#2a3f5f\",\"gridcolor\":\"white\",\"linecolor\":\"white\",\"minorgridcolor\":\"white\",\"startlinecolor\":\"#2a3f5f\"},\"baxis\":{\"endlinecolor\":\"#2a3f5f\",\"gridcolor\":\"white\",\"linecolor\":\"white\",\"minorgridcolor\":\"white\",\"startlinecolor\":\"#2a3f5f\"},\"type\":\"carpet\"}],\"table\":[{\"cells\":{\"fill\":{\"color\":\"#EBF0F8\"},\"line\":{\"color\":\"white\"}},\"header\":{\"fill\":{\"color\":\"#C8D4E3\"},\"line\":{\"color\":\"white\"}},\"type\":\"table\"}],\"barpolar\":[{\"marker\":{\"line\":{\"color\":\"#E5ECF6\",\"width\":0.5},\"pattern\":{\"fillmode\":\"overlay\",\"size\":10,\"solidity\":0.2}},\"type\":\"barpolar\"}],\"pie\":[{\"automargin\":true,\"type\":\"pie\"}]},\"layout\":{\"autotypenumbers\":\"strict\",\"colorway\":[\"#636efa\",\"#EF553B\",\"#00cc96\",\"#ab63fa\",\"#FFA15A\",\"#19d3f3\",\"#FF6692\",\"#B6E880\",\"#FF97FF\",\"#FECB52\"],\"font\":{\"color\":\"#2a3f5f\"},\"hovermode\":\"closest\",\"hoverlabel\":{\"align\":\"left\"},\"paper_bgcolor\":\"white\",\"plot_bgcolor\":\"#E5ECF6\",\"polar\":{\"bgcolor\":\"#E5ECF6\",\"angularaxis\":{\"gridcolor\":\"white\",\"linecolor\":\"white\",\"ticks\":\"\"},\"radialaxis\":{\"gridcolor\":\"white\",\"linecolor\":\"white\",\"ticks\":\"\"}},\"ternary\":{\"bgcolor\":\"#E5ECF6\",\"aaxis\":{\"gridcolor\":\"white\",\"linecolor\":\"white\",\"ticks\":\"\"},\"baxis\":{\"gridcolor\":\"white\",\"linecolor\":\"white\",\"ticks\":\"\"},\"caxis\":{\"gridcolor\":\"white\",\"linecolor\":\"white\",\"ticks\":\"\"}},\"coloraxis\":{\"colorbar\":{\"outlinewidth\":0,\"ticks\":\"\"}},\"colorscale\":{\"sequential\":[[0.0,\"#0d0887\"],[0.1111111111111111,\"#46039f\"],[0.2222222222222222,\"#7201a8\"],[0.3333333333333333,\"#9c179e\"],[0.4444444444444444,\"#bd3786\"],[0.5555555555555556,\"#d8576b\"],[0.6666666666666666,\"#ed7953\"],[0.7777777777777778,\"#fb9f3a\"],[0.8888888888888888,\"#fdca26\"],[1.0,\"#f0f921\"]],\"sequentialminus\":[[0.0,\"#0d0887\"],[0.1111111111111111,\"#46039f\"],[0.2222222222222222,\"#7201a8\"],[0.3333333333333333,\"#9c179e\"],[0.4444444444444444,\"#bd3786\"],[0.5555555555555556,\"#d8576b\"],[0.6666666666666666,\"#ed7953\"],[0.7777777777777778,\"#fb9f3a\"],[0.8888888888888888,\"#fdca26\"],[1.0,\"#f0f921\"]],\"diverging\":[[0,\"#8e0152\"],[0.1,\"#c51b7d\"],[0.2,\"#de77ae\"],[0.3,\"#f1b6da\"],[0.4,\"#fde0ef\"],[0.5,\"#f7f7f7\"],[0.6,\"#e6f5d0\"],[0.7,\"#b8e186\"],[0.8,\"#7fbc41\"],[0.9,\"#4d9221\"],[1,\"#276419\"]]},\"xaxis\":{\"gridcolor\":\"white\",\"linecolor\":\"white\",\"ticks\":\"\",\"title\":{\"standoff\":15},\"zerolinecolor\":\"white\",\"automargin\":true,\"zerolinewidth\":2},\"yaxis\":{\"gridcolor\":\"white\",\"linecolor\":\"white\",\"ticks\":\"\",\"title\":{\"standoff\":15},\"zerolinecolor\":\"white\",\"automargin\":true,\"zerolinewidth\":2},\"scene\":{\"xaxis\":{\"backgroundcolor\":\"#E5ECF6\",\"gridcolor\":\"white\",\"linecolor\":\"white\",\"showbackground\":true,\"ticks\":\"\",\"zerolinecolor\":\"white\",\"gridwidth\":2},\"yaxis\":{\"backgroundcolor\":\"#E5ECF6\",\"gridcolor\":\"white\",\"linecolor\":\"white\",\"showbackground\":true,\"ticks\":\"\",\"zerolinecolor\":\"white\",\"gridwidth\":2},\"zaxis\":{\"backgroundcolor\":\"#E5ECF6\",\"gridcolor\":\"white\",\"linecolor\":\"white\",\"showbackground\":true,\"ticks\":\"\",\"zerolinecolor\":\"white\",\"gridwidth\":2}},\"shapedefaults\":{\"line\":{\"color\":\"#2a3f5f\"}},\"annotationdefaults\":{\"arrowcolor\":\"#2a3f5f\",\"arrowhead\":0,\"arrowwidth\":1},\"geo\":{\"bgcolor\":\"white\",\"landcolor\":\"#E5ECF6\",\"subunitcolor\":\"white\",\"showland\":true,\"showlakes\":true,\"lakecolor\":\"white\"},\"title\":{\"x\":0.05},\"mapbox\":{\"style\":\"light\"}}},\"xaxis\":{\"anchor\":\"y\",\"domain\":[0.0,0.94],\"tickangle\":-45,\"title\":{\"text\":\"\\uad6c\\ubd84_\\uce35band_\\uc804\\uc6a9\\uba74\\uc801band\"}},\"yaxis\":{\"anchor\":\"x\",\"domain\":[0.0,1.0],\"title\":{\"text\":\"\\ud3c9\\uade0 \\ubcf4\\uc99d\\uae08(\\ub9cc\\uc6d0)\"}},\"yaxis2\":{\"anchor\":\"x\",\"overlaying\":\"y\",\"side\":\"right\",\"title\":{\"text\":\"\\uae08\\ub9ac\"},\"range\":[0,4]},\"title\":{\"text\":\"\\ud3c9\\uade0 \\ubcf4\\uc99d\\uae08\\uacfc \\uae08\\ub9ac\"}},                        {\"responsive\": true}                    ).then(function(){\n",
       "                            \n",
       "var gd = document.getElementById('5e59ed5d-346d-4a59-a1ee-f010fddbb2ec');\n",
       "var x = new MutationObserver(function (mutations, observer) {{\n",
       "        var display = window.getComputedStyle(gd).display;\n",
       "        if (!display || display === 'none') {{\n",
       "            console.log([gd, 'removed!']);\n",
       "            Plotly.purge(gd);\n",
       "            observer.disconnect();\n",
       "        }}\n",
       "}});\n",
       "\n",
       "// Listen for the removal of the full notebook cells\n",
       "var notebookContainer = gd.closest('#notebook-container');\n",
       "if (notebookContainer) {{\n",
       "    x.observe(notebookContainer, {childList: true});\n",
       "}}\n",
       "\n",
       "// Listen for the clearing of the current output cell\n",
       "var outputEl = gd.closest('.output');\n",
       "if (outputEl) {{\n",
       "    x.observe(outputEl, {childList: true});\n",
       "}}\n",
       "\n",
       "                        })                };                });            </script>        </div>"
      ]
     },
     "metadata": {},
     "output_type": "display_data"
    }
   ],
   "source": [
    "import plotly.graph_objs as go\n",
    "from plotly.subplots import make_subplots\n",
    "\n",
    "# 평균 보증금 그룹화\n",
    "grouped_deposit = df.groupby('구분_층band_전용면적band')['보증금(만원)'].mean()\n",
    "\n",
    "# 평균 금리 그룹화 \n",
    "grouped_interest = df.groupby('구분_층band_전용면적band')['금리'].mean()\n",
    "\n",
    "# 그래프 생성\n",
    "fig = make_subplots(specs=[[{\"secondary_y\": True}]])\n",
    "fig.add_trace(go.Bar(x=grouped_deposit.index, y=grouped_deposit.values, name='평균 보증금(만원)'))\n",
    "fig.add_trace(go.Scatter(x=grouped_interest.index, y=grouped_interest.values, mode='lines+markers', name='금리'), secondary_y=True)\n",
    "\n",
    "# 레이아웃 설정\n",
    "fig.update_layout(title='평균 보증금과 금리', xaxis_tickangle=-45)\n",
    "\n",
    "# 축 설정\n",
    "fig.update_xaxes(title_text='구분_층band_전용면적band')\n",
    "\n",
    "# 보증금 축 설정\n",
    "fig.update_yaxes(title_text='평균 보증금(만원)', secondary_y=False)\n",
    "\n",
    "# 금리 축 설정\n",
    "fig.update_yaxes(title_text='금리', secondary_y=True, range=[0, 4])  # 금리 값 범위 설정 (0 ~ 10)\n",
    "\n",
    "fig.show()\n"
   ]
  },
  {
   "cell_type": "markdown",
   "id": "db8f6d28",
   "metadata": {},
   "source": [
    "# 1-5. 계절 "
   ]
  },
  {
   "cell_type": "markdown",
   "id": "7362758f",
   "metadata": {},
   "source": [
    "# 1-5. 대통령 재임기간"
   ]
  },
  {
   "cell_type": "markdown",
   "id": "7f2df467",
   "metadata": {},
   "source": [
    "# 문제해결!"
   ]
  },
  {
   "cell_type": "markdown",
   "id": "e281acca",
   "metadata": {},
   "source": [
    "# 2-1 정권교체 시기가 전세 보증금에 영향을 주는가?\n",
    "문재인정권에서 윤석렬정권 아파트데이터 수집 비교.\n",
    "- 금리 비교\n",
    "- 보증금 그래프도 추가\n",
    "- 부동산정책도 비교\n",
    "\n",
    "# 2-2. 스타벅스, 맥도날드, 미쉐린, 백화점, 코엑스 바로 옆(100m, 200m) 바로옆에 있는 아파트들이 더 비쌀까? \n",
    "- 최대한 한 이미지에 나오고 싶다.\n"
   ]
  },
  {
   "cell_type": "markdown",
   "id": "99015a5a",
   "metadata": {},
   "source": [
    "# 2-2.  계절의 변화동안에 보증금이 변화는 어떨까?"
   ]
  },
  {
   "cell_type": "markdown",
   "id": "01940a90",
   "metadata": {},
   "source": [
    "# 2-3. 강남구에서 평균 보증금이 가장 높은 top5는 무엇일까?\n",
    "- 주요요인 분석(도메인 지식 사용)\n",
    "- 계절"
   ]
  },
  {
   "cell_type": "markdown",
   "id": "fcbd7de0",
   "metadata": {},
   "source": [
    "# 2-4. "
   ]
  },
  {
   "cell_type": "code",
   "execution_count": null,
   "id": "e40aeb98",
   "metadata": {},
   "outputs": [],
   "source": []
  }
 ],
 "metadata": {
  "kernelspec": {
   "display_name": "Python 3 (ipykernel)",
   "language": "python",
   "name": "python3"
  },
  "language_info": {
   "codemirror_mode": {
    "name": "ipython",
    "version": 3
   },
   "file_extension": ".py",
   "mimetype": "text/x-python",
   "name": "python",
   "nbconvert_exporter": "python",
   "pygments_lexer": "ipython3",
   "version": "3.10.9"
  }
 },
 "nbformat": 4,
 "nbformat_minor": 5
}
