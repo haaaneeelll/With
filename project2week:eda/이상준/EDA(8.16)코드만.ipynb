{
 "cells": [
  {
   "cell_type": "code",
   "execution_count": null,
   "id": "d6a586f4",
   "metadata": {},
   "outputs": [],
   "source": [
    "%matplotlib inline\n",
    "import numpy as np\n",
    "import pandas as pd \n",
    "import matplotlib.pyplot as plt\n",
    "import scipy.stats as stats\n",
    "import sklearn.linear_model as linear_model\n",
    "import seaborn as sns\n",
    "import xgboost as xgb\n",
    "from sklearn.model_selection import KFold\n",
    "from IPython.display import HTML, display\n",
    "from sklearn.manifold import TSNE\n",
    "from sklearn.cluster import KMeans\n",
    "from sklearn.decomposition import PCA\n",
    "from sklearn.preprocessing import StandardScaler\n",
    "\n",
    "\n",
    "pd.options.display.max_rows = 1000\n",
    "pd.options.display.max_columns = 20\n"
   ]
  },
  {
   "cell_type": "code",
   "execution_count": null,
   "id": "70eb849f",
   "metadata": {},
   "outputs": [],
   "source": [
    "import warnings\n",
    "\n",
    "# 경고 무시하기\n",
    "warnings.filterwarnings(\"ignore\")\n",
    "# unicode minus를 사용하지 않기 위한 설정 (minus 깨짐현상 방지)\n",
    "plt.rcParams['axes.unicode_minus'] = False\n",
    "plt.rcParams['font.family'] = 'Malgun Gothic'"
   ]
  },
  {
   "cell_type": "code",
   "execution_count": null,
   "id": "469d0885",
   "metadata": {},
   "outputs": [],
   "source": [
    "df = pd.read_csv('강남구전세데이터_찐마지막.csv')"
   ]
  },
  {
   "cell_type": "code",
   "execution_count": null,
   "id": "49a6889c",
   "metadata": {},
   "outputs": [],
   "source": [
    "print(df.info())"
   ]
  },
  {
   "cell_type": "code",
   "execution_count": null,
   "id": "8cedb87a",
   "metadata": {},
   "outputs": [],
   "source": [
    "print(df.describe())\n",
    "print(df.describe(include='object'))"
   ]
  },
  {
   "cell_type": "code",
   "execution_count": null,
   "id": "3f6e6e3c",
   "metadata": {},
   "outputs": [],
   "source": [
    "# (선택) 결측치 확인\n",
    "print(df.isnull().sum())\n",
    "\n",
    "# 결측치 처리 (예시: 평균값으로 대체)\n",
    "df.fillna(df.mean(), inplace=True)"
   ]
  },
  {
   "cell_type": "code",
   "execution_count": null,
   "id": "fffad2d3",
   "metadata": {},
   "outputs": [],
   "source": [
    "df"
   ]
  },
  {
   "cell_type": "code",
   "execution_count": null,
   "id": "b2445f3b",
   "metadata": {},
   "outputs": [],
   "source": [
    "# 'y' 값이 가장 큰 상위 100개의 데이터를 선택\n",
    "top_100 = df.nlargest(100, 'y')\n",
    "\n",
    "# 상위 100개 데이터의 시각화 예시\n",
    "plt.figure(figsize=(10, 6))\n",
    "sns.scatterplot(data=top_100, x='Longitude', y='Latitude', hue='y', palette='coolwarm')\n",
    "plt.title('Top 100 Properties by y Value')\n",
    "plt.xlabel('Longitude')\n",
    "plt.ylabel('Latitude')\n",
    "plt.legend(title='y')\n",
    "plt.show()"
   ]
  },
  {
   "cell_type": "code",
   "execution_count": null,
   "id": "a5757d32",
   "metadata": {},
   "outputs": [],
   "source": [
    "pip install folium"
   ]
  },
  {
   "cell_type": "code",
   "execution_count": null,
   "id": "145657f5",
   "metadata": {},
   "outputs": [],
   "source": [
    "import folium\n",
    "\n",
    "# 상위 100개 데이터 중심 좌표 계산\n",
    "center_lat = top_100['Latitude'].mean()\n",
    "center_lon = top_100['Longitude'].mean()\n",
    "\n",
    "# Folium 지도 객체 생성\n",
    "m = folium.Map(location=[center_lat, center_lon], zoom_start=12)\n",
    "\n",
    "# 상위 100개 데이터에 대한 마커 추가\n",
    "for idx, row in top_100.iterrows():\n",
    "    folium.Marker(\n",
    "        location=[row['Latitude'], row['Longitude']],\n",
    "        popup=f\"y: {row['y']}\",\n",
    "        icon=folium.Icon(color='blue')\n",
    "    ).add_to(m)\n",
    "\n",
    "# 지도를 HTML 파일로 저장\n",
    "m.save('top_100_map.html')"
   ]
  },
  {
   "cell_type": "code",
   "execution_count": null,
   "id": "86636356",
   "metadata": {},
   "outputs": [],
   "source": [
    "import folium\n",
    "\n",
    "# 상위 100개 데이터 중심 좌표 계산\n",
    "center_lat = top_100['Latitude'].mean()\n",
    "center_lon = top_100['Longitude'].mean()\n",
    "\n",
    "# Folium 지도 객체 생성\n",
    "m = folium.Map(location=[center_lat, center_lon], zoom_start=12)\n",
    "\n",
    "# 상위 100개 데이터에 대한 마커 추가\n",
    "for idx, row in top_100.iterrows():\n",
    "    folium.Marker(\n",
    "        location=[row['Latitude'], row['Longitude']],\n",
    "        popup=f\"y: {row['y']}\",\n",
    "        icon=folium.Icon(color='blue')\n",
    "    ).add_to(m)\n",
    "\n",
    "# 주피터 노트북에 지도 표시\n",
    "m"
   ]
  },
  {
   "cell_type": "code",
   "execution_count": null,
   "id": "b4ade784",
   "metadata": {},
   "outputs": [],
   "source": [
    "from folium.plugins import MarkerCluster\n",
    "\n",
    "# Folium 지도 객체 생성\n",
    "m = folium.Map(location=[center_lat, center_lon], zoom_start=12)\n",
    "\n",
    "# MarkerCluster 객체 생성\n",
    "marker_cluster = MarkerCluster().add_to(m)\n",
    "\n",
    "# 상위 100개 데이터에 대한 CircleMarker 추가\n",
    "for idx, row in top_100.iterrows():\n",
    "    folium.CircleMarker(\n",
    "        location=[row['Latitude'], row['Longitude']],\n",
    "        radius=5,\n",
    "        popup=f\"y: {row['y']}\",\n",
    "        color='blue',  # 마커의 색상은 여기서는 일정하게 지정\n",
    "        fill_color='blue',\n",
    "    ).add_to(marker_cluster)\n",
    "\n",
    "# 주피터 노트북에 지도 표시\n",
    "m"
   ]
  },
  {
   "cell_type": "code",
   "execution_count": null,
   "id": "876bb5c7",
   "metadata": {},
   "outputs": [],
   "source": [
    "from folium.plugins import HeatMap\n",
    "\n",
    "# Folium 지도 객체 생성\n",
    "m = folium.Map(location=[center_lat, center_lon], zoom_start=12)\n",
    "\n",
    "# 데이터를 (위도, 경도) 형태로 변환\n",
    "data = top_100[['Latitude', 'Longitude']].values.tolist()\n",
    "\n",
    "# Heatmap 추가\n",
    "HeatMap(data, radius=15).add_to(m)\n",
    "\n",
    "# 주피터 노트북에 지도 표시\n",
    "m"
   ]
  },
  {
   "cell_type": "code",
   "execution_count": null,
   "id": "dd440954",
   "metadata": {},
   "outputs": [],
   "source": [
    "import geopandas as gpd\n",
    "import pandas as pd\n",
    "import os\n",
    "\n",
    "path = 'emd_20230729'\n",
    "emd = gpd.read_file(os.path.join(path, 'emd.shp'), encoding='cp949')\n",
    "\n",
    "emd.crs=\"EPSG:5179\"\n",
    "\n",
    "emd['center_point'] = emd['geometry'].geometry.centroid # 선 중심\n",
    "emd['geometry'] = emd['geometry'].to_crs(epsg=4326) # 후 변환\n",
    "emd['center_point'] = emd['center_point'].to_crs(epsg=4326)\n",
    "emd['경도'] = emd['center_point'].map(lambda x: x.xy[0][0])\n",
    "emd['위도'] = emd['center_point'].map(lambda x: x.xy[1][0])\n",
    "\n",
    "geo_j = emd[emd['EMD_KOR_NM'].isin(df['Admin_District'].unique())].drop(['center_point'], axis=1).to_json()\n",
    "\n",
    "m = folium.Map(location=[df['Latitude'].mean() , df['Longitude'].mean()], zoom_start=12.5)\n",
    "\n",
    "folium.GeoJson(\n",
    "    geo_j,\n",
    "    name='지역구'\n",
    ").add_to(m)\n",
    "\n",
    "m\n"
   ]
  },
  {
   "cell_type": "code",
   "execution_count": null,
   "id": "76200937",
   "metadata": {},
   "outputs": [],
   "source": [
    "import geopandas as gpd\n",
    "import pandas as pd\n",
    "import os\n",
    "import folium\n",
    "from folium.plugins import HeatMap\n",
    "\n",
    "# GeoDataFrame 생성\n",
    "path = 'emd_20230729'\n",
    "emd = gpd.read_file(os.path.join(path, 'emd.shp'), encoding='cp949')\n",
    "\n",
    "emd.crs = \"EPSG:5179\"\n",
    "\n",
    "emd['center_point'] = emd['geometry'].geometry.centroid\n",
    "emd['geometry'] = emd['geometry'].to_crs(epsg=4326)\n",
    "emd['center_point'] = emd['center_point'].to_crs(epsg=4326)\n",
    "emd['경도'] = emd['center_point'].map(lambda x: x.xy[0][0])\n",
    "emd['위도'] = emd['center_point'].map(lambda x: x.xy[1][0])\n",
    "\n",
    "# Folium 지도 객체 생성\n",
    "m = folium.Map(location=[df['Latitude'].mean(), df['Longitude'].mean()], zoom_start=12.5)\n",
    "\n",
    "# 지역구 경계 데이터 표시\n",
    "for idx, row in emd.iterrows():\n",
    "    if row['geometry'].geom_type == 'Polygon':\n",
    "        folium.Polygon(\n",
    "            locations=row['geometry'].exterior.coords,\n",
    "            color='black',\n",
    "            fill_color='white',\n",
    "            fill_opacity=0.3,\n",
    "            weight=1\n",
    "        ).add_to(m)\n",
    "    elif row['geometry'].geom_type == 'MultiPolygon':\n",
    "        for polygon in row['geometry'].geoms:\n",
    "            folium.Polygon(\n",
    "                locations=polygon.exterior.coords,\n",
    "                color='black',\n",
    "                fill_color='white',\n",
    "                fill_opacity=0.3,\n",
    "                weight=1\n",
    "            ).add_to(m)\n",
    "\n",
    "# 데이터를 (위도, 경도) 형태로 변환\n",
    "data = top_100[['Latitude', 'Longitude']].values.tolist()\n",
    "\n",
    "# Heatmap 추가\n",
    "HeatMap(data, radius=15).add_to(m)\n",
    "\n",
    "# GeoJSON 지역구 경계 추가\n",
    "geo_j = emd[emd['EMD_KOR_NM'].isin(df['Admin_District'].unique())].drop(['center_point'], axis=1).to_json()\n",
    "folium.GeoJson(\n",
    "    geo_j,\n",
    "    name='지역구'\n",
    ").add_to(m)\n",
    "\n",
    "# 주피터 노트북에 지도 표시\n",
    "m"
   ]
  },
  {
   "cell_type": "code",
   "execution_count": null,
   "id": "e1f70fe0",
   "metadata": {},
   "outputs": [],
   "source": []
  },
  {
   "cell_type": "code",
   "execution_count": null,
   "id": "326354f8",
   "metadata": {},
   "outputs": [],
   "source": []
  },
  {
   "cell_type": "code",
   "execution_count": null,
   "id": "d79bee69",
   "metadata": {},
   "outputs": [],
   "source": []
  },
  {
   "cell_type": "code",
   "execution_count": null,
   "id": "f732fc67",
   "metadata": {},
   "outputs": [],
   "source": []
  },
  {
   "cell_type": "code",
   "execution_count": null,
   "id": "39bc60e9",
   "metadata": {},
   "outputs": [],
   "source": []
  },
  {
   "cell_type": "code",
   "execution_count": null,
   "id": "dcb6a2b9",
   "metadata": {},
   "outputs": [],
   "source": []
  }
 ],
 "metadata": {
  "kernelspec": {
   "display_name": "Python 3 (ipykernel)",
   "language": "python",
   "name": "python3"
  },
  "language_info": {
   "codemirror_mode": {
    "name": "ipython",
    "version": 3
   },
   "file_extension": ".py",
   "mimetype": "text/x-python",
   "name": "python",
   "nbconvert_exporter": "python",
   "pygments_lexer": "ipython3",
   "version": "3.9.13"
  }
 },
 "nbformat": 4,
 "nbformat_minor": 5
}
